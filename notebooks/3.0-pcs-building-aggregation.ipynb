{
 "cells": [
  {
   "cell_type": "code",
   "execution_count": 1,
   "id": "8f3dccef",
   "metadata": {},
   "outputs": [
    {
     "data": {
      "text/html": [
       "<style>.container { width:90% !important; }</style>"
      ],
      "text/plain": [
       "<IPython.core.display.HTML object>"
      ]
     },
     "metadata": {},
     "output_type": "display_data"
    }
   ],
   "source": [
    "from IPython.display import display, HTML\n",
    "display(HTML(\"<style>.container { width:90% !important; }</style>\"))\n",
    "\n",
    "from matplotlib import pyplot as plt\n",
    "import seaborn as sns\n",
    "import pandas as pd\n",
    "import numpy as np"
   ]
  },
  {
   "cell_type": "markdown",
   "id": "26967221",
   "metadata": {},
   "source": [
    "Quitar los casetones.\n",
    "Quitar las plantas con muros de contención?\n",
    "\n",
    "Cuanto más alto es el edificio, mayor es la carga en los muros y los pilares.\n",
    "Los muros de contención suben mucho los kg y cuanto más profundo más kg/m2 de muro y por tanto más kg/m2 totales."
   ]
  },
  {
   "cell_type": "code",
   "execution_count": 2,
   "id": "20ab65a1",
   "metadata": {},
   "outputs": [],
   "source": [
    "df = pd.read_csv('../data/split/train.csv', sep=';', index_col=0)"
   ]
  },
  {
   "cell_type": "code",
   "execution_count": 3,
   "id": "5cc15769",
   "metadata": {
    "scrolled": true
   },
   "outputs": [
    {
     "name": "stdout",
     "output_type": "stream",
     "text": [
      "<class 'pandas.core.frame.DataFrame'>\n",
      "Int64Index: 18969 entries, 0 to 22635\n",
      "Data columns (total 63 columns):\n",
      " #   Column                  Non-Null Count  Dtype  \n",
      "---  ------                  --------------  -----  \n",
      " 0   floor_name              18969 non-null  object \n",
      " 1   project_code            18969 non-null  object \n",
      " 2   floor_code              18969 non-null  object \n",
      " 3   slab_type               18969 non-null  object \n",
      " 4   depth                   18969 non-null  float64\n",
      " 5   floor_number            18969 non-null  int64  \n",
      " 6   total_height            18969 non-null  float64\n",
      " 7   level                   18969 non-null  float64\n",
      " 8   height                  18969 non-null  float64\n",
      " 9   foundation_height       18969 non-null  float64\n",
      " 10  support_column          18969 non-null  int64  \n",
      " 11  unsupported_column      18969 non-null  int64  \n",
      " 12  walls_number            18969 non-null  int64  \n",
      " 13  retaining_walls_number  18969 non-null  int64  \n",
      " 14  inter_axis_distance     18969 non-null  float64\n",
      " 15  LL                      18969 non-null  float64\n",
      " 16  DL                      18969 non-null  float64\n",
      " 17  LL_max                  18969 non-null  float64\n",
      " 18  DL_max                  18969 non-null  float64\n",
      " 19  wind_load_x             18969 non-null  float64\n",
      " 20  wind_load_y             18969 non-null  float64\n",
      " 21  seismic_acc             18969 non-null  float64\n",
      " 22  double_height           18969 non-null  float64\n",
      " 23  flat_slab_area          18969 non-null  float64\n",
      " 24  waffle_slab_area        18969 non-null  float64\n",
      " 25  drop_panel_area         18969 non-null  float64\n",
      " 26  domes_area              18969 non-null  float64\n",
      " 27  support_area            18969 non-null  float64\n",
      " 28  shape_factor            18969 non-null  float64\n",
      " 29  x_length                18969 non-null  float64\n",
      " 30  y_length                18969 non-null  float64\n",
      " 31  stair_area              18969 non-null  float64\n",
      " 32  slope_area              18969 non-null  float64\n",
      " 33  walls_area              18969 non-null  float64\n",
      " 34  retaining_walls_area    18969 non-null  float64\n",
      " 35  foundation_type         18969 non-null  object \n",
      " 36  concrete_m3_ratio       18969 non-null  float64\n",
      " 37  reinf_steel_ratio       18969 non-null  float64\n",
      " 38  domes_number            18969 non-null  int64  \n",
      " 39  deflection_ratio        18969 non-null  int64  \n",
      " 40  elasticiti_modulii      18969 non-null  float64\n",
      " 41  cdm_x                   18969 non-null  float64\n",
      " 42  cdm_y                   18969 non-null  float64\n",
      " 43  cdr_x                   18969 non-null  float64\n",
      " 44  cdr_y                   18969 non-null  float64\n",
      " 45  concrete_code           18969 non-null  object \n",
      " 46  load_code               18969 non-null  object \n",
      " 47  wind_code               18969 non-null  object \n",
      " 48  seismic_code            18969 non-null  object \n",
      " 49  support_mean_span_dist  18969 non-null  float64\n",
      " 50  support_max_span_dist   18969 non-null  float64\n",
      " 51  support_min_span_dist   18969 non-null  float64\n",
      " 52  cantilever_mean_dist    18967 non-null  float64\n",
      " 53  cantilever_max_dist     18969 non-null  float64\n",
      " 54  cantilever_min_dist     18969 non-null  float64\n",
      " 55  cantilever_area         18969 non-null  float64\n",
      " 56  span_dists              18969 non-null  object \n",
      " 57  cantilever_dists        18969 non-null  object \n",
      " 58  center_x                18969 non-null  float64\n",
      " 59  center_y                18969 non-null  float64\n",
      " 60  slab_total_area         18969 non-null  float64\n",
      " 61  triple_height           18969 non-null  float64\n",
      " 62  reinf_steel_ratio_cat   18969 non-null  object \n",
      "dtypes: float64(44), int64(7), object(12)\n",
      "memory usage: 9.3+ MB\n"
     ]
    }
   ],
   "source": [
    "df.info()"
   ]
  },
  {
   "cell_type": "code",
   "execution_count": 4,
   "id": "056f8566",
   "metadata": {},
   "outputs": [],
   "source": [
    "df['reinf_steel_total'] = df['reinf_steel_ratio'] * df['slab_total_area']\n",
    "df['concrete_m3_total'] = df['concrete_m3_ratio'] * df['slab_total_area']"
   ]
  },
  {
   "cell_type": "markdown",
   "id": "6001677b",
   "metadata": {},
   "source": [
    "## Aggregar características de las plantas"
   ]
  },
  {
   "cell_type": "code",
   "execution_count": 5,
   "id": "90862d21",
   "metadata": {},
   "outputs": [],
   "source": [
    "agg_dict = {\n",
    "    # General\n",
    "    'foundation_type': 'last',\n",
    "    'concrete_m3_total': 'sum',\n",
    "    'concrete_code': 'last',\n",
    "    'load_code': 'last',\n",
    "    'wind_code': 'last',\n",
    "    'seismic_code': 'last',\n",
    "    # Alturas\n",
    "    'floor_number': 'last', \n",
    "    'total_height': 'last', \n",
    "    'height': 'sum',\n",
    "    'foundation_height': 'last',\n",
    "    'double_height': 'sum',\n",
    "    'triple_height': 'sum',\n",
    "    # Soportes\n",
    "    'support_column': 'sum',\n",
    "    'unsupported_column': 'sum', \n",
    "    'walls_number': 'sum',\n",
    "    'retaining_walls_number': 'sum',\n",
    "    'support_area': 'sum',\n",
    "    'walls_area': 'sum',\n",
    "    'retaining_walls_area': 'sum', \n",
    "    # Cargas\n",
    "    'LL': 'median', \n",
    "    'DL': 'median', \n",
    "    'LL_max': 'median',\n",
    "    'DL_max': 'median', \n",
    "    'wind_load_x': 'median',\n",
    "    'wind_load_y': 'median',\n",
    "    'seismic_acc': 'median',\n",
    "    # Forjados\n",
    "    'slab_total_area': 'sum',\n",
    "    'flat_slab_area': 'sum', \n",
    "    'waffle_slab_area': 'sum',\n",
    "    'depth': 'median', \n",
    "    'drop_panel_area': 'sum', \n",
    "    'domes_area': 'sum',\n",
    "    'domes_number': 'sum',\n",
    "    'inter_axis_distance': 'last',\n",
    "    # Forma\n",
    "    'shape_factor': 'median',\n",
    "    'x_length': 'median', \n",
    "    'y_length': 'median',\n",
    "    'center_x': 'median',\n",
    "    'center_y': 'median',\n",
    "    'cdm_x': 'median',\n",
    "    'cdm_y': 'median',\n",
    "    'cdr_x': 'median',\n",
    "    'cdr_y': 'median',\n",
    "    # Objetivo\n",
    "    'reinf_steel_total': 'sum',\n",
    "}"
   ]
  },
  {
   "cell_type": "code",
   "execution_count": 6,
   "id": "0b20615b",
   "metadata": {},
   "outputs": [],
   "source": [
    "b_df = df[['project_code']+list(agg_dict.keys())].groupby(by='project_code').agg(agg_dict)\n",
    "b_df['reinf_steel_ratio'] = b_df['reinf_steel_total'] / b_df['slab_total_area']\n",
    "b_df['concrete_m3_ratio'] = b_df['concrete_m3_total'] / b_df['slab_total_area']\n",
    "del b_df['reinf_steel_total']\n",
    "del b_df['concrete_m3_total']\n",
    "b_df.reset_index(inplace=True)\n",
    "# ori_cond = b_df['project_code'].str.contains('_C00_I00_H00_Q00_R00_V00_S00_O01')\n",
    "# b_df = b_df[ori_cond].copy()\n",
    "del b_df['project_code']"
   ]
  },
  {
   "cell_type": "code",
   "execution_count": 7,
   "id": "fb2a63b8",
   "metadata": {},
   "outputs": [
    {
     "data": {
      "text/plain": [
       "reinf_steel_ratio       1.000000\n",
       "concrete_m3_ratio       0.516944\n",
       "total_height            0.480227\n",
       "height                  0.479151\n",
       "walls_area              0.238914\n",
       "support_area            0.232062\n",
       "retaining_walls_area    0.184468\n",
       "DL                      0.165128\n",
       "LL_max                  0.143626\n",
       "drop_panel_area         0.117846\n",
       "Name: reinf_steel_ratio, dtype: float64"
      ]
     },
     "execution_count": 7,
     "metadata": {},
     "output_type": "execute_result"
    }
   ],
   "source": [
    "corr_matrix = b_df.select_dtypes(include=['float64']).corr()\n",
    "corr_matrix[\"reinf_steel_ratio\"].sort_values(ascending=False)[:10]"
   ]
  },
  {
   "cell_type": "code",
   "execution_count": 8,
   "id": "3678a55e",
   "metadata": {},
   "outputs": [
    {
     "data": {
      "text/plain": [
       "x_length            -0.326055\n",
       "shape_factor        -0.300806\n",
       "y_length            -0.249681\n",
       "foundation_height   -0.235096\n",
       "cdr_y               -0.086871\n",
       "center_y            -0.086461\n",
       "cdm_y               -0.073267\n",
       "flat_slab_area      -0.070369\n",
       "cdm_x               -0.064210\n",
       "center_x            -0.050735\n",
       "Name: reinf_steel_ratio, dtype: float64"
      ]
     },
     "execution_count": 8,
     "metadata": {},
     "output_type": "execute_result"
    }
   ],
   "source": [
    "corr_matrix[\"reinf_steel_ratio\"].sort_values(ascending=True)[:10]"
   ]
  },
  {
   "cell_type": "code",
   "execution_count": 9,
   "id": "58f06d28",
   "metadata": {},
   "outputs": [],
   "source": [
    "b_df['eccentricity'] = ((b_df['cdm_x'] - b_df['cdr_x'])*(b_df['cdm_x'] - b_df['cdr_x']) + \n",
    "                      (b_df['cdm_y'] - b_df['cdr_y']) * (b_df['cdm_y'] - b_df['cdr_y']))**0.5"
   ]
  },
  {
   "cell_type": "code",
   "execution_count": 10,
   "id": "db72c7ce",
   "metadata": {},
   "outputs": [],
   "source": [
    "b_df['eccentricity_b'] = ((b_df['cdm_x'] - b_df['center_x'])*(b_df['cdm_x'] - b_df['center_x']) + \n",
    "                      (b_df['cdm_y'] - b_df['center_y']) * (b_df['cdm_y'] - b_df['center_y']))**0.5"
   ]
  },
  {
   "cell_type": "code",
   "execution_count": 11,
   "id": "31f48b09",
   "metadata": {},
   "outputs": [],
   "source": [
    "b_df['eccentricity_c'] = ((b_df['center_x'] - b_df['cdr_x'])*(b_df['center_x'] - b_df['cdr_x']) + \n",
    "                      (b_df['center_y'] - b_df['cdr_y']) * (b_df['center_y'] - b_df['cdr_y']))**0.5"
   ]
  },
  {
   "cell_type": "code",
   "execution_count": 12,
   "id": "054d7d31",
   "metadata": {},
   "outputs": [
    {
     "data": {
      "text/plain": [
       "reinf_steel_ratio    1.000000\n",
       "eccentricity         0.031834\n",
       "eccentricity_b       0.030691\n",
       "eccentricity_c      -0.063860\n",
       "Name: reinf_steel_ratio, dtype: float64"
      ]
     },
     "execution_count": 12,
     "metadata": {},
     "output_type": "execute_result"
    }
   ],
   "source": [
    "corr_matrix = b_df[['eccentricity', 'eccentricity_b', 'eccentricity_c', \"reinf_steel_ratio\"]].corr()\n",
    "corr_matrix[\"reinf_steel_ratio\"].sort_values(ascending=False)[:10]"
   ]
  },
  {
   "cell_type": "markdown",
   "id": "bd43b9d7",
   "metadata": {},
   "source": [
    "## Modelo sin procesar características\n",
    "\n",
    "### Preparando los datos"
   ]
  },
  {
   "cell_type": "code",
   "execution_count": 10,
   "id": "ba0d08de",
   "metadata": {},
   "outputs": [],
   "source": [
    "from sklearn.preprocessing import OneHotEncoder, FunctionTransformer, StandardScaler\n",
    "from sklearn.impute import SimpleImputer\n",
    "from sklearn.pipeline import make_pipeline\n",
    "from sklearn.compose import make_column_selector, ColumnTransformer, TransformedTargetRegressor"
   ]
  },
  {
   "cell_type": "code",
   "execution_count": 11,
   "id": "07c9e330",
   "metadata": {},
   "outputs": [],
   "source": [
    "cat_pipeline = make_pipeline(\n",
    "    SimpleImputer(strategy=\"most_frequent\"),\n",
    "    OneHotEncoder(handle_unknown=\"ignore\"))\n",
    "\n",
    "default_num_pipeline = make_pipeline(SimpleImputer(strategy=\"median\"),\n",
    "                                     StandardScaler())\n",
    "\n",
    "preprocessing = ColumnTransformer([\n",
    "        (\"cat\", cat_pipeline, make_column_selector(dtype_include=object)),\n",
    "    ],\n",
    "    remainder=default_num_pipeline) "
   ]
  },
  {
   "cell_type": "markdown",
   "id": "cafcc787",
   "metadata": {},
   "source": [
    "### Entrenando el modelo"
   ]
  },
  {
   "cell_type": "code",
   "execution_count": 12,
   "id": "dc288940",
   "metadata": {},
   "outputs": [
    {
     "data": {
      "text/plain": [
       "Index(['foundation_type', 'concrete_code', 'load_code', 'wind_code',\n",
       "       'seismic_code', 'floor_number', 'total_height', 'height',\n",
       "       'foundation_height', 'double_height', 'triple_height', 'support_column',\n",
       "       'unsupported_column', 'walls_number', 'retaining_walls_number',\n",
       "       'support_area', 'walls_area', 'retaining_walls_area', 'LL', 'DL',\n",
       "       'LL_max', 'DL_max', 'wind_load_x', 'wind_load_y', 'seismic_acc',\n",
       "       'slab_total_area', 'flat_slab_area', 'waffle_slab_area', 'depth',\n",
       "       'drop_panel_area', 'domes_area', 'domes_number', 'inter_axis_distance',\n",
       "       'shape_factor', 'x_length', 'y_length', 'center_x', 'center_y', 'cdm_x',\n",
       "       'cdm_y', 'cdr_x', 'cdr_y', 'reinf_steel_ratio', 'concrete_m3_ratio',\n",
       "       'eccentricity'],\n",
       "      dtype='object')"
      ]
     },
     "execution_count": 12,
     "metadata": {},
     "output_type": "execute_result"
    }
   ],
   "source": [
    "b_df.columns"
   ]
  },
  {
   "cell_type": "code",
   "execution_count": 13,
   "id": "89d7977c",
   "metadata": {},
   "outputs": [],
   "source": [
    "b_df = b_df.drop(['center_x', 'center_y', 'cdm_x', 'cdm_y', 'cdr_x', 'cdr_y'], axis=1)"
   ]
  },
  {
   "cell_type": "code",
   "execution_count": 14,
   "id": "3a874dc7",
   "metadata": {},
   "outputs": [],
   "source": [
    "X = b_df.drop(\"reinf_steel_ratio\", axis=1)\n",
    "y = b_df[\"reinf_steel_ratio\"].copy()"
   ]
  },
  {
   "cell_type": "code",
   "execution_count": 15,
   "id": "9b3f2795",
   "metadata": {},
   "outputs": [
    {
     "data": {
      "text/plain": [
       "Index(['foundation_type', 'concrete_code', 'load_code', 'wind_code',\n",
       "       'seismic_code', 'floor_number', 'total_height', 'height',\n",
       "       'foundation_height', 'double_height', 'triple_height', 'support_column',\n",
       "       'unsupported_column', 'walls_number', 'retaining_walls_number',\n",
       "       'support_area', 'walls_area', 'retaining_walls_area', 'LL', 'DL',\n",
       "       'LL_max', 'DL_max', 'wind_load_x', 'wind_load_y', 'seismic_acc',\n",
       "       'slab_total_area', 'flat_slab_area', 'waffle_slab_area', 'depth',\n",
       "       'drop_panel_area', 'domes_area', 'domes_number', 'inter_axis_distance',\n",
       "       'shape_factor', 'x_length', 'y_length', 'concrete_m3_ratio',\n",
       "       'eccentricity'],\n",
       "      dtype='object')"
      ]
     },
     "execution_count": 15,
     "metadata": {},
     "output_type": "execute_result"
    }
   ],
   "source": [
    "X.columns"
   ]
  },
  {
   "cell_type": "markdown",
   "id": "0e941aa7",
   "metadata": {},
   "source": [
    "#### Linear Regression"
   ]
  },
  {
   "cell_type": "code",
   "execution_count": 16,
   "id": "cec8ec96",
   "metadata": {},
   "outputs": [],
   "source": [
    "from sklearn.linear_model import LinearRegression\n",
    "from sklearn.model_selection import cross_val_score\n",
    "from sklearn.metrics import mean_absolute_percentage_error, make_scorer\n",
    "\n",
    "lin_reg = TransformedTargetRegressor(make_pipeline(preprocessing, LinearRegression()), transformer=StandardScaler())\n",
    "# lin_reg_rmses = -cross_val_score(lin_reg, X, y, scoring=\"neg_root_mean_squared_error\", cv=10)\n",
    "lin_reg_mapes = cross_val_score(lin_reg, X, y, scoring=make_scorer(mean_absolute_percentage_error), cv=10)"
   ]
  },
  {
   "cell_type": "code",
   "execution_count": 17,
   "id": "8cc01162",
   "metadata": {},
   "outputs": [
    {
     "data": {
      "text/plain": [
       "count    1.000000e+01\n",
       "mean     1.390405e+09\n",
       "std      4.396848e+09\n",
       "min      9.180133e-02\n",
       "25%      1.079031e-01\n",
       "50%      1.189385e-01\n",
       "75%      1.394855e-01\n",
       "max      1.390405e+10\n",
       "dtype: float64"
      ]
     },
     "execution_count": 17,
     "metadata": {},
     "output_type": "execute_result"
    }
   ],
   "source": [
    "pd.Series(lin_reg_mapes).describe()"
   ]
  },
  {
   "cell_type": "markdown",
   "id": "257184e6",
   "metadata": {},
   "source": [
    "#### RandomForestRegressor"
   ]
  },
  {
   "cell_type": "code",
   "execution_count": 101,
   "id": "cfdc1e7e",
   "metadata": {},
   "outputs": [
    {
     "name": "stdout",
     "output_type": "stream",
     "text": [
      "CPU times: user 20.5 s, sys: 5.09 ms, total: 20.6 s\n",
      "Wall time: 20.5 s\n"
     ]
    }
   ],
   "source": [
    "%%time\n",
    "from sklearn.ensemble import RandomForestRegressor\n",
    "\n",
    "# forest_reg = make_pipeline(preprocessing,\n",
    "#                           RandomForestRegressor(random_state=42))\n",
    "forest_reg = TransformedTargetRegressor(make_pipeline(preprocessing, RandomForestRegressor(random_state=42)), transformer=StandardScaler())\n",
    "forest_reg_mapes = cross_val_score(forest_reg, X, y, scoring=make_scorer(mean_absolute_percentage_error), cv=10)"
   ]
  },
  {
   "cell_type": "code",
   "execution_count": 102,
   "id": "10230c91",
   "metadata": {},
   "outputs": [
    {
     "data": {
      "text/plain": [
       "count    10.000000\n",
       "mean      0.105819\n",
       "std       0.014725\n",
       "min       0.085567\n",
       "25%       0.096205\n",
       "50%       0.101149\n",
       "75%       0.117513\n",
       "max       0.129586\n",
       "dtype: float64"
      ]
     },
     "execution_count": 102,
     "metadata": {},
     "output_type": "execute_result"
    }
   ],
   "source": [
    "pd.Series(forest_reg_mapes).describe()"
   ]
  },
  {
   "cell_type": "code",
   "execution_count": 66,
   "id": "450c244a",
   "metadata": {},
   "outputs": [],
   "source": [
    "forest_model = forest_reg.fit(X, y)"
   ]
  },
  {
   "cell_type": "code",
   "execution_count": 67,
   "id": "ac3df791",
   "metadata": {},
   "outputs": [
    {
     "data": {
      "text/plain": [
       "{'columntransformer': ColumnTransformer(remainder=Pipeline(steps=[('simpleimputer',\n",
       "                                              SimpleImputer(strategy='median')),\n",
       "                                             ('standardscaler',\n",
       "                                              StandardScaler())]),\n",
       "                   transformers=[('cat',\n",
       "                                  Pipeline(steps=[('simpleimputer',\n",
       "                                                   SimpleImputer(strategy='most_frequent')),\n",
       "                                                  ('onehotencoder',\n",
       "                                                   OneHotEncoder(handle_unknown='ignore'))]),\n",
       "                                  <sklearn.compose._column_transformer.make_column_selector object at 0x7f787a25e260>)]),\n",
       " 'randomforestregressor': RandomForestRegressor(random_state=42)}"
      ]
     },
     "execution_count": 67,
     "metadata": {},
     "output_type": "execute_result"
    }
   ],
   "source": [
    "forest_model.named_steps"
   ]
  },
  {
   "cell_type": "code",
   "execution_count": 68,
   "id": "84da026a",
   "metadata": {
    "scrolled": false
   },
   "outputs": [
    {
     "data": {
      "text/plain": [
       "[(0.2451354012111266, 'remainder__total_height'),\n",
       " (0.07068809048950607, 'remainder__slab_total_area_height'),\n",
       " (0.04911738518127803, 'remainder__concrete_m3_ratio'),\n",
       " (0.04388864580908026, 'remainder__support_area_m2'),\n",
       " (0.040554871380218724, 'remainder__height'),\n",
       " (0.038212372657004556, 'remainder__slab_area_mean'),\n",
       " (0.03629090086122097, 'remainder__wind_load_x'),\n",
       " (0.03388196140586034, 'remainder__total_load'),\n",
       " (0.030376351360040688, 'remainder__drop_panel_area_m2'),\n",
       " (0.027084217624919905, 'remainder__height_mean'),\n",
       " (0.024846939880225814, 'remainder__domes_area_m2'),\n",
       " (0.02120106092667191, 'cat__concrete_code_CBH-87'),\n",
       " (0.017979219056407605, 'remainder__wind_load_y'),\n",
       " (0.017269465651936752, 'remainder__eccentricity_b'),\n",
       " (0.016721149850081024, 'remainder__eccentricity_c'),\n",
       " (0.01621072909306345, 'remainder__x_length_m2'),\n",
       " (0.015812190709892582, 'remainder__LL_max'),\n",
       " (0.015646534265091966, 'remainder__support_column'),\n",
       " (0.014158984660223979, 'remainder__eccentricity_m2'),\n",
       " (0.011895117216295001, 'remainder__walls_area_m2'),\n",
       " (0.01133222181523416, 'remainder__eccentricity_perimeter'),\n",
       " (0.011061103589255248, 'remainder__eccentricity_length'),\n",
       " (0.009601881068574358, 'cat__load_code_CTE-DB-SE-AE'),\n",
       " (0.009471632633738195, 'remainder__shape_factor'),\n",
       " (0.009402923486116125, 'remainder__drop_panel_area'),\n",
       " (0.009330076644179392, 'remainder__depth'),\n",
       " (0.008655222506259353, 'remainder__underground_height'),\n",
       " (0.008422262663928636, 'cat__load_code_NB-1225001'),\n",
       " (0.008385138603142321, 'remainder__foundation_height'),\n",
       " (0.007797153598091645, 'remainder__domes_number'),\n",
       " (0.007735962685570669, 'remainder__LL'),\n",
       " (0.007275837697232592, 'remainder__eccentricity'),\n",
       " (0.007242514265634694, 'cat__concrete_code_NB-1225001-1 (ACI)'),\n",
       " (0.007213957792880325, 'remainder__seismic_acc'),\n",
       " (0.0071868152348369355, 'remainder__y_length'),\n",
       " (0.007157034901481841, 'remainder__domes_area'),\n",
       " (0.007067872289468602, 'remainder__max_length'),\n",
       " (0.0070005497197129785, 'remainder__support_area'),\n",
       " (0.0062252059450661965, 'remainder__walls_number'),\n",
       " (0.005567975086344153, 'remainder__x_length'),\n",
       " (0.005009798239144287, 'remainder__unsupported_column'),\n",
       " (0.004605121728316358, 'remainder__flat_slab_area'),\n",
       " (0.0041607472420723225, 'remainder__DL_max'),\n",
       " (0.004074015242235806, 'remainder__walls_area'),\n",
       " (0.0039018215843823327, 'remainder__DL'),\n",
       " (0.0033687201900533007, 'remainder__floor_number'),\n",
       " (0.0030446627614841002, 'remainder__retaining_walls_area_m2'),\n",
       " (0.0026316923936117232, 'remainder__waffle_slab_area'),\n",
       " (0.0025874547525708714, 'remainder__waffle_slab_area_m2'),\n",
       " (0.0021675698921354517, 'remainder__retaining_walls_area'),\n",
       " (0.0021260606362482723, 'remainder__inter_axis_distance'),\n",
       " (0.0020076213120570436, 'remainder__slab_total_area'),\n",
       " (0.0017813848096132248, 'remainder__flat_slab_area_m2'),\n",
       " (0.0017307158655183723, 'remainder__retaining_walls_number'),\n",
       " (0.001272070948139972, 'cat__foundation_type_PILES'),\n",
       " (0.0010211320905498698, 'cat__concrete_code_EHE-08'),\n",
       " (0.0007238615466510902, 'cat__foundation_type_GROUNDSLAB'),\n",
       " (0.0007171379514697929, 'cat__wind_code_NB-1225003'),\n",
       " (0.0006781858957198399, 'cat__wind_code_NP'),\n",
       " (0.0006720679339698306, 'cat__seismic_code_SIN SISMO'),\n",
       " (0.0005785406372560461, 'remainder__double_height'),\n",
       " (0.00050434780282874, 'cat__seismic_code_NCSE-94'),\n",
       " (0.0002838713855919331, 'remainder__triple_height'),\n",
       " (0.0002464387911000029, 'cat__foundation_type_FOOTING'),\n",
       " (2.685038478294537e-08, 'cat__wind_code_UNIT 50-84')]"
      ]
     },
     "execution_count": 68,
     "metadata": {},
     "output_type": "execute_result"
    }
   ],
   "source": [
    "sorted(zip(forest_model['randomforestregressor'].feature_importances_, preprocessing.get_feature_names_out()), reverse=True)"
   ]
  },
  {
   "cell_type": "markdown",
   "id": "f7e7cca3",
   "metadata": {},
   "source": [
    "#### Histogram-Based Gradient Boosting"
   ]
  },
  {
   "cell_type": "code",
   "execution_count": 18,
   "id": "9967ffe7",
   "metadata": {},
   "outputs": [],
   "source": [
    "from sklearn.ensemble import HistGradientBoostingRegressor"
   ]
  },
  {
   "cell_type": "code",
   "execution_count": 21,
   "id": "8f22a65a",
   "metadata": {},
   "outputs": [
    {
     "name": "stdout",
     "output_type": "stream",
     "text": [
      "<class 'pandas.core.frame.DataFrame'>\n",
      "RangeIndex: 1654 entries, 0 to 1653\n",
      "Data columns (total 38 columns):\n",
      " #   Column                  Non-Null Count  Dtype  \n",
      "---  ------                  --------------  -----  \n",
      " 0   foundation_type         1654 non-null   object \n",
      " 1   concrete_code           1654 non-null   object \n",
      " 2   load_code               1654 non-null   object \n",
      " 3   wind_code               1654 non-null   object \n",
      " 4   seismic_code            1654 non-null   object \n",
      " 5   floor_number            1654 non-null   int64  \n",
      " 6   total_height            1654 non-null   float64\n",
      " 7   height                  1654 non-null   float64\n",
      " 8   foundation_height       1654 non-null   float64\n",
      " 9   double_height           1654 non-null   float64\n",
      " 10  triple_height           1654 non-null   float64\n",
      " 11  support_column          1654 non-null   int64  \n",
      " 12  unsupported_column      1654 non-null   int64  \n",
      " 13  walls_number            1654 non-null   int64  \n",
      " 14  retaining_walls_number  1654 non-null   int64  \n",
      " 15  support_area            1654 non-null   float64\n",
      " 16  walls_area              1654 non-null   float64\n",
      " 17  retaining_walls_area    1654 non-null   float64\n",
      " 18  LL                      1654 non-null   float64\n",
      " 19  DL                      1654 non-null   float64\n",
      " 20  LL_max                  1654 non-null   float64\n",
      " 21  DL_max                  1654 non-null   float64\n",
      " 22  wind_load_x             1654 non-null   float64\n",
      " 23  wind_load_y             1654 non-null   float64\n",
      " 24  seismic_acc             1654 non-null   float64\n",
      " 25  slab_total_area         1654 non-null   float64\n",
      " 26  flat_slab_area          1654 non-null   float64\n",
      " 27  waffle_slab_area        1654 non-null   float64\n",
      " 28  depth                   1654 non-null   float64\n",
      " 29  drop_panel_area         1654 non-null   float64\n",
      " 30  domes_area              1654 non-null   float64\n",
      " 31  domes_number            1654 non-null   int64  \n",
      " 32  inter_axis_distance     1654 non-null   float64\n",
      " 33  shape_factor            1654 non-null   float64\n",
      " 34  x_length                1654 non-null   float64\n",
      " 35  y_length                1654 non-null   float64\n",
      " 36  concrete_m3_ratio       1654 non-null   float64\n",
      " 37  eccentricity            1654 non-null   float64\n",
      "dtypes: float64(27), int64(6), object(5)\n",
      "memory usage: 491.2+ KB\n"
     ]
    }
   ],
   "source": [
    "X.info()"
   ]
  },
  {
   "cell_type": "code",
   "execution_count": 31,
   "id": "0a232242",
   "metadata": {},
   "outputs": [
    {
     "name": "stderr",
     "output_type": "stream",
     "text": [
      "/tmp/ipykernel_8250/2901458512.py:1: FutureWarning: In a future version, `df.iloc[:, i] = newvals` will attempt to set the values inplace instead of always setting a new array. To retain the old behavior, use either `df[df.columns[i]] = newvals` or, if columns are non-unique, `df.isetitem(i, newvals)`\n",
      "  X.loc[:, cat_names] = X.loc[:, cat_names].astype('category')\n"
     ]
    }
   ],
   "source": [
    "X.loc[:, cat_names] = X.loc[:, cat_names].astype('category')"
   ]
  },
  {
   "cell_type": "code",
   "execution_count": 39,
   "id": "1434584a",
   "metadata": {},
   "outputs": [
    {
     "ename": "ValueError",
     "evalue": "\nAll the 10 fits failed.\nIt is very likely that your model is misconfigured.\nYou can try to debug the error by setting error_score='raise'.\n\nBelow are more details about the failures:\n--------------------------------------------------------------------------------\n1 fits failed with the following error:\nTraceback (most recent call last):\n  File \"/home/pablo/miniconda3/envs/steel-ml-model/lib/python3.10/site-packages/sklearn/model_selection/_validation.py\", line 686, in _fit_and_score\n    estimator.fit(X_train, y_train, **fit_params)\n  File \"/home/pablo/miniconda3/envs/steel-ml-model/lib/python3.10/site-packages/sklearn/ensemble/_hist_gradient_boosting/gradient_boosting.py\", line 361, in fit\n    X, y = self._validate_data(X, y, dtype=[X_DTYPE], force_all_finite=False)\n  File \"/home/pablo/miniconda3/envs/steel-ml-model/lib/python3.10/site-packages/sklearn/base.py\", line 554, in _validate_data\n    X, y = check_X_y(X, y, **check_params)\n  File \"/home/pablo/miniconda3/envs/steel-ml-model/lib/python3.10/site-packages/sklearn/utils/validation.py\", line 1104, in check_X_y\n    X = check_array(\n  File \"/home/pablo/miniconda3/envs/steel-ml-model/lib/python3.10/site-packages/sklearn/utils/validation.py\", line 877, in check_array\n    array = _asarray_with_order(array, order=order, dtype=dtype, xp=xp)\n  File \"/home/pablo/miniconda3/envs/steel-ml-model/lib/python3.10/site-packages/sklearn/utils/_array_api.py\", line 185, in _asarray_with_order\n    array = numpy.asarray(array, order=order, dtype=dtype)\n  File \"/home/pablo/miniconda3/envs/steel-ml-model/lib/python3.10/site-packages/pandas/core/generic.py\", line 2070, in __array__\n    return np.asarray(self._values, dtype=dtype)\nValueError: could not convert string to float: 'GROUNDSLAB'\n\n--------------------------------------------------------------------------------\n9 fits failed with the following error:\nTraceback (most recent call last):\n  File \"/home/pablo/miniconda3/envs/steel-ml-model/lib/python3.10/site-packages/sklearn/model_selection/_validation.py\", line 686, in _fit_and_score\n    estimator.fit(X_train, y_train, **fit_params)\n  File \"/home/pablo/miniconda3/envs/steel-ml-model/lib/python3.10/site-packages/sklearn/ensemble/_hist_gradient_boosting/gradient_boosting.py\", line 361, in fit\n    X, y = self._validate_data(X, y, dtype=[X_DTYPE], force_all_finite=False)\n  File \"/home/pablo/miniconda3/envs/steel-ml-model/lib/python3.10/site-packages/sklearn/base.py\", line 554, in _validate_data\n    X, y = check_X_y(X, y, **check_params)\n  File \"/home/pablo/miniconda3/envs/steel-ml-model/lib/python3.10/site-packages/sklearn/utils/validation.py\", line 1104, in check_X_y\n    X = check_array(\n  File \"/home/pablo/miniconda3/envs/steel-ml-model/lib/python3.10/site-packages/sklearn/utils/validation.py\", line 877, in check_array\n    array = _asarray_with_order(array, order=order, dtype=dtype, xp=xp)\n  File \"/home/pablo/miniconda3/envs/steel-ml-model/lib/python3.10/site-packages/sklearn/utils/_array_api.py\", line 185, in _asarray_with_order\n    array = numpy.asarray(array, order=order, dtype=dtype)\n  File \"/home/pablo/miniconda3/envs/steel-ml-model/lib/python3.10/site-packages/pandas/core/generic.py\", line 2070, in __array__\n    return np.asarray(self._values, dtype=dtype)\nValueError: could not convert string to float: 'FOOTING'\n",
     "output_type": "error",
     "traceback": [
      "\u001b[0;31m---------------------------------------------------------------------------\u001b[0m",
      "\u001b[0;31mValueError\u001b[0m                                Traceback (most recent call last)",
      "File \u001b[0;32m<timed exec>:7\u001b[0m\n",
      "File \u001b[0;32m~/miniconda3/envs/steel-ml-model/lib/python3.10/site-packages/sklearn/model_selection/_validation.py:515\u001b[0m, in \u001b[0;36mcross_val_score\u001b[0;34m(estimator, X, y, groups, scoring, cv, n_jobs, verbose, fit_params, pre_dispatch, error_score)\u001b[0m\n\u001b[1;32m    512\u001b[0m \u001b[38;5;66;03m# To ensure multimetric format is not supported\u001b[39;00m\n\u001b[1;32m    513\u001b[0m scorer \u001b[38;5;241m=\u001b[39m check_scoring(estimator, scoring\u001b[38;5;241m=\u001b[39mscoring)\n\u001b[0;32m--> 515\u001b[0m cv_results \u001b[38;5;241m=\u001b[39m \u001b[43mcross_validate\u001b[49m\u001b[43m(\u001b[49m\n\u001b[1;32m    516\u001b[0m \u001b[43m    \u001b[49m\u001b[43mestimator\u001b[49m\u001b[38;5;241;43m=\u001b[39;49m\u001b[43mestimator\u001b[49m\u001b[43m,\u001b[49m\n\u001b[1;32m    517\u001b[0m \u001b[43m    \u001b[49m\u001b[43mX\u001b[49m\u001b[38;5;241;43m=\u001b[39;49m\u001b[43mX\u001b[49m\u001b[43m,\u001b[49m\n\u001b[1;32m    518\u001b[0m \u001b[43m    \u001b[49m\u001b[43my\u001b[49m\u001b[38;5;241;43m=\u001b[39;49m\u001b[43my\u001b[49m\u001b[43m,\u001b[49m\n\u001b[1;32m    519\u001b[0m \u001b[43m    \u001b[49m\u001b[43mgroups\u001b[49m\u001b[38;5;241;43m=\u001b[39;49m\u001b[43mgroups\u001b[49m\u001b[43m,\u001b[49m\n\u001b[1;32m    520\u001b[0m \u001b[43m    \u001b[49m\u001b[43mscoring\u001b[49m\u001b[38;5;241;43m=\u001b[39;49m\u001b[43m{\u001b[49m\u001b[38;5;124;43m\"\u001b[39;49m\u001b[38;5;124;43mscore\u001b[39;49m\u001b[38;5;124;43m\"\u001b[39;49m\u001b[43m:\u001b[49m\u001b[43m \u001b[49m\u001b[43mscorer\u001b[49m\u001b[43m}\u001b[49m\u001b[43m,\u001b[49m\n\u001b[1;32m    521\u001b[0m \u001b[43m    \u001b[49m\u001b[43mcv\u001b[49m\u001b[38;5;241;43m=\u001b[39;49m\u001b[43mcv\u001b[49m\u001b[43m,\u001b[49m\n\u001b[1;32m    522\u001b[0m \u001b[43m    \u001b[49m\u001b[43mn_jobs\u001b[49m\u001b[38;5;241;43m=\u001b[39;49m\u001b[43mn_jobs\u001b[49m\u001b[43m,\u001b[49m\n\u001b[1;32m    523\u001b[0m \u001b[43m    \u001b[49m\u001b[43mverbose\u001b[49m\u001b[38;5;241;43m=\u001b[39;49m\u001b[43mverbose\u001b[49m\u001b[43m,\u001b[49m\n\u001b[1;32m    524\u001b[0m \u001b[43m    \u001b[49m\u001b[43mfit_params\u001b[49m\u001b[38;5;241;43m=\u001b[39;49m\u001b[43mfit_params\u001b[49m\u001b[43m,\u001b[49m\n\u001b[1;32m    525\u001b[0m \u001b[43m    \u001b[49m\u001b[43mpre_dispatch\u001b[49m\u001b[38;5;241;43m=\u001b[39;49m\u001b[43mpre_dispatch\u001b[49m\u001b[43m,\u001b[49m\n\u001b[1;32m    526\u001b[0m \u001b[43m    \u001b[49m\u001b[43merror_score\u001b[49m\u001b[38;5;241;43m=\u001b[39;49m\u001b[43merror_score\u001b[49m\u001b[43m,\u001b[49m\n\u001b[1;32m    527\u001b[0m \u001b[43m\u001b[49m\u001b[43m)\u001b[49m\n\u001b[1;32m    528\u001b[0m \u001b[38;5;28;01mreturn\u001b[39;00m cv_results[\u001b[38;5;124m\"\u001b[39m\u001b[38;5;124mtest_score\u001b[39m\u001b[38;5;124m\"\u001b[39m]\n",
      "File \u001b[0;32m~/miniconda3/envs/steel-ml-model/lib/python3.10/site-packages/sklearn/model_selection/_validation.py:285\u001b[0m, in \u001b[0;36mcross_validate\u001b[0;34m(estimator, X, y, groups, scoring, cv, n_jobs, verbose, fit_params, pre_dispatch, return_train_score, return_estimator, error_score)\u001b[0m\n\u001b[1;32m    265\u001b[0m parallel \u001b[38;5;241m=\u001b[39m Parallel(n_jobs\u001b[38;5;241m=\u001b[39mn_jobs, verbose\u001b[38;5;241m=\u001b[39mverbose, pre_dispatch\u001b[38;5;241m=\u001b[39mpre_dispatch)\n\u001b[1;32m    266\u001b[0m results \u001b[38;5;241m=\u001b[39m parallel(\n\u001b[1;32m    267\u001b[0m     delayed(_fit_and_score)(\n\u001b[1;32m    268\u001b[0m         clone(estimator),\n\u001b[0;32m   (...)\u001b[0m\n\u001b[1;32m    282\u001b[0m     \u001b[38;5;28;01mfor\u001b[39;00m train, test \u001b[38;5;129;01min\u001b[39;00m cv\u001b[38;5;241m.\u001b[39msplit(X, y, groups)\n\u001b[1;32m    283\u001b[0m )\n\u001b[0;32m--> 285\u001b[0m \u001b[43m_warn_or_raise_about_fit_failures\u001b[49m\u001b[43m(\u001b[49m\u001b[43mresults\u001b[49m\u001b[43m,\u001b[49m\u001b[43m \u001b[49m\u001b[43merror_score\u001b[49m\u001b[43m)\u001b[49m\n\u001b[1;32m    287\u001b[0m \u001b[38;5;66;03m# For callabe scoring, the return type is only know after calling. If the\u001b[39;00m\n\u001b[1;32m    288\u001b[0m \u001b[38;5;66;03m# return type is a dictionary, the error scores can now be inserted with\u001b[39;00m\n\u001b[1;32m    289\u001b[0m \u001b[38;5;66;03m# the correct key.\u001b[39;00m\n\u001b[1;32m    290\u001b[0m \u001b[38;5;28;01mif\u001b[39;00m callable(scoring):\n",
      "File \u001b[0;32m~/miniconda3/envs/steel-ml-model/lib/python3.10/site-packages/sklearn/model_selection/_validation.py:367\u001b[0m, in \u001b[0;36m_warn_or_raise_about_fit_failures\u001b[0;34m(results, error_score)\u001b[0m\n\u001b[1;32m    360\u001b[0m \u001b[38;5;28;01mif\u001b[39;00m num_failed_fits \u001b[38;5;241m==\u001b[39m num_fits:\n\u001b[1;32m    361\u001b[0m     all_fits_failed_message \u001b[38;5;241m=\u001b[39m (\n\u001b[1;32m    362\u001b[0m         \u001b[38;5;124mf\u001b[39m\u001b[38;5;124m\"\u001b[39m\u001b[38;5;130;01m\\n\u001b[39;00m\u001b[38;5;124mAll the \u001b[39m\u001b[38;5;132;01m{\u001b[39;00mnum_fits\u001b[38;5;132;01m}\u001b[39;00m\u001b[38;5;124m fits failed.\u001b[39m\u001b[38;5;130;01m\\n\u001b[39;00m\u001b[38;5;124m\"\u001b[39m\n\u001b[1;32m    363\u001b[0m         \u001b[38;5;124m\"\u001b[39m\u001b[38;5;124mIt is very likely that your model is misconfigured.\u001b[39m\u001b[38;5;130;01m\\n\u001b[39;00m\u001b[38;5;124m\"\u001b[39m\n\u001b[1;32m    364\u001b[0m         \u001b[38;5;124m\"\u001b[39m\u001b[38;5;124mYou can try to debug the error by setting error_score=\u001b[39m\u001b[38;5;124m'\u001b[39m\u001b[38;5;124mraise\u001b[39m\u001b[38;5;124m'\u001b[39m\u001b[38;5;124m.\u001b[39m\u001b[38;5;130;01m\\n\u001b[39;00m\u001b[38;5;130;01m\\n\u001b[39;00m\u001b[38;5;124m\"\u001b[39m\n\u001b[1;32m    365\u001b[0m         \u001b[38;5;124mf\u001b[39m\u001b[38;5;124m\"\u001b[39m\u001b[38;5;124mBelow are more details about the failures:\u001b[39m\u001b[38;5;130;01m\\n\u001b[39;00m\u001b[38;5;132;01m{\u001b[39;00mfit_errors_summary\u001b[38;5;132;01m}\u001b[39;00m\u001b[38;5;124m\"\u001b[39m\n\u001b[1;32m    366\u001b[0m     )\n\u001b[0;32m--> 367\u001b[0m     \u001b[38;5;28;01mraise\u001b[39;00m \u001b[38;5;167;01mValueError\u001b[39;00m(all_fits_failed_message)\n\u001b[1;32m    369\u001b[0m \u001b[38;5;28;01melse\u001b[39;00m:\n\u001b[1;32m    370\u001b[0m     some_fits_failed_message \u001b[38;5;241m=\u001b[39m (\n\u001b[1;32m    371\u001b[0m         \u001b[38;5;124mf\u001b[39m\u001b[38;5;124m\"\u001b[39m\u001b[38;5;130;01m\\n\u001b[39;00m\u001b[38;5;132;01m{\u001b[39;00mnum_failed_fits\u001b[38;5;132;01m}\u001b[39;00m\u001b[38;5;124m fits failed out of a total of \u001b[39m\u001b[38;5;132;01m{\u001b[39;00mnum_fits\u001b[38;5;132;01m}\u001b[39;00m\u001b[38;5;124m.\u001b[39m\u001b[38;5;130;01m\\n\u001b[39;00m\u001b[38;5;124m\"\u001b[39m\n\u001b[1;32m    372\u001b[0m         \u001b[38;5;124m\"\u001b[39m\u001b[38;5;124mThe score on these train-test partitions for these parameters\u001b[39m\u001b[38;5;124m\"\u001b[39m\n\u001b[0;32m   (...)\u001b[0m\n\u001b[1;32m    376\u001b[0m         \u001b[38;5;124mf\u001b[39m\u001b[38;5;124m\"\u001b[39m\u001b[38;5;124mBelow are more details about the failures:\u001b[39m\u001b[38;5;130;01m\\n\u001b[39;00m\u001b[38;5;132;01m{\u001b[39;00mfit_errors_summary\u001b[38;5;132;01m}\u001b[39;00m\u001b[38;5;124m\"\u001b[39m\n\u001b[1;32m    377\u001b[0m     )\n",
      "\u001b[0;31mValueError\u001b[0m: \nAll the 10 fits failed.\nIt is very likely that your model is misconfigured.\nYou can try to debug the error by setting error_score='raise'.\n\nBelow are more details about the failures:\n--------------------------------------------------------------------------------\n1 fits failed with the following error:\nTraceback (most recent call last):\n  File \"/home/pablo/miniconda3/envs/steel-ml-model/lib/python3.10/site-packages/sklearn/model_selection/_validation.py\", line 686, in _fit_and_score\n    estimator.fit(X_train, y_train, **fit_params)\n  File \"/home/pablo/miniconda3/envs/steel-ml-model/lib/python3.10/site-packages/sklearn/ensemble/_hist_gradient_boosting/gradient_boosting.py\", line 361, in fit\n    X, y = self._validate_data(X, y, dtype=[X_DTYPE], force_all_finite=False)\n  File \"/home/pablo/miniconda3/envs/steel-ml-model/lib/python3.10/site-packages/sklearn/base.py\", line 554, in _validate_data\n    X, y = check_X_y(X, y, **check_params)\n  File \"/home/pablo/miniconda3/envs/steel-ml-model/lib/python3.10/site-packages/sklearn/utils/validation.py\", line 1104, in check_X_y\n    X = check_array(\n  File \"/home/pablo/miniconda3/envs/steel-ml-model/lib/python3.10/site-packages/sklearn/utils/validation.py\", line 877, in check_array\n    array = _asarray_with_order(array, order=order, dtype=dtype, xp=xp)\n  File \"/home/pablo/miniconda3/envs/steel-ml-model/lib/python3.10/site-packages/sklearn/utils/_array_api.py\", line 185, in _asarray_with_order\n    array = numpy.asarray(array, order=order, dtype=dtype)\n  File \"/home/pablo/miniconda3/envs/steel-ml-model/lib/python3.10/site-packages/pandas/core/generic.py\", line 2070, in __array__\n    return np.asarray(self._values, dtype=dtype)\nValueError: could not convert string to float: 'GROUNDSLAB'\n\n--------------------------------------------------------------------------------\n9 fits failed with the following error:\nTraceback (most recent call last):\n  File \"/home/pablo/miniconda3/envs/steel-ml-model/lib/python3.10/site-packages/sklearn/model_selection/_validation.py\", line 686, in _fit_and_score\n    estimator.fit(X_train, y_train, **fit_params)\n  File \"/home/pablo/miniconda3/envs/steel-ml-model/lib/python3.10/site-packages/sklearn/ensemble/_hist_gradient_boosting/gradient_boosting.py\", line 361, in fit\n    X, y = self._validate_data(X, y, dtype=[X_DTYPE], force_all_finite=False)\n  File \"/home/pablo/miniconda3/envs/steel-ml-model/lib/python3.10/site-packages/sklearn/base.py\", line 554, in _validate_data\n    X, y = check_X_y(X, y, **check_params)\n  File \"/home/pablo/miniconda3/envs/steel-ml-model/lib/python3.10/site-packages/sklearn/utils/validation.py\", line 1104, in check_X_y\n    X = check_array(\n  File \"/home/pablo/miniconda3/envs/steel-ml-model/lib/python3.10/site-packages/sklearn/utils/validation.py\", line 877, in check_array\n    array = _asarray_with_order(array, order=order, dtype=dtype, xp=xp)\n  File \"/home/pablo/miniconda3/envs/steel-ml-model/lib/python3.10/site-packages/sklearn/utils/_array_api.py\", line 185, in _asarray_with_order\n    array = numpy.asarray(array, order=order, dtype=dtype)\n  File \"/home/pablo/miniconda3/envs/steel-ml-model/lib/python3.10/site-packages/pandas/core/generic.py\", line 2070, in __array__\n    return np.asarray(self._values, dtype=dtype)\nValueError: could not convert string to float: 'FOOTING'\n"
     ]
    }
   ],
   "source": [
    "%%time\n",
    "# hgbr_reg = make_pipeline(preprocessing, \n",
    "#                            HistGradientBoostingRegressor(random_state=42))\n",
    "# hgbr_reg = TransformedTargetRegressor(hgbr_reg, transformer=StandardScaler())\n",
    "# cat_names = ['foundation_type', 'concrete_code', 'load_code', 'wind_code', 'seismic_code']\n",
    "cat_names = [0, 1, 2, 3, 4]\n",
    "hgbr_reg = HistGradientBoostingRegressor(categorical_features=cat_names, random_state=42)\n",
    "hgbr_reg_mapes = cross_val_score(hgbr_reg, X, y, scoring=make_scorer(mean_absolute_percentage_error), cv=10)"
   ]
  },
  {
   "cell_type": "code",
   "execution_count": 104,
   "id": "fc8219e6",
   "metadata": {},
   "outputs": [
    {
     "data": {
      "text/plain": [
       "count    10.000000\n",
       "mean      0.093372\n",
       "std       0.009290\n",
       "min       0.077375\n",
       "25%       0.088488\n",
       "50%       0.092711\n",
       "75%       0.095837\n",
       "max       0.112043\n",
       "dtype: float64"
      ]
     },
     "execution_count": 104,
     "metadata": {},
     "output_type": "execute_result"
    }
   ],
   "source": [
    "pd.Series(hgbr_reg_mapes).describe()"
   ]
  },
  {
   "cell_type": "markdown",
   "id": "1e3e4266",
   "metadata": {},
   "source": [
    "### SVR "
   ]
  },
  {
   "cell_type": "code",
   "execution_count": 72,
   "id": "7f503134",
   "metadata": {},
   "outputs": [],
   "source": [
    "from sklearn.svm import SVR"
   ]
  },
  {
   "cell_type": "code",
   "execution_count": 105,
   "id": "afd92481",
   "metadata": {},
   "outputs": [
    {
     "name": "stdout",
     "output_type": "stream",
     "text": [
      "CPU times: user 1.02 s, sys: 0 ns, total: 1.02 s\n",
      "Wall time: 1.02 s\n"
     ]
    }
   ],
   "source": [
    "%%time\n",
    "svr = make_pipeline(preprocessing, SVR())\n",
    "svr = TransformedTargetRegressor(svr, transformer=StandardScaler())\n",
    "svr_mapes = cross_val_score(svr, X, y, scoring=make_scorer(mean_absolute_percentage_error), cv=10)"
   ]
  },
  {
   "cell_type": "code",
   "execution_count": 106,
   "id": "0bd5e312",
   "metadata": {},
   "outputs": [
    {
     "data": {
      "text/plain": [
       "count    10.000000\n",
       "mean      0.097938\n",
       "std       0.016114\n",
       "min       0.077517\n",
       "25%       0.087404\n",
       "50%       0.093448\n",
       "75%       0.106289\n",
       "max       0.129760\n",
       "dtype: float64"
      ]
     },
     "execution_count": 106,
     "metadata": {},
     "output_type": "execute_result"
    }
   ],
   "source": [
    "pd.Series(svr_mapes).describe()"
   ]
  },
  {
   "cell_type": "code",
   "execution_count": 107,
   "id": "3f0ea94b",
   "metadata": {},
   "outputs": [
    {
     "name": "stdout",
     "output_type": "stream",
     "text": [
      "CPU times: user 1.03 s, sys: 1.45 ms, total: 1.03 s\n",
      "Wall time: 1.03 s\n"
     ]
    }
   ],
   "source": [
    "%%time\n",
    "svr_rbf = make_pipeline(preprocessing, SVR(kernel=\"rbf\"))\n",
    "svr_rbf = TransformedTargetRegressor(svr_rbf, transformer=StandardScaler())\n",
    "svr_rbf_mapes = cross_val_score(svr_rbf, X, y, scoring=make_scorer(mean_absolute_percentage_error), cv=10)"
   ]
  },
  {
   "cell_type": "code",
   "execution_count": 108,
   "id": "48d770b1",
   "metadata": {},
   "outputs": [
    {
     "data": {
      "text/plain": [
       "count    10.000000\n",
       "mean      0.097938\n",
       "std       0.016114\n",
       "min       0.077517\n",
       "25%       0.087404\n",
       "50%       0.093448\n",
       "75%       0.106289\n",
       "max       0.129760\n",
       "dtype: float64"
      ]
     },
     "execution_count": 108,
     "metadata": {},
     "output_type": "execute_result"
    }
   ],
   "source": [
    "pd.Series(svr_mapes).describe()"
   ]
  },
  {
   "cell_type": "code",
   "execution_count": 109,
   "id": "0ff6b74b",
   "metadata": {},
   "outputs": [
    {
     "name": "stdout",
     "output_type": "stream",
     "text": [
      "CPU times: user 1.03 s, sys: 0 ns, total: 1.03 s\n",
      "Wall time: 1.03 s\n"
     ]
    }
   ],
   "source": [
    "%%time\n",
    "svr_poly4 = make_pipeline(preprocessing, SVR(kernel=\"poly\", degree=2))\n",
    "svr_poly4 = TransformedTargetRegressor(svr_poly4, transformer=StandardScaler())\n",
    "svr_poly4_mapes = cross_val_score(svr_poly4, X, y, scoring=make_scorer(mean_absolute_percentage_error), cv=10)"
   ]
  },
  {
   "cell_type": "code",
   "execution_count": 110,
   "id": "1a1eec9e",
   "metadata": {},
   "outputs": [
    {
     "data": {
      "text/plain": [
       "count    10.000000\n",
       "mean      0.113133\n",
       "std       0.016374\n",
       "min       0.090269\n",
       "25%       0.106779\n",
       "50%       0.109106\n",
       "75%       0.112850\n",
       "max       0.146001\n",
       "dtype: float64"
      ]
     },
     "execution_count": 110,
     "metadata": {},
     "output_type": "execute_result"
    }
   ],
   "source": [
    "pd.Series(svr_poly4_mapes).describe()"
   ]
  },
  {
   "cell_type": "markdown",
   "id": "afd5b82f",
   "metadata": {},
   "source": [
    "### Red neuronal"
   ]
  },
  {
   "cell_type": "code",
   "execution_count": 80,
   "id": "d90743f3",
   "metadata": {},
   "outputs": [],
   "source": [
    "from sklearn.neural_network import MLPRegressor"
   ]
  },
  {
   "cell_type": "code",
   "execution_count": 111,
   "id": "82a80d29",
   "metadata": {},
   "outputs": [
    {
     "name": "stdout",
     "output_type": "stream",
     "text": [
      "CPU times: user 22.3 s, sys: 48.8 s, total: 1min 11s\n",
      "Wall time: 4.48 s\n"
     ]
    }
   ],
   "source": [
    "%%time\n",
    "nn = make_pipeline(preprocessing, MLPRegressor(hidden_layer_sizes=(100, 50, 20), early_stopping=True, learning_rate='invscaling', random_state=43, max_iter=1000))\n",
    "nn = TransformedTargetRegressor(nn, transformer=StandardScaler())\n",
    "nn_mapes = cross_val_score(nn, X, y, scoring=make_scorer(mean_absolute_percentage_error), cv=10)"
   ]
  },
  {
   "cell_type": "code",
   "execution_count": 112,
   "id": "833ab737",
   "metadata": {},
   "outputs": [
    {
     "data": {
      "text/plain": [
       "count    10.000000\n",
       "mean      0.106683\n",
       "std       0.018611\n",
       "min       0.085528\n",
       "25%       0.096386\n",
       "50%       0.100123\n",
       "75%       0.115094\n",
       "max       0.144703\n",
       "dtype: float64"
      ]
     },
     "execution_count": 112,
     "metadata": {},
     "output_type": "execute_result"
    }
   ],
   "source": [
    "pd.Series(nn_mapes).describe()"
   ]
  },
  {
   "cell_type": "code",
   "execution_count": 36,
   "id": "7f947562",
   "metadata": {},
   "outputs": [],
   "source": [
    "df['LL_total'] = df['LL'] * df['slab_total_area']\n",
    "df['DL_total'] = df['DL'] * df['slab_total_area']\n",
    "df['LL_max_total'] = df['LL_max'] * df['slab_total_area']\n",
    "df['DL_max_total'] = df['DL_max'] * df['slab_total_area']\n",
    "df['wind_load_x_total'] = df['wind_load_x'] * df['slab_total_area']\n",
    "df['wind_load_y_total'] = df['wind_load_y'] * df['slab_total_area']\n",
    "df['seismic_acc_total'] = df['seismic_acc'] * df['slab_total_area']"
   ]
  },
  {
   "cell_type": "code",
   "execution_count": 6,
   "id": "7d666e8c",
   "metadata": {},
   "outputs": [
    {
     "data": {
      "text/plain": [
       "Index(['floor_name', 'project_code', 'floor_code', 'slab_type', 'depth',\n",
       "       'floor_number', 'total_height', 'level', 'height', 'foundation_height',\n",
       "       'support_column', 'unsupported_column', 'walls_number',\n",
       "       'retaining_walls_number', 'inter_axis_distance', 'LL', 'DL', 'LL_max',\n",
       "       'DL_max', 'wind_load_x', 'wind_load_y', 'seismic_acc', 'double_height',\n",
       "       'flat_slab_area', 'waffle_slab_area', 'drop_panel_area', 'domes_area',\n",
       "       'support_area', 'shape_factor', 'x_length', 'y_length', 'stair_area',\n",
       "       'slope_area', 'walls_area', 'retaining_walls_area', 'foundation_type',\n",
       "       'concrete_m3_ratio', 'reinf_steel_ratio', 'domes_number',\n",
       "       'deflection_ratio', 'elasticiti_modulii', 'cdm_x', 'cdm_y', 'cdr_x',\n",
       "       'cdr_y', 'concrete_code', 'load_code', 'wind_code', 'seismic_code',\n",
       "       'support_mean_span_dist', 'support_max_span_dist',\n",
       "       'support_min_span_dist', 'cantilever_mean_dist', 'cantilever_max_dist',\n",
       "       'cantilever_min_dist', 'cantilever_area', 'span_dists',\n",
       "       'cantilever_dists', 'center_x', 'center_y', 'slab_total_area',\n",
       "       'triple_height', 'reinf_steel_ratio_cat', 'LL_total', 'DL_total',\n",
       "       'LL_max_total', 'DL_max_total', 'wind_load_x_total',\n",
       "       'wind_load_y_total', 'seismic_acc_total', 'reinf_steel_total',\n",
       "       'concrete_m3_total'],\n",
       "      dtype='object')"
      ]
     },
     "execution_count": 6,
     "metadata": {},
     "output_type": "execute_result"
    }
   ],
   "source": [
    "df.columns"
   ]
  },
  {
   "cell_type": "markdown",
   "id": "d922083d",
   "metadata": {},
   "source": [
    "## depth"
   ]
  },
  {
   "cell_type": "code",
   "execution_count": 7,
   "id": "3df20e8d",
   "metadata": {},
   "outputs": [],
   "source": [
    "df['flat_depth'] = 0\n",
    "df.loc[df['slab_type'] == 'FLAT_SLAB', 'flat_depth'] = df.loc[df['slab_type'] == 'FLAT_SLAB', 'depth']\n",
    "df['waffle_depth'] = 0\n",
    "df.loc[df['slab_type'] == 'FOAM_WAFFLE', 'waffle_depth'] = df.loc[df['slab_type'] == 'FOAM_WAFFLE', 'depth']"
   ]
  },
  {
   "cell_type": "markdown",
   "id": "c546ead5",
   "metadata": {},
   "source": [
    "## cdm y cdr"
   ]
  },
  {
   "cell_type": "code",
   "execution_count": 8,
   "id": "8c6d80f6",
   "metadata": {},
   "outputs": [],
   "source": [
    "df['eccentricity'] = ((df['cdm_x'] - df['cdr_x'])*(df['cdm_x'] - df['cdr_x']) + \n",
    "                      (df['cdm_y'] - df['cdr_y']) * (df['cdm_y'] - df['cdr_y']))**0.5\n",
    "df['weighted_eccentricity'] = df['eccentricity'] * df['slab_total_area']"
   ]
  },
  {
   "cell_type": "markdown",
   "id": "85543a48",
   "metadata": {},
   "source": [
    "## max_length"
   ]
  },
  {
   "cell_type": "code",
   "execution_count": 9,
   "id": "10a8cbc7",
   "metadata": {},
   "outputs": [],
   "source": [
    "df['max_length'] = df[['x_length', 'y_length']].max(axis=1)"
   ]
  },
  {
   "cell_type": "markdown",
   "id": "274295b7",
   "metadata": {},
   "source": [
    "## Aggregar características de las plantas"
   ]
  },
  {
   "cell_type": "code",
   "execution_count": null,
   "id": "36f9ee4e",
   "metadata": {},
   "outputs": [],
   "source": [
    "agg_dict = {\n",
    "    'floor_number': 'last', \n",
    "    'total_height': 'last', \n",
    "    'height': 'sum',\n",
    "    'foundation_height': 'last',\n",
    "    'support_column': 'sum',\n",
    "    'unsupported_column': 'sum', \n",
    "    'walls_number': 'sum',\n",
    "    'retaining_walls_number': 'sum',\n",
    "    'inter_axis_distance': 'last', \n",
    "    'LL_total': 'sum', \n",
    "    'DL_total': 'sum', \n",
    "    'LL_max_total': 'sum',\n",
    "    'DL_max_total': 'sum', \n",
    "    'wind_load_x_total': 'sum',\n",
    "    'wind_load_y_total': 'sum',\n",
    "    'seismic_acc_total': 'sum',\n",
    "    'double_height': 'sum',\n",
    "    'triple_height': 'sum',\n",
    "    'flat_depth': 'max',\n",
    "    'waffle_depth': 'max',\n",
    "    'flat_slab_area': 'sum', \n",
    "    'waffle_slab_area': 'sum', \n",
    "    'drop_panel_area': 'sum', \n",
    "    'domes_area': 'sum',\n",
    "    'support_area': 'sum',\n",
    "    'shape_factor': 'mean',\n",
    "    'x_length': 'median', \n",
    "    'y_length': 'median',\n",
    "    'max_length': 'median',\n",
    "    'walls_area': 'sum',\n",
    "    'retaining_walls_area': 'sum',\n",
    "    'foundation_type': 'last',\n",
    "    'concrete_m3_total': 'sum',\n",
    "    'domes_number': 'sum',\n",
    "    'eccentricity': 'median',\n",
    "    'weighted_eccentricity': 'sum',\n",
    "    'concrete_code': 'last',\n",
    "    'load_code': 'last',\n",
    "    'wind_code': 'last',\n",
    "    'seismic_code': 'last',\n",
    "    'support_mean_span_dist': 'mean',\n",
    "    'support_max_span_dist': 'mean',\n",
    "    'support_min_span_dist': 'mean',\n",
    "    'cantilever_mean_dist': 'mean',\n",
    "    'cantilever_max_dist': 'mean',\n",
    "    'cantilever_min_dist': 'mean',\n",
    "    'cantilever_area': 'mean',\n",
    "    'center_x': 'mean',\n",
    "    'center_y': 'mean',\n",
    "    'slab_total_area': 'sum',\n",
    "    'reinf_steel_total': 'sum',\n",
    "}"
   ]
  },
  {
   "cell_type": "code",
   "execution_count": 11,
   "id": "b6d02efe",
   "metadata": {},
   "outputs": [
    {
     "name": "stdout",
     "output_type": "stream",
     "text": [
      "<class 'pandas.core.frame.DataFrame'>\n",
      "Int64Index: 19113 entries, 0 to 22635\n",
      "Data columns (total 51 columns):\n",
      " #   Column                  Non-Null Count  Dtype  \n",
      "---  ------                  --------------  -----  \n",
      " 0   floor_number            19113 non-null  int64  \n",
      " 1   total_height            19113 non-null  float64\n",
      " 2   height                  19113 non-null  float64\n",
      " 3   foundation_height       19113 non-null  float64\n",
      " 4   support_column          19113 non-null  int64  \n",
      " 5   unsupported_column      19113 non-null  int64  \n",
      " 6   walls_number            19113 non-null  int64  \n",
      " 7   retaining_walls_number  19113 non-null  int64  \n",
      " 8   inter_axis_distance     19113 non-null  float64\n",
      " 9   LL_total                19113 non-null  float64\n",
      " 10  DL_total                19113 non-null  float64\n",
      " 11  LL_max_total            19113 non-null  float64\n",
      " 12  DL_max_total            19113 non-null  float64\n",
      " 13  wind_load_x_total       19113 non-null  float64\n",
      " 14  wind_load_y_total       19113 non-null  float64\n",
      " 15  seismic_acc_total       19113 non-null  float64\n",
      " 16  double_height           19113 non-null  float64\n",
      " 17  triple_height           19113 non-null  float64\n",
      " 18  flat_depth              19113 non-null  float64\n",
      " 19  waffle_depth            19113 non-null  float64\n",
      " 20  flat_slab_area          19113 non-null  float64\n",
      " 21  waffle_slab_area        19113 non-null  float64\n",
      " 22  drop_panel_area         19113 non-null  float64\n",
      " 23  domes_area              19113 non-null  float64\n",
      " 24  support_area            19113 non-null  float64\n",
      " 25  shape_factor            19113 non-null  float64\n",
      " 26  x_length                19113 non-null  float64\n",
      " 27  y_length                19113 non-null  float64\n",
      " 28  max_length              19113 non-null  float64\n",
      " 29  walls_area              19113 non-null  float64\n",
      " 30  retaining_walls_area    19113 non-null  float64\n",
      " 31  foundation_type         19113 non-null  object \n",
      " 32  concrete_m3_total       19113 non-null  float64\n",
      " 33  domes_number            19113 non-null  int64  \n",
      " 34  eccentricity            19113 non-null  float64\n",
      " 35  weighted_eccentricity   19113 non-null  float64\n",
      " 36  concrete_code           19113 non-null  object \n",
      " 37  load_code               19113 non-null  object \n",
      " 38  wind_code               19113 non-null  object \n",
      " 39  seismic_code            19113 non-null  object \n",
      " 40  support_mean_span_dist  19113 non-null  float64\n",
      " 41  support_max_span_dist   19113 non-null  float64\n",
      " 42  support_min_span_dist   19113 non-null  float64\n",
      " 43  cantilever_mean_dist    19111 non-null  float64\n",
      " 44  cantilever_max_dist     19113 non-null  float64\n",
      " 45  cantilever_min_dist     19113 non-null  float64\n",
      " 46  cantilever_area         19113 non-null  float64\n",
      " 47  center_x                19113 non-null  float64\n",
      " 48  center_y                19113 non-null  float64\n",
      " 49  slab_total_area         19113 non-null  float64\n",
      " 50  reinf_steel_total       19113 non-null  float64\n",
      "dtypes: float64(40), int64(6), object(5)\n",
      "memory usage: 7.6+ MB\n"
     ]
    }
   ],
   "source": [
    "df[list(agg_dict.keys())].info()"
   ]
  },
  {
   "cell_type": "code",
   "execution_count": 13,
   "id": "3b8a70f4",
   "metadata": {},
   "outputs": [],
   "source": [
    "b_df = df[['project_code']+list(agg_dict.keys())].groupby(by='project_code').agg(agg_dict)\n",
    "b_df['reinf_steel_ratio'] = b_df['reinf_steel_total'] / b_df['slab_total_area']\n",
    "b_df['concrete_m3_ratio'] = b_df['concrete_m3_total'] / b_df['slab_total_area']\n",
    "b_df['weighted_eccentricity'] /= b_df['slab_total_area']\n",
    "del b_df['reinf_steel_total']\n",
    "b_df.reset_index(inplace=True)"
   ]
  },
  {
   "cell_type": "code",
   "execution_count": 14,
   "id": "b403e209",
   "metadata": {},
   "outputs": [
    {
     "data": {
      "text/plain": [
       "Index(['project_code', 'floor_number', 'total_height', 'height',\n",
       "       'foundation_height', 'support_column', 'unsupported_column',\n",
       "       'walls_number', 'retaining_walls_number', 'inter_axis_distance',\n",
       "       'LL_total', 'DL_total', 'LL_max_total', 'DL_max_total',\n",
       "       'wind_load_x_total', 'wind_load_y_total', 'seismic_acc_total',\n",
       "       'double_height', 'triple_height', 'flat_depth', 'waffle_depth',\n",
       "       'flat_slab_area', 'waffle_slab_area', 'drop_panel_area', 'domes_area',\n",
       "       'support_area', 'shape_factor', 'x_length', 'y_length', 'max_length',\n",
       "       'walls_area', 'retaining_walls_area', 'foundation_type',\n",
       "       'concrete_m3_total', 'domes_number', 'eccentricity',\n",
       "       'weighted_eccentricity', 'concrete_code', 'load_code', 'wind_code',\n",
       "       'seismic_code', 'support_mean_span_dist', 'support_max_span_dist',\n",
       "       'support_min_span_dist', 'cantilever_mean_dist', 'cantilever_max_dist',\n",
       "       'cantilever_min_dist', 'cantilever_area', 'center_x', 'center_y',\n",
       "       'slab_total_area', 'reinf_steel_ratio', 'concrete_m3_ratio'],\n",
       "      dtype='object')"
      ]
     },
     "execution_count": 14,
     "metadata": {},
     "output_type": "execute_result"
    }
   ],
   "source": [
    "b_df.columns"
   ]
  },
  {
   "cell_type": "code",
   "execution_count": 39,
   "id": "b06b886e",
   "metadata": {},
   "outputs": [],
   "source": [
    "b_df['height_mean'] = b_df['height'] / b_df['floor_number']"
   ]
  },
  {
   "cell_type": "code",
   "execution_count": 40,
   "id": "ed0b7bd8",
   "metadata": {},
   "outputs": [
    {
     "ename": "KeyError",
     "evalue": "'project_code'",
     "output_type": "error",
     "traceback": [
      "\u001b[0;31m---------------------------------------------------------------------------\u001b[0m",
      "\u001b[0;31mKeyError\u001b[0m                                  Traceback (most recent call last)",
      "File \u001b[0;32m~/miniconda3/envs/steel-ml-model/lib/python3.10/site-packages/pandas/core/indexes/base.py:3803\u001b[0m, in \u001b[0;36mIndex.get_loc\u001b[0;34m(self, key, method, tolerance)\u001b[0m\n\u001b[1;32m   3802\u001b[0m \u001b[38;5;28;01mtry\u001b[39;00m:\n\u001b[0;32m-> 3803\u001b[0m     \u001b[38;5;28;01mreturn\u001b[39;00m \u001b[38;5;28;43mself\u001b[39;49m\u001b[38;5;241;43m.\u001b[39;49m\u001b[43m_engine\u001b[49m\u001b[38;5;241;43m.\u001b[39;49m\u001b[43mget_loc\u001b[49m\u001b[43m(\u001b[49m\u001b[43mcasted_key\u001b[49m\u001b[43m)\u001b[49m\n\u001b[1;32m   3804\u001b[0m \u001b[38;5;28;01mexcept\u001b[39;00m \u001b[38;5;167;01mKeyError\u001b[39;00m \u001b[38;5;28;01mas\u001b[39;00m err:\n",
      "File \u001b[0;32m~/miniconda3/envs/steel-ml-model/lib/python3.10/site-packages/pandas/_libs/index.pyx:138\u001b[0m, in \u001b[0;36mpandas._libs.index.IndexEngine.get_loc\u001b[0;34m()\u001b[0m\n",
      "File \u001b[0;32m~/miniconda3/envs/steel-ml-model/lib/python3.10/site-packages/pandas/_libs/index.pyx:165\u001b[0m, in \u001b[0;36mpandas._libs.index.IndexEngine.get_loc\u001b[0;34m()\u001b[0m\n",
      "File \u001b[0;32mpandas/_libs/hashtable_class_helper.pxi:5745\u001b[0m, in \u001b[0;36mpandas._libs.hashtable.PyObjectHashTable.get_item\u001b[0;34m()\u001b[0m\n",
      "File \u001b[0;32mpandas/_libs/hashtable_class_helper.pxi:5753\u001b[0m, in \u001b[0;36mpandas._libs.hashtable.PyObjectHashTable.get_item\u001b[0;34m()\u001b[0m\n",
      "\u001b[0;31mKeyError\u001b[0m: 'project_code'",
      "\nThe above exception was the direct cause of the following exception:\n",
      "\u001b[0;31mKeyError\u001b[0m                                  Traceback (most recent call last)",
      "Cell \u001b[0;32mIn [40], line 1\u001b[0m\n\u001b[0;32m----> 1\u001b[0m ori_cond \u001b[38;5;241m=\u001b[39m \u001b[43mb_df\u001b[49m\u001b[43m[\u001b[49m\u001b[38;5;124;43m'\u001b[39;49m\u001b[38;5;124;43mproject_code\u001b[39;49m\u001b[38;5;124;43m'\u001b[39;49m\u001b[43m]\u001b[49m\u001b[38;5;241m.\u001b[39mstr\u001b[38;5;241m.\u001b[39mcontains(\u001b[38;5;124m'\u001b[39m\u001b[38;5;124m_C00_I00_H00_Q00_R00_V00_S00_O01\u001b[39m\u001b[38;5;124m'\u001b[39m)\n",
      "File \u001b[0;32m~/miniconda3/envs/steel-ml-model/lib/python3.10/site-packages/pandas/core/frame.py:3804\u001b[0m, in \u001b[0;36mDataFrame.__getitem__\u001b[0;34m(self, key)\u001b[0m\n\u001b[1;32m   3802\u001b[0m \u001b[38;5;28;01mif\u001b[39;00m \u001b[38;5;28mself\u001b[39m\u001b[38;5;241m.\u001b[39mcolumns\u001b[38;5;241m.\u001b[39mnlevels \u001b[38;5;241m>\u001b[39m \u001b[38;5;241m1\u001b[39m:\n\u001b[1;32m   3803\u001b[0m     \u001b[38;5;28;01mreturn\u001b[39;00m \u001b[38;5;28mself\u001b[39m\u001b[38;5;241m.\u001b[39m_getitem_multilevel(key)\n\u001b[0;32m-> 3804\u001b[0m indexer \u001b[38;5;241m=\u001b[39m \u001b[38;5;28;43mself\u001b[39;49m\u001b[38;5;241;43m.\u001b[39;49m\u001b[43mcolumns\u001b[49m\u001b[38;5;241;43m.\u001b[39;49m\u001b[43mget_loc\u001b[49m\u001b[43m(\u001b[49m\u001b[43mkey\u001b[49m\u001b[43m)\u001b[49m\n\u001b[1;32m   3805\u001b[0m \u001b[38;5;28;01mif\u001b[39;00m is_integer(indexer):\n\u001b[1;32m   3806\u001b[0m     indexer \u001b[38;5;241m=\u001b[39m [indexer]\n",
      "File \u001b[0;32m~/miniconda3/envs/steel-ml-model/lib/python3.10/site-packages/pandas/core/indexes/base.py:3805\u001b[0m, in \u001b[0;36mIndex.get_loc\u001b[0;34m(self, key, method, tolerance)\u001b[0m\n\u001b[1;32m   3803\u001b[0m     \u001b[38;5;28;01mreturn\u001b[39;00m \u001b[38;5;28mself\u001b[39m\u001b[38;5;241m.\u001b[39m_engine\u001b[38;5;241m.\u001b[39mget_loc(casted_key)\n\u001b[1;32m   3804\u001b[0m \u001b[38;5;28;01mexcept\u001b[39;00m \u001b[38;5;167;01mKeyError\u001b[39;00m \u001b[38;5;28;01mas\u001b[39;00m err:\n\u001b[0;32m-> 3805\u001b[0m     \u001b[38;5;28;01mraise\u001b[39;00m \u001b[38;5;167;01mKeyError\u001b[39;00m(key) \u001b[38;5;28;01mfrom\u001b[39;00m \u001b[38;5;21;01merr\u001b[39;00m\n\u001b[1;32m   3806\u001b[0m \u001b[38;5;28;01mexcept\u001b[39;00m \u001b[38;5;167;01mTypeError\u001b[39;00m:\n\u001b[1;32m   3807\u001b[0m     \u001b[38;5;66;03m# If we have a listlike key, _check_indexing_error will raise\u001b[39;00m\n\u001b[1;32m   3808\u001b[0m     \u001b[38;5;66;03m#  InvalidIndexError. Otherwise we fall through and re-raise\u001b[39;00m\n\u001b[1;32m   3809\u001b[0m     \u001b[38;5;66;03m#  the TypeError.\u001b[39;00m\n\u001b[1;32m   3810\u001b[0m     \u001b[38;5;28mself\u001b[39m\u001b[38;5;241m.\u001b[39m_check_indexing_error(key)\n",
      "\u001b[0;31mKeyError\u001b[0m: 'project_code'"
     ]
    }
   ],
   "source": [
    "ori_cond = b_df['project_code'].str.contains('_C00_I00_H00_Q00_R00_V00_S00_O01')"
   ]
  },
  {
   "cell_type": "markdown",
   "id": "1284d7a7",
   "metadata": {},
   "source": [
    "## reinf_steel_ratio"
   ]
  },
  {
   "cell_type": "code",
   "execution_count": 41,
   "id": "43f26e0d",
   "metadata": {},
   "outputs": [
    {
     "data": {
      "text/plain": [
       "<AxesSubplot: >"
      ]
     },
     "execution_count": 41,
     "metadata": {},
     "output_type": "execute_result"
    },
    {
     "data": {
      "image/png": "[encoded data removed]",
      "text/plain": [
       "<Figure size 640x480 with 1 Axes>"
      ]
     },
     "metadata": {},
     "output_type": "display_data"
    }
   ],
   "source": [
    "b_df['reinf_steel_ratio'].hist(bins=100)"
   ]
  },
  {
   "cell_type": "code",
   "execution_count": 42,
   "id": "b61c5675",
   "metadata": {},
   "outputs": [
    {
     "data": {
      "text/plain": [
       "<AxesSubplot: >"
      ]
     },
     "execution_count": 42,
     "metadata": {},
     "output_type": "execute_result"
    },
    {
     "data": {
      "image/png": "[encoded data removed]",
      "text/plain": [
       "<Figure size 640x480 with 1 Axes>"
      ]
     },
     "metadata": {},
     "output_type": "display_data"
    }
   ],
   "source": [
    "np.log(b_df['reinf_steel_ratio']).hist(bins=100)"
   ]
  },
  {
   "cell_type": "code",
   "execution_count": 43,
   "id": "30ac563d",
   "metadata": {},
   "outputs": [],
   "source": [
    "b_df['slab_total_area_height'] = b_df['slab_total_area'] / b_df['height']"
   ]
  },
  {
   "cell_type": "code",
   "execution_count": 44,
   "id": "0302d495",
   "metadata": {},
   "outputs": [
    {
     "data": {
      "text/plain": [
       "<AxesSubplot: xlabel='reinf_steel_ratio', ylabel='slab_total_area_height'>"
      ]
     },
     "execution_count": 44,
     "metadata": {},
     "output_type": "execute_result"
    },
    {
     "data": {
      "image/png": "[encoded data removed]",
      "text/plain": [
       "<Figure size 640x480 with 1 Axes>"
      ]
     },
     "metadata": {},
     "output_type": "display_data"
    }
   ],
   "source": [
    "sns.scatterplot(data=b_df, x='reinf_steel_ratio', y='slab_total_area_height', alpha=0.1)"
   ]
  },
  {
   "cell_type": "code",
   "execution_count": 45,
   "id": "9a68b552",
   "metadata": {},
   "outputs": [
    {
     "data": {
      "text/html": [
       "<div>\n",
       "<style scoped>\n",
       "    .dataframe tbody tr th:only-of-type {\n",
       "        vertical-align: middle;\n",
       "    }\n",
       "\n",
       "    .dataframe tbody tr th {\n",
       "        vertical-align: top;\n",
       "    }\n",
       "\n",
       "    .dataframe thead th {\n",
       "        text-align: right;\n",
       "    }\n",
       "</style>\n",
       "<table border=\"1\" class=\"dataframe\">\n",
       "  <thead>\n",
       "    <tr style=\"text-align: right;\">\n",
       "      <th></th>\n",
       "      <th>foundation_type</th>\n",
       "      <th>concrete_code</th>\n",
       "      <th>load_code</th>\n",
       "      <th>wind_code</th>\n",
       "      <th>seismic_code</th>\n",
       "      <th>floor_number</th>\n",
       "      <th>total_height</th>\n",
       "      <th>height</th>\n",
       "      <th>foundation_height</th>\n",
       "      <th>double_height</th>\n",
       "      <th>...</th>\n",
       "      <th>y_length</th>\n",
       "      <th>reinf_steel_ratio</th>\n",
       "      <th>concrete_m3_ratio</th>\n",
       "      <th>eccentricity</th>\n",
       "      <th>eccentricity_b</th>\n",
       "      <th>eccentricity_c</th>\n",
       "      <th>max_length</th>\n",
       "      <th>eccentricity_length</th>\n",
       "      <th>height_mean</th>\n",
       "      <th>slab_total_area_height</th>\n",
       "    </tr>\n",
       "  </thead>\n",
       "  <tbody>\n",
       "  </tbody>\n",
       "</table>\n",
       "<p>0 rows × 45 columns</p>\n",
       "</div>"
      ],
      "text/plain": [
       "Empty DataFrame\n",
       "Columns: [foundation_type, concrete_code, load_code, wind_code, seismic_code, floor_number, total_height, height, foundation_height, double_height, triple_height, support_column, unsupported_column, walls_number, retaining_walls_number, support_area, walls_area, retaining_walls_area, LL, DL, LL_max, DL_max, wind_load_x, wind_load_y, seismic_acc, slab_total_area, flat_slab_area, waffle_slab_area, depth, drop_panel_area, domes_area, domes_number, inter_axis_distance, shape_factor, x_length, y_length, reinf_steel_ratio, concrete_m3_ratio, eccentricity, eccentricity_b, eccentricity_c, max_length, eccentricity_length, height_mean, slab_total_area_height]\n",
       "Index: []\n",
       "\n",
       "[0 rows x 45 columns]"
      ]
     },
     "execution_count": 45,
     "metadata": {},
     "output_type": "execute_result"
    }
   ],
   "source": [
    "b_df[b_df['slab_total_area_height'] > 6000]"
   ]
  },
  {
   "cell_type": "code",
   "execution_count": 46,
   "id": "727e5742",
   "metadata": {},
   "outputs": [
    {
     "data": {
      "text/html": [
       "<div>\n",
       "<style scoped>\n",
       "    .dataframe tbody tr th:only-of-type {\n",
       "        vertical-align: middle;\n",
       "    }\n",
       "\n",
       "    .dataframe tbody tr th {\n",
       "        vertical-align: top;\n",
       "    }\n",
       "\n",
       "    .dataframe thead th {\n",
       "        text-align: right;\n",
       "    }\n",
       "</style>\n",
       "<table border=\"1\" class=\"dataframe\">\n",
       "  <thead>\n",
       "    <tr style=\"text-align: right;\">\n",
       "      <th></th>\n",
       "      <th>floor_name</th>\n",
       "      <th>project_code</th>\n",
       "      <th>floor_code</th>\n",
       "      <th>slab_type</th>\n",
       "      <th>depth</th>\n",
       "      <th>floor_number</th>\n",
       "      <th>total_height</th>\n",
       "      <th>level</th>\n",
       "      <th>height</th>\n",
       "      <th>foundation_height</th>\n",
       "      <th>...</th>\n",
       "      <th>reinf_steel_ratio_cat</th>\n",
       "      <th>reinf_steel_total</th>\n",
       "      <th>concrete_m3_total</th>\n",
       "      <th>LL_total</th>\n",
       "      <th>DL_total</th>\n",
       "      <th>LL_max_total</th>\n",
       "      <th>DL_max_total</th>\n",
       "      <th>wind_load_x_total</th>\n",
       "      <th>wind_load_y_total</th>\n",
       "      <th>seismic_acc_total</th>\n",
       "    </tr>\n",
       "  </thead>\n",
       "  <tbody>\n",
       "    <tr>\n",
       "      <th>8459</th>\n",
       "      <td>SS1</td>\n",
       "      <td>BOSC17021_C00_I00_H00_Q00_R00_V00_S00_O01</td>\n",
       "      <td>BOSC17021_C00_I00_H00_Q00_R00_V00_S00_O01_F0</td>\n",
       "      <td>FOAM_WAFFLE</td>\n",
       "      <td>0.35</td>\n",
       "      <td>2</td>\n",
       "      <td>0.85</td>\n",
       "      <td>-2.65</td>\n",
       "      <td>4.35</td>\n",
       "      <td>-7.0</td>\n",
       "      <td>...</td>\n",
       "      <td>LIGHT-MED</td>\n",
       "      <td>66845.166223</td>\n",
       "      <td>642.592585</td>\n",
       "      <td>12220.322893</td>\n",
       "      <td>3055.080723</td>\n",
       "      <td>12220.322893</td>\n",
       "      <td>97762.583142</td>\n",
       "      <td>0.000000</td>\n",
       "      <td>0.000000</td>\n",
       "      <td>464.372270</td>\n",
       "    </tr>\n",
       "    <tr>\n",
       "      <th>8460</th>\n",
       "      <td>PB</td>\n",
       "      <td>BOSC17021_C00_I00_H00_Q00_R00_V00_S00_O01</td>\n",
       "      <td>BOSC17021_C00_I00_H00_Q00_R00_V00_S00_O01_F1</td>\n",
       "      <td>FOAM_WAFFLE</td>\n",
       "      <td>0.35</td>\n",
       "      <td>2</td>\n",
       "      <td>0.85</td>\n",
       "      <td>0.85</td>\n",
       "      <td>3.50</td>\n",
       "      <td>-7.0</td>\n",
       "      <td>...</td>\n",
       "      <td>LIGHT-MED</td>\n",
       "      <td>67353.850717</td>\n",
       "      <td>588.707964</td>\n",
       "      <td>15490.766034</td>\n",
       "      <td>9294.459621</td>\n",
       "      <td>15490.766034</td>\n",
       "      <td>55766.757723</td>\n",
       "      <td>155626.431886</td>\n",
       "      <td>54056.577153</td>\n",
       "      <td>470.919287</td>\n",
       "    </tr>\n",
       "  </tbody>\n",
       "</table>\n",
       "<p>2 rows × 72 columns</p>\n",
       "</div>"
      ],
      "text/plain": [
       "     floor_name                               project_code  \\\n",
       "8459        SS1  BOSC17021_C00_I00_H00_Q00_R00_V00_S00_O01   \n",
       "8460         PB  BOSC17021_C00_I00_H00_Q00_R00_V00_S00_O01   \n",
       "\n",
       "                                        floor_code    slab_type  depth  \\\n",
       "8459  BOSC17021_C00_I00_H00_Q00_R00_V00_S00_O01_F0  FOAM_WAFFLE   0.35   \n",
       "8460  BOSC17021_C00_I00_H00_Q00_R00_V00_S00_O01_F1  FOAM_WAFFLE   0.35   \n",
       "\n",
       "      floor_number  total_height  level  height  foundation_height  ...  \\\n",
       "8459             2          0.85  -2.65    4.35               -7.0  ...   \n",
       "8460             2          0.85   0.85    3.50               -7.0  ...   \n",
       "\n",
       "      reinf_steel_ratio_cat  reinf_steel_total  concrete_m3_total  \\\n",
       "8459              LIGHT-MED       66845.166223         642.592585   \n",
       "8460              LIGHT-MED       67353.850717         588.707964   \n",
       "\n",
       "          LL_total     DL_total  LL_max_total  DL_max_total  \\\n",
       "8459  12220.322893  3055.080723  12220.322893  97762.583142   \n",
       "8460  15490.766034  9294.459621  15490.766034  55766.757723   \n",
       "\n",
       "      wind_load_x_total  wind_load_y_total  seismic_acc_total  \n",
       "8459           0.000000           0.000000         464.372270  \n",
       "8460      155626.431886       54056.577153         470.919287  \n",
       "\n",
       "[2 rows x 72 columns]"
      ]
     },
     "execution_count": 46,
     "metadata": {},
     "output_type": "execute_result"
    }
   ],
   "source": [
    "df[df['project_code'] == 'BOSC17021_C00_I00_H00_Q00_R00_V00_S00_O01']"
   ]
  },
  {
   "cell_type": "code",
   "execution_count": 47,
   "id": "ccca2c7c",
   "metadata": {},
   "outputs": [
    {
     "data": {
      "text/plain": [
       "reinf_steel_ratio         1.000000\n",
       "concrete_m3_ratio         0.516944\n",
       "total_height              0.480227\n",
       "height                    0.479151\n",
       "walls_area                0.238914\n",
       "support_area              0.232062\n",
       "height_mean               0.216949\n",
       "retaining_walls_area      0.184468\n",
       "DL                        0.165128\n",
       "LL_max                    0.143626\n",
       "drop_panel_area           0.117846\n",
       "triple_height             0.082289\n",
       "inter_axis_distance       0.081387\n",
       "DL_max                    0.072597\n",
       "wind_load_x               0.071952\n",
       "LL                        0.068779\n",
       "eccentricity_length       0.065597\n",
       "eccentricity              0.031834\n",
       "eccentricity_b            0.030691\n",
       "waffle_slab_area          0.026875\n",
       "slab_total_area           0.025713\n",
       "double_height             0.015208\n",
       "depth                     0.006800\n",
       "domes_area               -0.001115\n",
       "seismic_acc              -0.021723\n",
       "wind_load_y              -0.032243\n",
       "eccentricity_c           -0.063860\n",
       "flat_slab_area           -0.070369\n",
       "foundation_height        -0.235096\n",
       "y_length                 -0.249681\n",
       "shape_factor             -0.300806\n",
       "x_length                 -0.326055\n",
       "max_length               -0.329612\n",
       "slab_total_area_height   -0.386270\n",
       "Name: reinf_steel_ratio, dtype: float64"
      ]
     },
     "execution_count": 47,
     "metadata": {},
     "output_type": "execute_result"
    }
   ],
   "source": [
    "corr_matrix = b_df.select_dtypes(include=['float64']).corr()\n",
    "corr_matrix[\"reinf_steel_ratio\"].sort_values(ascending=False)"
   ]
  },
  {
   "cell_type": "code",
   "execution_count": 48,
   "id": "254cb498",
   "metadata": {},
   "outputs": [
    {
     "ename": "KeyError",
     "evalue": "'LL_total'",
     "output_type": "error",
     "traceback": [
      "\u001b[0;31m---------------------------------------------------------------------------\u001b[0m",
      "\u001b[0;31mKeyError\u001b[0m                                  Traceback (most recent call last)",
      "File \u001b[0;32m~/miniconda3/envs/steel-ml-model/lib/python3.10/site-packages/pandas/core/indexes/base.py:3803\u001b[0m, in \u001b[0;36mIndex.get_loc\u001b[0;34m(self, key, method, tolerance)\u001b[0m\n\u001b[1;32m   3802\u001b[0m \u001b[38;5;28;01mtry\u001b[39;00m:\n\u001b[0;32m-> 3803\u001b[0m     \u001b[38;5;28;01mreturn\u001b[39;00m \u001b[38;5;28;43mself\u001b[39;49m\u001b[38;5;241;43m.\u001b[39;49m\u001b[43m_engine\u001b[49m\u001b[38;5;241;43m.\u001b[39;49m\u001b[43mget_loc\u001b[49m\u001b[43m(\u001b[49m\u001b[43mcasted_key\u001b[49m\u001b[43m)\u001b[49m\n\u001b[1;32m   3804\u001b[0m \u001b[38;5;28;01mexcept\u001b[39;00m \u001b[38;5;167;01mKeyError\u001b[39;00m \u001b[38;5;28;01mas\u001b[39;00m err:\n",
      "File \u001b[0;32m~/miniconda3/envs/steel-ml-model/lib/python3.10/site-packages/pandas/_libs/index.pyx:138\u001b[0m, in \u001b[0;36mpandas._libs.index.IndexEngine.get_loc\u001b[0;34m()\u001b[0m\n",
      "File \u001b[0;32m~/miniconda3/envs/steel-ml-model/lib/python3.10/site-packages/pandas/_libs/index.pyx:165\u001b[0m, in \u001b[0;36mpandas._libs.index.IndexEngine.get_loc\u001b[0;34m()\u001b[0m\n",
      "File \u001b[0;32mpandas/_libs/hashtable_class_helper.pxi:5745\u001b[0m, in \u001b[0;36mpandas._libs.hashtable.PyObjectHashTable.get_item\u001b[0;34m()\u001b[0m\n",
      "File \u001b[0;32mpandas/_libs/hashtable_class_helper.pxi:5753\u001b[0m, in \u001b[0;36mpandas._libs.hashtable.PyObjectHashTable.get_item\u001b[0;34m()\u001b[0m\n",
      "\u001b[0;31mKeyError\u001b[0m: 'LL_total'",
      "\nThe above exception was the direct cause of the following exception:\n",
      "\u001b[0;31mKeyError\u001b[0m                                  Traceback (most recent call last)",
      "Cell \u001b[0;32mIn [48], line 1\u001b[0m\n\u001b[0;32m----> 1\u001b[0m b_df[\u001b[38;5;124m'\u001b[39m\u001b[38;5;124mLL\u001b[39m\u001b[38;5;124m'\u001b[39m] \u001b[38;5;241m=\u001b[39m \u001b[43mb_df\u001b[49m\u001b[43m[\u001b[49m\u001b[38;5;124;43m'\u001b[39;49m\u001b[38;5;124;43mLL_total\u001b[39;49m\u001b[38;5;124;43m'\u001b[39;49m\u001b[43m]\u001b[49m \u001b[38;5;241m*\u001b[39m b_df[\u001b[38;5;124m'\u001b[39m\u001b[38;5;124mslab_total_area\u001b[39m\u001b[38;5;124m'\u001b[39m]\n\u001b[1;32m      2\u001b[0m b_df[\u001b[38;5;124m'\u001b[39m\u001b[38;5;124mDL\u001b[39m\u001b[38;5;124m'\u001b[39m] \u001b[38;5;241m=\u001b[39m b_df[\u001b[38;5;124m'\u001b[39m\u001b[38;5;124mDL_total\u001b[39m\u001b[38;5;124m'\u001b[39m] \u001b[38;5;241m*\u001b[39m b_df[\u001b[38;5;124m'\u001b[39m\u001b[38;5;124mslab_total_area\u001b[39m\u001b[38;5;124m'\u001b[39m]\n\u001b[1;32m      3\u001b[0m b_df[\u001b[38;5;124m'\u001b[39m\u001b[38;5;124mLL_max\u001b[39m\u001b[38;5;124m'\u001b[39m] \u001b[38;5;241m=\u001b[39m b_df[\u001b[38;5;124m'\u001b[39m\u001b[38;5;124mLL_max_total\u001b[39m\u001b[38;5;124m'\u001b[39m] \u001b[38;5;241m*\u001b[39m b_df[\u001b[38;5;124m'\u001b[39m\u001b[38;5;124mslab_total_area\u001b[39m\u001b[38;5;124m'\u001b[39m]\n",
      "File \u001b[0;32m~/miniconda3/envs/steel-ml-model/lib/python3.10/site-packages/pandas/core/frame.py:3804\u001b[0m, in \u001b[0;36mDataFrame.__getitem__\u001b[0;34m(self, key)\u001b[0m\n\u001b[1;32m   3802\u001b[0m \u001b[38;5;28;01mif\u001b[39;00m \u001b[38;5;28mself\u001b[39m\u001b[38;5;241m.\u001b[39mcolumns\u001b[38;5;241m.\u001b[39mnlevels \u001b[38;5;241m>\u001b[39m \u001b[38;5;241m1\u001b[39m:\n\u001b[1;32m   3803\u001b[0m     \u001b[38;5;28;01mreturn\u001b[39;00m \u001b[38;5;28mself\u001b[39m\u001b[38;5;241m.\u001b[39m_getitem_multilevel(key)\n\u001b[0;32m-> 3804\u001b[0m indexer \u001b[38;5;241m=\u001b[39m \u001b[38;5;28;43mself\u001b[39;49m\u001b[38;5;241;43m.\u001b[39;49m\u001b[43mcolumns\u001b[49m\u001b[38;5;241;43m.\u001b[39;49m\u001b[43mget_loc\u001b[49m\u001b[43m(\u001b[49m\u001b[43mkey\u001b[49m\u001b[43m)\u001b[49m\n\u001b[1;32m   3805\u001b[0m \u001b[38;5;28;01mif\u001b[39;00m is_integer(indexer):\n\u001b[1;32m   3806\u001b[0m     indexer \u001b[38;5;241m=\u001b[39m [indexer]\n",
      "File \u001b[0;32m~/miniconda3/envs/steel-ml-model/lib/python3.10/site-packages/pandas/core/indexes/base.py:3805\u001b[0m, in \u001b[0;36mIndex.get_loc\u001b[0;34m(self, key, method, tolerance)\u001b[0m\n\u001b[1;32m   3803\u001b[0m     \u001b[38;5;28;01mreturn\u001b[39;00m \u001b[38;5;28mself\u001b[39m\u001b[38;5;241m.\u001b[39m_engine\u001b[38;5;241m.\u001b[39mget_loc(casted_key)\n\u001b[1;32m   3804\u001b[0m \u001b[38;5;28;01mexcept\u001b[39;00m \u001b[38;5;167;01mKeyError\u001b[39;00m \u001b[38;5;28;01mas\u001b[39;00m err:\n\u001b[0;32m-> 3805\u001b[0m     \u001b[38;5;28;01mraise\u001b[39;00m \u001b[38;5;167;01mKeyError\u001b[39;00m(key) \u001b[38;5;28;01mfrom\u001b[39;00m \u001b[38;5;21;01merr\u001b[39;00m\n\u001b[1;32m   3806\u001b[0m \u001b[38;5;28;01mexcept\u001b[39;00m \u001b[38;5;167;01mTypeError\u001b[39;00m:\n\u001b[1;32m   3807\u001b[0m     \u001b[38;5;66;03m# If we have a listlike key, _check_indexing_error will raise\u001b[39;00m\n\u001b[1;32m   3808\u001b[0m     \u001b[38;5;66;03m#  InvalidIndexError. Otherwise we fall through and re-raise\u001b[39;00m\n\u001b[1;32m   3809\u001b[0m     \u001b[38;5;66;03m#  the TypeError.\u001b[39;00m\n\u001b[1;32m   3810\u001b[0m     \u001b[38;5;28mself\u001b[39m\u001b[38;5;241m.\u001b[39m_check_indexing_error(key)\n",
      "\u001b[0;31mKeyError\u001b[0m: 'LL_total'"
     ]
    }
   ],
   "source": [
    "b_df['LL'] = b_df['LL_total'] * b_df['slab_total_area']\n",
    "b_df['DL'] = b_df['DL_total'] * b_df['slab_total_area']\n",
    "b_df['LL_max'] = b_df['LL_max_total'] * b_df['slab_total_area']\n",
    "b_df['DL_max'] = b_df['DL_max_total'] * b_df['slab_total_area']\n",
    "b_df['wind_load_x'] = b_df['wind_load_x_total'] * b_df['slab_total_area']\n",
    "b_df['wind_load_y'] = b_df['wind_load_y_total'] * b_df['slab_total_area']\n",
    "b_df['seismic_acc'] = b_df['seismic_acc_total'] * b_df['slab_total_area']"
   ]
  },
  {
   "cell_type": "code",
   "execution_count": 49,
   "id": "17c20652",
   "metadata": {},
   "outputs": [],
   "source": [
    "b_df['total_load'] = b_df['LL'] + b_df['DL'] + b_df['wind_load_x'] + b_df['wind_load_y'] + b_df['seismic_acc']"
   ]
  },
  {
   "cell_type": "code",
   "execution_count": 50,
   "id": "2ffcf6a1",
   "metadata": {},
   "outputs": [],
   "source": [
    "b_df['flat_slab_area_m2'] = b_df['flat_slab_area'] / b_df['slab_total_area'] \n",
    "b_df['waffle_slab_area_m2'] = b_df['waffle_slab_area'] / b_df['slab_total_area'] \n",
    "b_df['drop_panel_area_m2'] = b_df['drop_panel_area'] / b_df['slab_total_area'] \n",
    "b_df['domes_area_m2'] = b_df['domes_area'] / b_df['slab_total_area'] \n",
    "b_df['support_area_m2'] = b_df['support_area'] / b_df['slab_total_area'] \n",
    "b_df['walls_area_m2'] = b_df['walls_area'] / b_df['slab_total_area']\n",
    "b_df['retaining_walls_area_m2'] = b_df['retaining_walls_area'] / b_df['slab_total_area'] "
   ]
  },
  {
   "cell_type": "code",
   "execution_count": 52,
   "id": "e2718263",
   "metadata": {},
   "outputs": [],
   "source": [
    "b_df['walls_area_m2'] = b_df['walls_area'] / b_df['slab_total_area']"
   ]
  },
  {
   "cell_type": "code",
   "execution_count": 53,
   "id": "3968e4b9",
   "metadata": {},
   "outputs": [],
   "source": [
    "b_df['slab_area_mean'] = b_df['slab_total_area'] / b_df['floor_number']"
   ]
  },
  {
   "cell_type": "code",
   "execution_count": 54,
   "id": "5d6a5645",
   "metadata": {},
   "outputs": [],
   "source": [
    "b_df['x_length_m2'] = b_df['x_length'] / b_df['slab_area_mean']"
   ]
  },
  {
   "cell_type": "code",
   "execution_count": 55,
   "id": "3e82cb8f",
   "metadata": {},
   "outputs": [],
   "source": [
    "b_df['underground_height'] = (b_df['height'] - b_df['total_height']) / b_df['height']"
   ]
  },
  {
   "cell_type": "code",
   "execution_count": 56,
   "id": "d1253bc8",
   "metadata": {},
   "outputs": [
    {
     "data": {
      "text/plain": [
       "-0.05678998819085872"
      ]
     },
     "execution_count": 56,
     "metadata": {},
     "output_type": "execute_result"
    }
   ],
   "source": [
    "corr_matrix = b_df.select_dtypes(include=['float64']).corr()\n",
    "corr_matrix[\"reinf_steel_ratio\"].sort_values(ascending=False)['underground_height']"
   ]
  },
  {
   "cell_type": "markdown",
   "id": "5d4bfd0f",
   "metadata": {},
   "source": [
    "## Eccentricity\n",
    "\n",
    "Según los expertos, la escentricidad es un factor muy importante para determinar los kg de acero por m2. Sin embargo, vemos que no está nada correlacionado. Esto indica que todavía debe haber datos erroneos."
   ]
  },
  {
   "cell_type": "code",
   "execution_count": 57,
   "id": "1858eaac",
   "metadata": {},
   "outputs": [],
   "source": [
    "b_df['max_length'] = b_df[['x_length', 'y_length']].max(axis=1)"
   ]
  },
  {
   "cell_type": "code",
   "execution_count": 58,
   "id": "ba1f6246",
   "metadata": {},
   "outputs": [],
   "source": [
    "b_df['eccentricity_length'] = b_df['eccentricity'] / b_df['max_length']\n",
    "b_df['eccentricity_m2'] = b_df['eccentricity'] / b_df['slab_area_mean']\n",
    "b_df['eccentricity_perimeter'] = b_df['eccentricity'] / b_df['shape_factor']"
   ]
  },
  {
   "cell_type": "code",
   "execution_count": 59,
   "id": "f0390aac",
   "metadata": {},
   "outputs": [
    {
     "ename": "KeyError",
     "evalue": "'weighted_eccentricity'",
     "output_type": "error",
     "traceback": [
      "\u001b[0;31m---------------------------------------------------------------------------\u001b[0m",
      "\u001b[0;31mKeyError\u001b[0m                                  Traceback (most recent call last)",
      "File \u001b[0;32m~/miniconda3/envs/steel-ml-model/lib/python3.10/site-packages/pandas/core/indexes/base.py:3803\u001b[0m, in \u001b[0;36mIndex.get_loc\u001b[0;34m(self, key, method, tolerance)\u001b[0m\n\u001b[1;32m   3802\u001b[0m \u001b[38;5;28;01mtry\u001b[39;00m:\n\u001b[0;32m-> 3803\u001b[0m     \u001b[38;5;28;01mreturn\u001b[39;00m \u001b[38;5;28;43mself\u001b[39;49m\u001b[38;5;241;43m.\u001b[39;49m\u001b[43m_engine\u001b[49m\u001b[38;5;241;43m.\u001b[39;49m\u001b[43mget_loc\u001b[49m\u001b[43m(\u001b[49m\u001b[43mcasted_key\u001b[49m\u001b[43m)\u001b[49m\n\u001b[1;32m   3804\u001b[0m \u001b[38;5;28;01mexcept\u001b[39;00m \u001b[38;5;167;01mKeyError\u001b[39;00m \u001b[38;5;28;01mas\u001b[39;00m err:\n",
      "File \u001b[0;32m~/miniconda3/envs/steel-ml-model/lib/python3.10/site-packages/pandas/_libs/index.pyx:138\u001b[0m, in \u001b[0;36mpandas._libs.index.IndexEngine.get_loc\u001b[0;34m()\u001b[0m\n",
      "File \u001b[0;32m~/miniconda3/envs/steel-ml-model/lib/python3.10/site-packages/pandas/_libs/index.pyx:165\u001b[0m, in \u001b[0;36mpandas._libs.index.IndexEngine.get_loc\u001b[0;34m()\u001b[0m\n",
      "File \u001b[0;32mpandas/_libs/hashtable_class_helper.pxi:5745\u001b[0m, in \u001b[0;36mpandas._libs.hashtable.PyObjectHashTable.get_item\u001b[0;34m()\u001b[0m\n",
      "File \u001b[0;32mpandas/_libs/hashtable_class_helper.pxi:5753\u001b[0m, in \u001b[0;36mpandas._libs.hashtable.PyObjectHashTable.get_item\u001b[0;34m()\u001b[0m\n",
      "\u001b[0;31mKeyError\u001b[0m: 'weighted_eccentricity'",
      "\nThe above exception was the direct cause of the following exception:\n",
      "\u001b[0;31mKeyError\u001b[0m                                  Traceback (most recent call last)",
      "Cell \u001b[0;32mIn [59], line 1\u001b[0m\n\u001b[0;32m----> 1\u001b[0m b_df[\u001b[38;5;124m'\u001b[39m\u001b[38;5;124mweighted_eccentricity_length\u001b[39m\u001b[38;5;124m'\u001b[39m] \u001b[38;5;241m=\u001b[39m \u001b[43mb_df\u001b[49m\u001b[43m[\u001b[49m\u001b[38;5;124;43m'\u001b[39;49m\u001b[38;5;124;43mweighted_eccentricity\u001b[39;49m\u001b[38;5;124;43m'\u001b[39;49m\u001b[43m]\u001b[49m \u001b[38;5;241m/\u001b[39m b_df[\u001b[38;5;124m'\u001b[39m\u001b[38;5;124mmax_length\u001b[39m\u001b[38;5;124m'\u001b[39m]\n\u001b[1;32m      2\u001b[0m b_df[\u001b[38;5;124m'\u001b[39m\u001b[38;5;124mweighted_eccentricity_m2\u001b[39m\u001b[38;5;124m'\u001b[39m] \u001b[38;5;241m=\u001b[39m b_df[\u001b[38;5;124m'\u001b[39m\u001b[38;5;124mweighted_eccentricity\u001b[39m\u001b[38;5;124m'\u001b[39m] \u001b[38;5;241m/\u001b[39m b_df[\u001b[38;5;124m'\u001b[39m\u001b[38;5;124mslab_area_mean\u001b[39m\u001b[38;5;124m'\u001b[39m]\n\u001b[1;32m      3\u001b[0m b_df[\u001b[38;5;124m'\u001b[39m\u001b[38;5;124mweighted_eccentricity_perimeter\u001b[39m\u001b[38;5;124m'\u001b[39m] \u001b[38;5;241m=\u001b[39m b_df[\u001b[38;5;124m'\u001b[39m\u001b[38;5;124mweighted_eccentricity\u001b[39m\u001b[38;5;124m'\u001b[39m] \u001b[38;5;241m/\u001b[39m b_df[\u001b[38;5;124m'\u001b[39m\u001b[38;5;124mshape_factor\u001b[39m\u001b[38;5;124m'\u001b[39m]\n",
      "File \u001b[0;32m~/miniconda3/envs/steel-ml-model/lib/python3.10/site-packages/pandas/core/frame.py:3804\u001b[0m, in \u001b[0;36mDataFrame.__getitem__\u001b[0;34m(self, key)\u001b[0m\n\u001b[1;32m   3802\u001b[0m \u001b[38;5;28;01mif\u001b[39;00m \u001b[38;5;28mself\u001b[39m\u001b[38;5;241m.\u001b[39mcolumns\u001b[38;5;241m.\u001b[39mnlevels \u001b[38;5;241m>\u001b[39m \u001b[38;5;241m1\u001b[39m:\n\u001b[1;32m   3803\u001b[0m     \u001b[38;5;28;01mreturn\u001b[39;00m \u001b[38;5;28mself\u001b[39m\u001b[38;5;241m.\u001b[39m_getitem_multilevel(key)\n\u001b[0;32m-> 3804\u001b[0m indexer \u001b[38;5;241m=\u001b[39m \u001b[38;5;28;43mself\u001b[39;49m\u001b[38;5;241;43m.\u001b[39;49m\u001b[43mcolumns\u001b[49m\u001b[38;5;241;43m.\u001b[39;49m\u001b[43mget_loc\u001b[49m\u001b[43m(\u001b[49m\u001b[43mkey\u001b[49m\u001b[43m)\u001b[49m\n\u001b[1;32m   3805\u001b[0m \u001b[38;5;28;01mif\u001b[39;00m is_integer(indexer):\n\u001b[1;32m   3806\u001b[0m     indexer \u001b[38;5;241m=\u001b[39m [indexer]\n",
      "File \u001b[0;32m~/miniconda3/envs/steel-ml-model/lib/python3.10/site-packages/pandas/core/indexes/base.py:3805\u001b[0m, in \u001b[0;36mIndex.get_loc\u001b[0;34m(self, key, method, tolerance)\u001b[0m\n\u001b[1;32m   3803\u001b[0m     \u001b[38;5;28;01mreturn\u001b[39;00m \u001b[38;5;28mself\u001b[39m\u001b[38;5;241m.\u001b[39m_engine\u001b[38;5;241m.\u001b[39mget_loc(casted_key)\n\u001b[1;32m   3804\u001b[0m \u001b[38;5;28;01mexcept\u001b[39;00m \u001b[38;5;167;01mKeyError\u001b[39;00m \u001b[38;5;28;01mas\u001b[39;00m err:\n\u001b[0;32m-> 3805\u001b[0m     \u001b[38;5;28;01mraise\u001b[39;00m \u001b[38;5;167;01mKeyError\u001b[39;00m(key) \u001b[38;5;28;01mfrom\u001b[39;00m \u001b[38;5;21;01merr\u001b[39;00m\n\u001b[1;32m   3806\u001b[0m \u001b[38;5;28;01mexcept\u001b[39;00m \u001b[38;5;167;01mTypeError\u001b[39;00m:\n\u001b[1;32m   3807\u001b[0m     \u001b[38;5;66;03m# If we have a listlike key, _check_indexing_error will raise\u001b[39;00m\n\u001b[1;32m   3808\u001b[0m     \u001b[38;5;66;03m#  InvalidIndexError. Otherwise we fall through and re-raise\u001b[39;00m\n\u001b[1;32m   3809\u001b[0m     \u001b[38;5;66;03m#  the TypeError.\u001b[39;00m\n\u001b[1;32m   3810\u001b[0m     \u001b[38;5;28mself\u001b[39m\u001b[38;5;241m.\u001b[39m_check_indexing_error(key)\n",
      "\u001b[0;31mKeyError\u001b[0m: 'weighted_eccentricity'"
     ]
    }
   ],
   "source": [
    "b_df['weighted_eccentricity_length'] = b_df['weighted_eccentricity'] / b_df['max_length']\n",
    "b_df['weighted_eccentricity_m2'] = b_df['weighted_eccentricity'] / b_df['slab_area_mean']\n",
    "b_df['weighted_eccentricity_perimeter'] = b_df['weighted_eccentricity'] / b_df['shape_factor']"
   ]
  },
  {
   "cell_type": "code",
   "execution_count": 41,
   "id": "723e7a90",
   "metadata": {},
   "outputs": [
    {
     "data": {
      "text/plain": [
       "<AxesSubplot: >"
      ]
     },
     "execution_count": 41,
     "metadata": {},
     "output_type": "execute_result"
    },
    {
     "data": {
      "image/png": "[encoded data removed]",
      "text/plain": [
       "<Figure size 640x480 with 1 Axes>"
      ]
     },
     "metadata": {},
     "output_type": "display_data"
    }
   ],
   "source": [
    "b_df['weighted_eccentricity_length'].hist(bins=100)"
   ]
  },
  {
   "cell_type": "code",
   "execution_count": 45,
   "id": "1de58c3d",
   "metadata": {},
   "outputs": [
    {
     "data": {
      "text/plain": [
       "-0.029890019729422155"
      ]
     },
     "execution_count": 45,
     "metadata": {},
     "output_type": "execute_result"
    }
   ],
   "source": [
    "corr_matrix = b_df[(b_df['eccentricity_length'] < 0.3) & (b_df['total_height'] > 30)].select_dtypes(include=['float64']).corr()\n",
    "corr_matrix[\"reinf_steel_ratio\"].sort_values(ascending=False)['weighted_eccentricity_length']"
   ]
  },
  {
   "cell_type": "code",
   "execution_count": 183,
   "id": "e706eb8a",
   "metadata": {},
   "outputs": [
    {
     "data": {
      "text/plain": [
       "array(['BOLP14017_C00_I00_H00_Q00_R00_V00_S00_O01',\n",
       "       'BOLP15019_C00_I00_H00_Q00_R00_V00_S00_O01',\n",
       "       'BOLP16004M3_C00_I00_H00_Q00_R00_V00_S00_O01',\n",
       "       'BOLP17014M2_C03_I03_H01_Q02_R01_V08_S03_O01',\n",
       "       'BOLP17014M2_C04_I01_H02_Q01_R01_V09_S04_O01',\n",
       "       'BOLP17014M2_C07_I01_H05_Q02_R04_V01_S07_O01',\n",
       "       'BOLP17014M2_C08_I02_H06_Q01_R03_V02_S08_O01',\n",
       "       'BOLP17014M2_C09_I03_H07_Q02_R04_V03_S09_O01',\n",
       "       'BOLP17014M2_C10_I01_H08_Q01_R04_V04_S10_O01',\n",
       "       'BOLP17014M2_C11_I02_H09_Q02_R04_V05_S04_O01',\n",
       "       'BOLP18425_C06_I03_H13_Q05_R04_V12_S05_O01',\n",
       "       'BOLP18425_C07_I01_H14_Q05_R04_V12_S05_O01',\n",
       "       'BOLP18425_C08_I02_H15_Q03_R09_V12_S05_O01',\n",
       "       'BOLP18425_C09_I03_H04_Q04_R01_V12_S05_O01',\n",
       "       'BOLP18425_C10_I01_H03_Q02_R04_V04_S05_O01',\n",
       "       'BOLP18425_C11_I02_H09_Q07_R04_V12_S05_O01',\n",
       "       'BOLP19008_C00_I00_H00_Q00_R00_V00_S00_O01',\n",
       "       'BOLP19313_C01_I02_H00_Q01_R04_V12_S11_O02',\n",
       "       'BOLP19313_C02_I02_H00_Q01_R04_V12_S11_O02',\n",
       "       'BOLP19313_C04_I02_H00_Q01_R04_V12_S11_O02',\n",
       "       'BOLP19313_C06_I02_H00_Q01_R04_V12_S11_O02',\n",
       "       'BOLP19313_C07_I02_H00_Q01_R04_V12_S11_O02',\n",
       "       'BOLP19313_C08_I02_H00_Q01_R04_V12_S11_O02',\n",
       "       'BOLP19313_C09_I02_H00_Q01_R04_V12_S11_O02',\n",
       "       'BOLP19313_C10_I02_H00_Q01_R04_V12_S11_O02',\n",
       "       'BOLP19313_C11_I02_H00_Q01_R04_V12_S11_O02',\n",
       "       'BOLP20014_C00_I00_H00_Q00_R00_V00_S00_O01',\n",
       "       'BOLP20302_C01_I02_H00_Q00_R04_V12_S05_O02',\n",
       "       'BOLP20302_C02_I02_H00_Q00_R04_V12_S05_O02',\n",
       "       'BOLP20302_C03_I02_H00_Q00_R04_V12_S05_O02',\n",
       "       'BOLP20302_C04_I02_H00_Q00_R04_V12_S05_O02',\n",
       "       'BOLP20302_C05_I02_H00_Q00_R04_V12_S05_O02',\n",
       "       'BOLP20302_C06_I02_H00_Q00_R04_V12_S05_O02',\n",
       "       'BOLP20302_C07_I02_H00_Q00_R04_V12_S05_O02',\n",
       "       'BOLP20302_C08_I02_H00_Q00_R04_V12_S05_O02',\n",
       "       'BOLP20302_C10_I02_H00_Q00_R04_V12_S05_O02',\n",
       "       'BOLP20302_C11_I02_H00_Q00_R04_V12_S05_O02',\n",
       "       'BOLP20338M1_C02_I02_H16_Q04_R01_V13_S05_O01',\n",
       "       'BOLP20338M1_C03_I03_H15_Q02_R01_V13_S05_O01',\n",
       "       'BOLP20338M1_C05_I01_H14_Q05_R01_V13_S08_O01',\n",
       "       'BOLP20338M1_C06_I01_H07_Q07_R01_V13_S05_O01',\n",
       "       'BOLP20338M1_C07_I03_H06_Q04_R01_V13_S05_O01',\n",
       "       'BOLP20338M1_C08_I01_H04_Q06_R01_V13_S05_O01',\n",
       "       'BOLP20338M1_C09_I02_H05_Q04_R01_V13_S07_O01',\n",
       "       'BOLP20338M1_C10_I01_H03_Q02_R01_V13_S05_O01',\n",
       "       'BOLP20338M1_C11_I02_H02_Q01_R01_V13_S05_O01',\n",
       "       'BOLP20403M1_C01_I03_H02_Q05_R04_V12_S03_O01',\n",
       "       'BOLP20403M1_C02_I01_H01_Q06_R02_V12_S03_O01',\n",
       "       'BOLP20403M1_C03_I02_H09_Q06_R04_V12_S03_O01',\n",
       "       'BOLP20403M1_C04_I03_H15_Q01_R02_V12_S03_O01',\n",
       "       'BOLP20403M1_C05_I01_H03_Q02_R04_V12_S03_O01',\n",
       "       'BOLP20403M1_C07_I03_H03_Q04_R08_V12_S03_O01',\n",
       "       'BOLP20403M1_C08_I01_H06_Q01_R02_V12_S03_O01',\n",
       "       'BOLP20403M1_C09_I02_H04_Q06_R03_V12_S03_O01',\n",
       "       'BOLP20403M1_C11_I01_H07_Q07_R08_V12_S03_O01',\n",
       "       'BOSC16002_C00_I00_H00_Q00_R00_V00_S00_O01',\n",
       "       'BOSC16009_C00_I00_H00_Q00_R00_V00_S00_O01',\n",
       "       'BOSC17214M2_C03_I02_H03_Q02_R02_V08_S03_O01',\n",
       "       'BOSC17214M2_C07_I03_H07_Q02_R03_V01_S07_O01',\n",
       "       'BOSC17214M2_C08_I01_H08_Q01_R04_V02_S08_O01',\n",
       "       'BOSC17214M2_C09_I02_H09_Q02_R04_V03_S09_O01',\n",
       "       'BOSC17214M2_C11_I01_H11_Q02_R04_V05_S06_O01',\n",
       "       'BOSC18017M3_C00_I00_H00_Q00_R00_V00_S00_O01',\n",
       "       'BOSC18025_C00_I00_H00_Q00_R00_V00_S00_O01',\n",
       "       'BOSC18025_C07_I03_H13_Q02_R04_V13_S03_O01',\n",
       "       'BOSC18025_C08_I01_H04_Q03_R09_V13_S03_O01',\n",
       "       'BOSC18025_C11_I03_H03_Q01_R04_V13_S03_O01',\n",
       "       'BOSC19009_C00_I00_H00_Q00_R00_V00_S00_O01',\n",
       "       'BOSC19020_C00_I00_H00_Q00_R00_V00_S00_O02',\n",
       "       'BOSC19026M8_C00_I00_H00_Q00_R00_V00_S00_O01',\n",
       "       'BOSC19313_C01_I02_H00_Q01_R04_V13_S06_O02',\n",
       "       'BOSC19313_C03_I02_H00_Q01_R04_V13_S06_O02',\n",
       "       'BOSC19313_C05_I02_H00_Q01_R04_V13_S06_O02',\n",
       "       'BOSC19313_C06_I02_H00_Q01_R04_V13_S06_O02',\n",
       "       'BOSC19313_C07_I02_H00_Q01_R04_V13_S06_O02',\n",
       "       'BOSC19313_C08_I02_H00_Q01_R04_V13_S06_O02',\n",
       "       'BOSC19313_C11_I02_H00_Q01_R04_V13_S06_O02',\n",
       "       'BOSC20003M1_C00_I00_H00_Q00_R00_V00_S00_O02',\n",
       "       'BOSC20003M1_C01_I02_H02_Q02_R03_V13_S03_O01',\n",
       "       'BOSC20003M1_C04_I02_H03_Q05_R04_V13_S03_O01',\n",
       "       'BOSC20003M1_C05_I03_H02_Q02_R03_V13_S05_O01',\n",
       "       'BOSC20003M1_C06_I01_H04_Q01_R02_V13_S03_O01',\n",
       "       'BOSC20003M1_C07_I02_H03_Q04_R08_V13_S03_O01',\n",
       "       'BOSC20003M1_C08_I03_H06_Q01_R04_V13_S03_O01',\n",
       "       'BOSC20003M1_C09_I01_H03_Q07_R05_V13_S03_O01',\n",
       "       'BOSC20003M1_C10_I02_H04_Q05_R03_V13_S03_O01',\n",
       "       'BOSC20003M1_C11_I03_H06_Q04_R08_V13_S03_O01',\n",
       "       'BOSC20302_C01_I02_H00_Q00_R04_V12_S03_O02',\n",
       "       'BOSC20302_C02_I02_H00_Q00_R04_V12_S03_O02',\n",
       "       'BOSC20302_C03_I02_H00_Q00_R04_V12_S03_O02',\n",
       "       'BOSC20302_C04_I02_H00_Q00_R04_V12_S03_O02',\n",
       "       'BOSC20302_C05_I02_H00_Q00_R04_V12_S03_O02',\n",
       "       'BOSC20302_C06_I02_H00_Q00_R04_V12_S03_O02',\n",
       "       'BOSC20302_C07_I02_H00_Q00_R04_V12_S03_O02',\n",
       "       'BOSC20302_C08_I02_H00_Q00_R04_V12_S03_O02',\n",
       "       'BOSC20302_C09_I02_H00_Q00_R04_V12_S03_O02',\n",
       "       'BOSC20302_C10_I02_H00_Q00_R04_V12_S03_O02',\n",
       "       'BOSC20338M1_C01_I02_H05_Q01_R01_V13_S03_O01',\n",
       "       'BOSC20338M1_C02_I01_H06_Q01_R01_V13_S03_O01',\n",
       "       'BOSC20338M1_C05_I02_H01_Q01_R01_V09_S03_O01',\n",
       "       'BOSC20338M1_C06_I01_H02_Q04_R01_V13_S03_O01',\n",
       "       'BOSC20338M1_C07_I02_H13_Q05_R01_V13_S03_O01',\n",
       "       'BOSC20338M1_C08_I03_H14_Q06_R01_V13_S03_O01',\n",
       "       'BOSC20338M1_C09_I01_H15_Q07_R01_V13_S03_O01',\n",
       "       'BOSC20338M1_C10_I02_H16_Q04_R01_V13_S03_O01',\n",
       "       'BOSC20338M1_C11_I03_H17_Q01_R01_V13_S03_O01',\n",
       "       'PYAS17214M2_C02_I03_H01_Q02_R01_V07_S00_O01',\n",
       "       'PYAS17214M2_C04_I02_H03_Q02_R01_V07_S00_O01',\n",
       "       'PYAS18425_C06_I03_H01_Q05_R04_V07_S00_O01',\n",
       "       'PYAS18425_C07_I02_H01_Q02_R04_V07_S00_O01',\n",
       "       'PYAS18425_C08_I01_H01_Q03_R09_V07_S00_O01',\n",
       "       'PYAS18425_C10_I02_H01_Q02_R04_V07_S00_O01',\n",
       "       'PYAS18425_C11_I01_H01_Q01_R04_V08_S00_O01',\n",
       "       'PYAS19005M1_C00_I00_H00_Q00_R00_V00_S00_O01',\n",
       "       'PYAS19008M1_C00_I00_H00_Q00_R00_V00_S00_O01',\n",
       "       'PYAS19008M2_C00_I00_H00_Q00_R00_V00_S00_O01',\n",
       "       'PYAS19013_C01_I01_H00_Q01_R04_V07_S00_O02',\n",
       "       'PYAS19013_C02_I01_H00_Q01_R04_V07_S00_O02',\n",
       "       'PYAS19013_C03_I01_H00_Q01_R04_V07_S00_O02',\n",
       "       'PYAS19013_C04_I01_H00_Q01_R04_V07_S00_O02',\n",
       "       'PYAS19013_C05_I01_H00_Q01_R04_V07_S00_O02',\n",
       "       'PYAS19013_C07_I01_H00_Q01_R04_V07_S00_O02',\n",
       "       'PYAS19013_C08_I01_H00_Q01_R04_V07_S00_O02',\n",
       "       'PYAS19013_C09_I01_H00_Q01_R04_V07_S00_O02',\n",
       "       'PYAS19013_C10_I01_H00_Q01_R04_V07_S00_O02',\n",
       "       'PYAS19013_C11_I01_H00_Q01_R04_V07_S00_O02',\n",
       "       'PYAS19027M5_C00_I00_H00_Q00_R00_V00_S00_O01',\n",
       "       'PYAS19036_C00_I00_H00_Q00_R00_V00_S00_O02',\n",
       "       'PYAS19038_C00_I00_H00_Q00_R00_V00_S00_O02',\n",
       "       'PYAS20002_C00_I00_H00_Q00_R00_V00_S00_O01',\n",
       "       'PYAS20002_C01_I01_H00_Q00_R04_V07_S00_O02',\n",
       "       'PYAS20002_C02_I01_H00_Q00_R04_V07_S00_O02',\n",
       "       'PYAS20002_C03_I01_H00_Q00_R04_V07_S00_O02',\n",
       "       'PYAS20002_C04_I01_H00_Q00_R04_V07_S00_O02',\n",
       "       'PYAS20002_C05_I01_H00_Q00_R04_V07_S00_O02',\n",
       "       'PYAS20002_C06_I01_H00_Q00_R04_V07_S00_O02',\n",
       "       'PYAS20002_C07_I01_H00_Q00_R04_V07_S00_O02',\n",
       "       'PYAS20002_C08_I01_H00_Q00_R04_V07_S00_O02',\n",
       "       'PYAS20002_C09_I01_H00_Q00_R04_V07_S00_O02',\n",
       "       'PYAS20002_C10_I01_H00_Q00_R04_V07_S00_O02',\n",
       "       'PYAS20002_C11_I01_H00_Q00_R04_V07_S00_O02',\n",
       "       'PYAS20022_C00_I00_H00_Q00_R00_V00_S00_O01',\n",
       "       'PYAS20038M1_C00_I00_H00_Q00_R00_V00_S00_O01',\n",
       "       'PYAS20038M1_C01_I01_H01_Q01_R01_V09_S00_O01',\n",
       "       'PYAS20038M1_C02_I02_H02_Q02_R01_V10_S00_O01',\n",
       "       'PYAS20038M1_C03_I03_H03_Q03_R01_V07_S00_O01',\n",
       "       'PYAS20038M1_C04_I01_H04_Q04_R01_V07_S00_O01',\n",
       "       'PYAS20038M1_C05_I02_H06_Q05_R01_V07_S00_O01',\n",
       "       'PYAS20038M1_C06_I03_H07_Q06_R01_V07_S00_O01',\n",
       "       'PYAS20038M1_C08_I02_H14_Q05_R01_V07_S00_O01',\n",
       "       'PYAS20038M1_C09_I03_H15_Q02_R01_V07_S00_O01',\n",
       "       'PYAS20038M1_C10_I01_H16_Q04_R01_V07_S00_O01',\n",
       "       'PYAS20038M1_C11_I03_H17_Q07_R01_V07_S00_O01',\n",
       "       'PYAS20403M1_C01_I03_H03_Q05_R01_V07_S00_O01',\n",
       "       'PYAS20403M1_C02_I02_H03_Q02_R04_V07_S00_O01',\n",
       "       'PYAS20403M1_C03_I01_H09_Q06_R02_V07_S00_O01',\n",
       "       'PYAS20403M1_C04_I02_H04_Q05_R04_V07_S00_O01',\n",
       "       'PYAS20403M1_C05_I03_H02_Q01_R01_V07_S00_O01',\n",
       "       'PYAS20403M1_C08_I03_H07_Q05_R04_V07_S00_O01',\n",
       "       'PYAS20403M1_C09_I01_H15_Q06_R02_V07_S00_O01',\n",
       "       'PYAS20403M1_C10_I02_H04_Q02_R02_V07_S00_O01',\n",
       "       'PYAS20403M1_C11_I03_H13_Q01_R01_V07_S00_O01'], dtype=object)"
      ]
     },
     "execution_count": 183,
     "metadata": {},
     "output_type": "execute_result"
    }
   ],
   "source": [
    "b_df[b_df['eccentricity_length'] > 0.3]['project_code'].unique()"
   ]
  },
  {
   "cell_type": "code",
   "execution_count": 180,
   "id": "db6ba0b1",
   "metadata": {},
   "outputs": [
    {
     "data": {
      "text/html": [
       "<div>\n",
       "<style scoped>\n",
       "    .dataframe tbody tr th:only-of-type {\n",
       "        vertical-align: middle;\n",
       "    }\n",
       "\n",
       "    .dataframe tbody tr th {\n",
       "        vertical-align: top;\n",
       "    }\n",
       "\n",
       "    .dataframe thead th {\n",
       "        text-align: right;\n",
       "    }\n",
       "</style>\n",
       "<table border=\"1\" class=\"dataframe\">\n",
       "  <thead>\n",
       "    <tr style=\"text-align: right;\">\n",
       "      <th></th>\n",
       "      <th>floor_name</th>\n",
       "      <th>slab_total_area</th>\n",
       "      <th>center_x</th>\n",
       "      <th>center_y</th>\n",
       "      <th>x_length</th>\n",
       "      <th>y_length</th>\n",
       "      <th>cdm_x</th>\n",
       "      <th>cdm_y</th>\n",
       "      <th>cdr_x</th>\n",
       "      <th>cdr_y</th>\n",
       "    </tr>\n",
       "  </thead>\n",
       "  <tbody>\n",
       "    <tr>\n",
       "      <th>5909</th>\n",
       "      <td>PISO 1</td>\n",
       "      <td>314.525605</td>\n",
       "      <td>13.187000</td>\n",
       "      <td>45.474721</td>\n",
       "      <td>18.000000</td>\n",
       "      <td>19.553442</td>\n",
       "      <td>25.349589</td>\n",
       "      <td>32.028368</td>\n",
       "      <td>12.846321</td>\n",
       "      <td>43.548582</td>\n",
       "    </tr>\n",
       "    <tr>\n",
       "      <th>5910</th>\n",
       "      <td>PISO 2</td>\n",
       "      <td>301.057095</td>\n",
       "      <td>13.187000</td>\n",
       "      <td>45.474721</td>\n",
       "      <td>18.000000</td>\n",
       "      <td>19.553442</td>\n",
       "      <td>26.629462</td>\n",
       "      <td>33.064593</td>\n",
       "      <td>12.508208</td>\n",
       "      <td>44.036909</td>\n",
       "    </tr>\n",
       "    <tr>\n",
       "      <th>5911</th>\n",
       "      <td>PIISO 3</td>\n",
       "      <td>301.057095</td>\n",
       "      <td>13.187000</td>\n",
       "      <td>45.474721</td>\n",
       "      <td>18.000000</td>\n",
       "      <td>19.553442</td>\n",
       "      <td>27.121433</td>\n",
       "      <td>32.760622</td>\n",
       "      <td>12.278273</td>\n",
       "      <td>44.043557</td>\n",
       "    </tr>\n",
       "    <tr>\n",
       "      <th>5912</th>\n",
       "      <td>PISO 4</td>\n",
       "      <td>302.845504</td>\n",
       "      <td>13.187000</td>\n",
       "      <td>45.474721</td>\n",
       "      <td>18.000000</td>\n",
       "      <td>19.553442</td>\n",
       "      <td>27.645695</td>\n",
       "      <td>32.721817</td>\n",
       "      <td>11.954423</td>\n",
       "      <td>44.384170</td>\n",
       "    </tr>\n",
       "    <tr>\n",
       "      <th>5913</th>\n",
       "      <td>PISO 5</td>\n",
       "      <td>182.724045</td>\n",
       "      <td>12.841836</td>\n",
       "      <td>45.060907</td>\n",
       "      <td>12.130328</td>\n",
       "      <td>16.725813</td>\n",
       "      <td>27.848607</td>\n",
       "      <td>33.150665</td>\n",
       "      <td>11.228990</td>\n",
       "      <td>44.940903</td>\n",
       "    </tr>\n",
       "    <tr>\n",
       "      <th>5914</th>\n",
       "      <td>PISO 6</td>\n",
       "      <td>182.724045</td>\n",
       "      <td>12.841836</td>\n",
       "      <td>45.060907</td>\n",
       "      <td>12.130328</td>\n",
       "      <td>16.725813</td>\n",
       "      <td>27.867681</td>\n",
       "      <td>33.133393</td>\n",
       "      <td>11.263363</td>\n",
       "      <td>44.926599</td>\n",
       "    </tr>\n",
       "    <tr>\n",
       "      <th>5915</th>\n",
       "      <td>PISO 7</td>\n",
       "      <td>182.724045</td>\n",
       "      <td>12.841836</td>\n",
       "      <td>45.060907</td>\n",
       "      <td>12.130328</td>\n",
       "      <td>16.725813</td>\n",
       "      <td>27.902785</td>\n",
       "      <td>33.102481</td>\n",
       "      <td>11.250353</td>\n",
       "      <td>44.895011</td>\n",
       "    </tr>\n",
       "    <tr>\n",
       "      <th>5916</th>\n",
       "      <td>PISO 8</td>\n",
       "      <td>182.724045</td>\n",
       "      <td>12.841836</td>\n",
       "      <td>45.060907</td>\n",
       "      <td>12.130328</td>\n",
       "      <td>16.725813</td>\n",
       "      <td>27.902785</td>\n",
       "      <td>33.102481</td>\n",
       "      <td>11.250353</td>\n",
       "      <td>44.895011</td>\n",
       "    </tr>\n",
       "    <tr>\n",
       "      <th>5917</th>\n",
       "      <td>PISO 9</td>\n",
       "      <td>182.724045</td>\n",
       "      <td>12.841836</td>\n",
       "      <td>45.060907</td>\n",
       "      <td>12.130328</td>\n",
       "      <td>16.725813</td>\n",
       "      <td>27.919719</td>\n",
       "      <td>33.094713</td>\n",
       "      <td>11.247672</td>\n",
       "      <td>44.924099</td>\n",
       "    </tr>\n",
       "    <tr>\n",
       "      <th>5918</th>\n",
       "      <td>PISO 10</td>\n",
       "      <td>182.724045</td>\n",
       "      <td>12.841836</td>\n",
       "      <td>45.060907</td>\n",
       "      <td>12.130328</td>\n",
       "      <td>16.725813</td>\n",
       "      <td>27.919719</td>\n",
       "      <td>33.094713</td>\n",
       "      <td>11.247672</td>\n",
       "      <td>44.924099</td>\n",
       "    </tr>\n",
       "    <tr>\n",
       "      <th>5919</th>\n",
       "      <td>PISO 11</td>\n",
       "      <td>182.724045</td>\n",
       "      <td>12.841836</td>\n",
       "      <td>45.060907</td>\n",
       "      <td>12.130328</td>\n",
       "      <td>16.725813</td>\n",
       "      <td>27.919719</td>\n",
       "      <td>33.094713</td>\n",
       "      <td>11.247672</td>\n",
       "      <td>44.924099</td>\n",
       "    </tr>\n",
       "    <tr>\n",
       "      <th>5920</th>\n",
       "      <td>PISO 12</td>\n",
       "      <td>182.724045</td>\n",
       "      <td>12.841836</td>\n",
       "      <td>45.060907</td>\n",
       "      <td>12.130328</td>\n",
       "      <td>16.725813</td>\n",
       "      <td>27.919719</td>\n",
       "      <td>33.094713</td>\n",
       "      <td>11.247672</td>\n",
       "      <td>44.924099</td>\n",
       "    </tr>\n",
       "    <tr>\n",
       "      <th>5921</th>\n",
       "      <td>PISO 13</td>\n",
       "      <td>182.724045</td>\n",
       "      <td>12.841836</td>\n",
       "      <td>45.060907</td>\n",
       "      <td>12.130328</td>\n",
       "      <td>16.725813</td>\n",
       "      <td>27.919719</td>\n",
       "      <td>33.094713</td>\n",
       "      <td>11.247672</td>\n",
       "      <td>44.924099</td>\n",
       "    </tr>\n",
       "    <tr>\n",
       "      <th>5922</th>\n",
       "      <td>PISO 14</td>\n",
       "      <td>182.724045</td>\n",
       "      <td>12.841836</td>\n",
       "      <td>45.060907</td>\n",
       "      <td>12.130328</td>\n",
       "      <td>16.725813</td>\n",
       "      <td>27.919570</td>\n",
       "      <td>33.094522</td>\n",
       "      <td>11.247672</td>\n",
       "      <td>44.924099</td>\n",
       "    </tr>\n",
       "    <tr>\n",
       "      <th>5923</th>\n",
       "      <td>CUBIERTA</td>\n",
       "      <td>192.014080</td>\n",
       "      <td>12.841836</td>\n",
       "      <td>45.060907</td>\n",
       "      <td>12.130328</td>\n",
       "      <td>16.725813</td>\n",
       "      <td>27.523109</td>\n",
       "      <td>32.511035</td>\n",
       "      <td>11.247672</td>\n",
       "      <td>44.924099</td>\n",
       "    </tr>\n",
       "  </tbody>\n",
       "</table>\n",
       "</div>"
      ],
      "text/plain": [
       "     floor_name  slab_total_area   center_x   center_y   x_length   y_length  \\\n",
       "5909     PISO 1       314.525605  13.187000  45.474721  18.000000  19.553442   \n",
       "5910     PISO 2       301.057095  13.187000  45.474721  18.000000  19.553442   \n",
       "5911    PIISO 3       301.057095  13.187000  45.474721  18.000000  19.553442   \n",
       "5912     PISO 4       302.845504  13.187000  45.474721  18.000000  19.553442   \n",
       "5913     PISO 5       182.724045  12.841836  45.060907  12.130328  16.725813   \n",
       "5914     PISO 6       182.724045  12.841836  45.060907  12.130328  16.725813   \n",
       "5915     PISO 7       182.724045  12.841836  45.060907  12.130328  16.725813   \n",
       "5916     PISO 8       182.724045  12.841836  45.060907  12.130328  16.725813   \n",
       "5917     PISO 9       182.724045  12.841836  45.060907  12.130328  16.725813   \n",
       "5918    PISO 10       182.724045  12.841836  45.060907  12.130328  16.725813   \n",
       "5919    PISO 11       182.724045  12.841836  45.060907  12.130328  16.725813   \n",
       "5920    PISO 12       182.724045  12.841836  45.060907  12.130328  16.725813   \n",
       "5921    PISO 13       182.724045  12.841836  45.060907  12.130328  16.725813   \n",
       "5922    PISO 14       182.724045  12.841836  45.060907  12.130328  16.725813   \n",
       "5923   CUBIERTA       192.014080  12.841836  45.060907  12.130328  16.725813   \n",
       "\n",
       "          cdm_x      cdm_y      cdr_x      cdr_y  \n",
       "5909  25.349589  32.028368  12.846321  43.548582  \n",
       "5910  26.629462  33.064593  12.508208  44.036909  \n",
       "5911  27.121433  32.760622  12.278273  44.043557  \n",
       "5912  27.645695  32.721817  11.954423  44.384170  \n",
       "5913  27.848607  33.150665  11.228990  44.940903  \n",
       "5914  27.867681  33.133393  11.263363  44.926599  \n",
       "5915  27.902785  33.102481  11.250353  44.895011  \n",
       "5916  27.902785  33.102481  11.250353  44.895011  \n",
       "5917  27.919719  33.094713  11.247672  44.924099  \n",
       "5918  27.919719  33.094713  11.247672  44.924099  \n",
       "5919  27.919719  33.094713  11.247672  44.924099  \n",
       "5920  27.919719  33.094713  11.247672  44.924099  \n",
       "5921  27.919719  33.094713  11.247672  44.924099  \n",
       "5922  27.919570  33.094522  11.247672  44.924099  \n",
       "5923  27.523109  32.511035  11.247672  44.924099  "
      ]
     },
     "execution_count": 180,
     "metadata": {},
     "output_type": "execute_result"
    }
   ],
   "source": [
    "df[df['project_code'] == 'BOLP20403M1_C01_I03_H02_Q05_R04_V12_S03_O01'][['floor_name', 'slab_total_area', 'center_x', 'center_y', 'x_length', 'y_length', 'cdm_x', 'cdm_y', 'cdr_x', 'cdr_y']]"
   ]
  },
  {
   "cell_type": "code",
   "execution_count": 136,
   "id": "e76f2ab4",
   "metadata": {},
   "outputs": [
    {
     "data": {
      "text/plain": [
       "<AxesSubplot: xlabel='eccentricity_length', ylabel='reinf_steel_ratio'>"
      ]
     },
     "execution_count": 136,
     "metadata": {},
     "output_type": "execute_result"
    },
    {
     "data": {
      "image/png": "[encoded data removed]",
      "text/plain": [
       "<Figure size 640x480 with 1 Axes>"
      ]
     },
     "metadata": {},
     "output_type": "display_data"
    }
   ],
   "source": [
    "sns.scatterplot(data=b_df[ori_cond], x='eccentricity_length', y='reinf_steel_ratio', alpha=0.1)"
   ]
  },
  {
   "cell_type": "code",
   "execution_count": 137,
   "id": "5e4027b1",
   "metadata": {},
   "outputs": [
    {
     "data": {
      "text/plain": [
       "reinf_steel_ratio         1.000000\n",
       "eccentricity_m2           0.099036\n",
       "eccentricity_length      -0.010011\n",
       "eccentricity_perimeter   -0.040812\n",
       "eccentricity             -0.162595\n",
       "Name: reinf_steel_ratio, dtype: float64"
      ]
     },
     "execution_count": 137,
     "metadata": {},
     "output_type": "execute_result"
    }
   ],
   "source": [
    "fields = ['eccentricity', 'eccentricity_length', 'eccentricity_m2', 'eccentricity_perimeter', 'reinf_steel_ratio']\n",
    "ecc_cm = b_df[fields].corr()\n",
    "ecc_cm[\"reinf_steel_ratio\"].sort_values(ascending=False)"
   ]
  },
  {
   "cell_type": "code",
   "execution_count": 138,
   "id": "9cd8da63",
   "metadata": {},
   "outputs": [
    {
     "data": {
      "text/plain": [
       "<AxesSubplot: xlabel='eccentricity_m2', ylabel='reinf_steel_ratio'>"
      ]
     },
     "execution_count": 138,
     "metadata": {},
     "output_type": "execute_result"
    },
    {
     "data": {
      "image/png": "[encoded data removed]",
      "text/plain": [
       "<Figure size 640x480 with 1 Axes>"
      ]
     },
     "metadata": {},
     "output_type": "display_data"
    }
   ],
   "source": [
    "sns.scatterplot(data=df, x='eccentricity_m2', y='reinf_steel_ratio', alpha=0.1)"
   ]
  },
  {
   "cell_type": "code",
   "execution_count": 161,
   "id": "61b448a0",
   "metadata": {},
   "outputs": [],
   "source": [
    "\n",
    "df['eccentricity_length'] = df['eccentricity'] / df['max_length']\n",
    "df['eccentricity_m2'] = df['eccentricity'] / df['slab_total_area']\n",
    "df['eccentricity_perimeter'] = df['eccentricity'] / df['shape_factor']\n",
    "df['eccentricity_level'] = df['eccentricity'] / df['slab_total_area']"
   ]
  },
  {
   "cell_type": "code",
   "execution_count": 162,
   "id": "a89a2b9a",
   "metadata": {},
   "outputs": [
    {
     "data": {
      "text/plain": [
       "reinf_steel_ratio         1.000000\n",
       "eccentricity_m2           0.028469\n",
       "eccentricity_level        0.028469\n",
       "eccentricity_perimeter   -0.030534\n",
       "eccentricity_length      -0.047254\n",
       "eccentricity             -0.061144\n",
       "Name: reinf_steel_ratio, dtype: float64"
      ]
     },
     "execution_count": 162,
     "metadata": {},
     "output_type": "execute_result"
    }
   ],
   "source": [
    "fields = ['eccentricity', 'eccentricity_length', 'eccentricity_m2', \n",
    "          'eccentricity_perimeter', 'eccentricity_level', 'reinf_steel_ratio']\n",
    "cond = (\n",
    "    (df['slab_type'] == 'FOAM_WAFFLE') &\n",
    "    df['project_code'].str.contains('_C00_I00_H00_Q00_R00_V00_S00_O01') &\n",
    "    (df['double_height'] == 0) &\n",
    "    (df['triple_height'] == 0)\n",
    ")\n",
    "ecc_cm = df[cond][fields].corr()\n",
    "ecc_cm[\"reinf_steel_ratio\"].sort_values(ascending=False)"
   ]
  },
  {
   "cell_type": "code",
   "execution_count": 163,
   "id": "9a6a4939",
   "metadata": {},
   "outputs": [
    {
     "data": {
      "text/plain": [
       "<AxesSubplot: xlabel='eccentricity_m2', ylabel='reinf_steel_ratio'>"
      ]
     },
     "execution_count": 163,
     "metadata": {},
     "output_type": "execute_result"
    },
    {
     "data": {
      "image/png": "[encoded data removed]",
      "text/plain": [
       "<Figure size 640x480 with 1 Axes>"
      ]
     },
     "metadata": {},
     "output_type": "display_data"
    }
   ],
   "source": [
    "sns.scatterplot(data=df[cond], x='eccentricity_m2', y='reinf_steel_ratio', alpha=0.1)"
   ]
  },
  {
   "cell_type": "code",
   "execution_count": 106,
   "id": "66c5f797",
   "metadata": {},
   "outputs": [],
   "source": [
    "X = b_df.drop(\"reinf_steel_ratio\", axis=1)\n",
    "y = b_df[\"reinf_steel_ratio\"].copy()"
   ]
  },
  {
   "cell_type": "code",
   "execution_count": 90,
   "id": "d5e15d1b",
   "metadata": {},
   "outputs": [],
   "source": [
    "import sklearn"
   ]
  },
  {
   "cell_type": "code",
   "execution_count": 91,
   "id": "743a9539",
   "metadata": {},
   "outputs": [],
   "source": [
    "sklearn.set_config(display=\"diagram\")"
   ]
  },
  {
   "cell_type": "code",
   "execution_count": null,
   "id": "293347e4",
   "metadata": {},
   "outputs": [],
   "source": [
    "def column_ratio(X):\n",
    "    return X[:, [0]] / X[:, [1]]\n",
    "\n",
    "def ratio_name(function_transformer, feature_names_in):\n",
    "    return [\"ratio\"]  # feature names out\n",
    "\n",
    "def ratio_pipeline():\n",
    "    return make_pipeline(\n",
    "        SimpleImputer(strategy=\"median\"),\n",
    "        FunctionTransformer(column_ratio, feature_names_out=ratio_name),\n",
    "        StandardScaler())\n",
    "\n",
    "cat_pipeline = make_pipeline(\n",
    "    SimpleImputer(strategy=\"most_frequent\"),\n",
    "    OneHotEncoder(handle_unknown=\"ignore\"))\n",
    "\n",
    "log_pipeline = make_pipeline(\n",
    "    SimpleImputer(strategy=\"median\"),\n",
    "    FunctionTransformer(np.log, feature_names_out=\"one-to-one\"),\n",
    "    StandardScaler())\n",
    "\n",
    "cluster_simil = ClusterSimilarity(n_clusters=10, gamma=1., random_state=42)\n",
    "\n",
    "default_num_pipeline = make_pipeline(SimpleImputer(strategy=\"median\"),\n",
    "                                     StandardScaler())\n",
    "\n",
    "preprocessing = ColumnTransformer([\n",
    "        (\"bedrooms\", ratio_pipeline(), [\"total_bedrooms\", \"total_rooms\"]),\n",
    "        (\"rooms_per_house\", ratio_pipeline(), [\"total_rooms\", \"households\"]),\n",
    "        (\"people_per_house\", ratio_pipeline(), [\"population\", \"households\"]),\n",
    "        (\"log\", log_pipeline, [\"total_bedrooms\", \"total_rooms\", \"population\",\n",
    "                               \"households\", \"median_income\"]),\n",
    "        (\"geo\", cluster_simil, [\"latitude\", \"longitude\"]),\n",
    "        (\"cat\", cat_pipeline, make_column_selector(dtype_include=object)),\n",
    "    ],\n",
    "    remainder=default_num_pipeline) "
   ]
  }
 ],
 "metadata": {
  "kernelspec": {
   "display_name": "Python 3 (ipykernel)",
   "language": "python",
   "name": "python3"
  },
  "language_info": {
   "codemirror_mode": {
    "name": "ipython",
    "version": 3
   },
   "file_extension": ".py",
   "mimetype": "text/x-python",
   "name": "python",
   "nbconvert_exporter": "python",
   "pygments_lexer": "ipython3",
   "version": "3.10.6"
  }
 },
 "nbformat": 4,
 "nbformat_minor": 5
}
