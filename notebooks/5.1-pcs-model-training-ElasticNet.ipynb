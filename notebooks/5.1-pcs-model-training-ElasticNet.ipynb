{
 "cells": [
  {
   "cell_type": "code",
   "execution_count": 1,
   "id": "8f3dccef",
   "metadata": {},
   "outputs": [
    {
     "data": {
      "text/html": [
       "<style>.container { width:90% !important; }</style>"
      ],
      "text/plain": [
       "<IPython.core.display.HTML object>"
      ]
     },
     "metadata": {},
     "output_type": "display_data"
    }
   ],
   "source": [
    "from IPython.display import display, HTML\n",
    "display(HTML(\"<style>.container { width:90% !important; }</style>\"))\n",
    "\n",
    "from matplotlib import pyplot as plt\n",
    "import seaborn as sns\n",
    "import pandas as pd\n",
    "import numpy as np\n",
    "\n",
    "from sklearn.preprocessing import OrdinalEncoder, OneHotEncoder, FunctionTransformer, StandardScaler\n",
    "from sklearn.impute import SimpleImputer\n",
    "from sklearn.pipeline import make_pipeline\n",
    "from sklearn.compose import make_column_selector, ColumnTransformer, TransformedTargetRegressor\n",
    "from sklearn.model_selection import GridSearchCV\n",
    "from sklearn.linear_model import ElasticNet\n",
    "from sklearn.model_selection import cross_val_score\n",
    "from sklearn.metrics import mean_absolute_percentage_error, make_scorer\n",
    "from utils import train_and_plot_learning_curve\n",
    "from sklearn.feature_selection import SequentialFeatureSelector\n",
    "from sklearn.feature_selection import SelectFromModel"
   ]
  },
  {
   "cell_type": "code",
   "execution_count": 2,
   "id": "20ab65a1",
   "metadata": {},
   "outputs": [],
   "source": [
    "df = pd.read_csv('../data/features/train.csv', sep=';', index_col=0)\n",
    "\n",
    "df['foundation_type'] = df['foundation_type'].astype('category')\n",
    "df['concrete_code'] = df['concrete_code'].astype('category')\n",
    "df['load_code'] = df['load_code'].astype('category')\n",
    "df['wind_code'] = df['wind_code'].astype('category')\n",
    "df['seismic_code'] = df['seismic_code'].astype('category')"
   ]
  },
  {
   "cell_type": "code",
   "execution_count": 3,
   "id": "5cc15769",
   "metadata": {
    "scrolled": true
   },
   "outputs": [
    {
     "name": "stdout",
     "output_type": "stream",
     "text": [
      "<class 'pandas.core.frame.DataFrame'>\n",
      "Int64Index: 1654 entries, 0 to 1653\n",
      "Data columns (total 78 columns):\n",
      " #   Column                      Non-Null Count  Dtype   \n",
      "---  ------                      --------------  -----   \n",
      " 0   foundation_type             1654 non-null   category\n",
      " 1   concrete_code               1654 non-null   category\n",
      " 2   load_code                   1654 non-null   category\n",
      " 3   wind_code                   1654 non-null   category\n",
      " 4   seismic_code                1654 non-null   category\n",
      " 5   floor_number                1654 non-null   int64   \n",
      " 6   total_height                1654 non-null   float64 \n",
      " 7   height                      1654 non-null   float64 \n",
      " 8   foundation_height           1654 non-null   float64 \n",
      " 9   double_height               1654 non-null   float64 \n",
      " 10  triple_height               1654 non-null   float64 \n",
      " 11  support_column              1654 non-null   int64   \n",
      " 12  unsupported_column          1654 non-null   int64   \n",
      " 13  walls_number                1654 non-null   int64   \n",
      " 14  retaining_walls_number      1654 non-null   int64   \n",
      " 15  support_area                1654 non-null   float64 \n",
      " 16  walls_area                  1654 non-null   float64 \n",
      " 17  retaining_walls_area        1654 non-null   float64 \n",
      " 18  LL                          1654 non-null   float64 \n",
      " 19  DL                          1654 non-null   float64 \n",
      " 20  LL_max                      1654 non-null   float64 \n",
      " 21  DL_max                      1654 non-null   float64 \n",
      " 22  wind_load_x                 1654 non-null   float64 \n",
      " 23  wind_load_y                 1654 non-null   float64 \n",
      " 24  seismic_acc                 1654 non-null   float64 \n",
      " 25  slab_total_area             1654 non-null   float64 \n",
      " 26  flat_slab_area              1654 non-null   float64 \n",
      " 27  waffle_slab_area            1654 non-null   float64 \n",
      " 28  depth                       1654 non-null   float64 \n",
      " 29  drop_panel_area             1654 non-null   float64 \n",
      " 30  domes_area                  1654 non-null   float64 \n",
      " 31  domes_number                1654 non-null   int64   \n",
      " 32  inter_axis_distance         1654 non-null   float64 \n",
      " 33  shape_factor                1654 non-null   float64 \n",
      " 34  x_length                    1654 non-null   float64 \n",
      " 35  y_length                    1654 non-null   float64 \n",
      " 36  center_x                    1654 non-null   float64 \n",
      " 37  center_y                    1654 non-null   float64 \n",
      " 38  cdm_x                       1654 non-null   float64 \n",
      " 39  cdm_y                       1654 non-null   float64 \n",
      " 40  cdr_x                       1654 non-null   float64 \n",
      " 41  cdr_y                       1654 non-null   float64 \n",
      " 42  reinf_steel_ratio           1654 non-null   float64 \n",
      " 43  concrete_m3_ratio           1654 non-null   float64 \n",
      " 44  slab_area_mean              1654 non-null   float64 \n",
      " 45  height_mean                 1654 non-null   float64 \n",
      " 46  double_height_ratio         1654 non-null   float64 \n",
      " 47  triple_height_ratio         1654 non-null   float64 \n",
      " 48  slenderness                 1654 non-null   float64 \n",
      " 49  column_area                 1654 non-null   float64 \n",
      " 50  swall_num                   1654 non-null   int64   \n",
      " 51  swall_area                  1654 non-null   float64 \n",
      " 52  swall_area_mean             1654 non-null   float64 \n",
      " 53  col_area_mean               1653 non-null   float64 \n",
      " 54  rwalls_area_mean            1654 non-null   float64 \n",
      " 55  swall_area_mean_m2          1654 non-null   float64 \n",
      " 56  col_area_mean_m2            1653 non-null   float64 \n",
      " 57  rwalls_area_mean_m2         1654 non-null   float64 \n",
      " 58  swall_area_ratio            1654 non-null   float64 \n",
      " 59  col_area_ratio              1654 non-null   float64 \n",
      " 60  rwals_area_ratio            1654 non-null   float64 \n",
      " 61  LL_m2                       1654 non-null   float64 \n",
      " 62  DL_m2                       1654 non-null   float64 \n",
      " 63  LL_max_m2                   1654 non-null   float64 \n",
      " 64  DL_max_m2                   1654 non-null   float64 \n",
      " 65  wind_load_x_m2              1654 non-null   float64 \n",
      " 66  wind_load_y_m2              1654 non-null   float64 \n",
      " 67  seismic_acc_m2              1654 non-null   float64 \n",
      " 68  wind_load_x_h               1654 non-null   float64 \n",
      " 69  wind_load_y_h               1654 non-null   float64 \n",
      " 70  flat_slab_area_ratio        1654 non-null   float64 \n",
      " 71  waffle_slab_area_ratio      1654 non-null   float64 \n",
      " 72  drop_panel_area_ratio       1654 non-null   float64 \n",
      " 73  domes_area_ratio            1654 non-null   float64 \n",
      " 74  drop_panel_area_support     1654 non-null   float64 \n",
      " 75  drop_panel_area_support_m2  1654 non-null   float64 \n",
      " 76  eccentricity                1654 non-null   float64 \n",
      " 77  eccentricity_m2             1654 non-null   float64 \n",
      "dtypes: category(5), float64(66), int64(7)\n",
      "memory usage: 964.9 KB\n"
     ]
    }
   ],
   "source": [
    "df.info()"
   ]
  },
  {
   "cell_type": "markdown",
   "id": "bd43b9d7",
   "metadata": {},
   "source": [
    "## Preparando los datos"
   ]
  },
  {
   "cell_type": "code",
   "execution_count": 4,
   "id": "07c9e330",
   "metadata": {},
   "outputs": [],
   "source": [
    "cat_pipeline = make_pipeline(\n",
    "    SimpleImputer(strategy=\"most_frequent\"),\n",
    "    OneHotEncoder(handle_unknown=\"ignore\"))\n",
    "\n",
    "default_num_pipeline = make_pipeline(SimpleImputer(strategy=\"median\"),\n",
    "                                     StandardScaler())\n",
    "preprocessing = ColumnTransformer([\n",
    "        (\"cat\", cat_pipeline, make_column_selector(dtype_include='category')),\n",
    "    ],\n",
    "    remainder=default_num_pipeline) "
   ]
  },
  {
   "cell_type": "markdown",
   "id": "cafcc787",
   "metadata": {},
   "source": [
    "# Datos de entrada"
   ]
  },
  {
   "cell_type": "code",
   "execution_count": 5,
   "id": "89d7977c",
   "metadata": {},
   "outputs": [],
   "source": [
    "df = df.drop(['center_x', 'center_y', 'cdm_x', 'cdm_y', 'cdr_x', 'cdr_y'], axis=1)"
   ]
  },
  {
   "cell_type": "code",
   "execution_count": 6,
   "id": "3a874dc7",
   "metadata": {},
   "outputs": [],
   "source": [
    "X = df.drop(\"reinf_steel_ratio\", axis=1)\n",
    "y = df[\"reinf_steel_ratio\"].copy()"
   ]
  },
  {
   "cell_type": "code",
   "execution_count": 7,
   "id": "4f2ae7e5",
   "metadata": {},
   "outputs": [
    {
     "data": {
      "text/plain": [
       "71"
      ]
     },
     "execution_count": 7,
     "metadata": {},
     "output_type": "execute_result"
    }
   ],
   "source": [
    "len(X.columns)"
   ]
  },
  {
   "cell_type": "code",
   "execution_count": 8,
   "id": "9b3f2795",
   "metadata": {},
   "outputs": [
    {
     "data": {
      "text/plain": [
       "Index(['foundation_type', 'concrete_code', 'load_code', 'wind_code',\n",
       "       'seismic_code', 'floor_number', 'total_height', 'height',\n",
       "       'foundation_height', 'double_height', 'triple_height', 'support_column',\n",
       "       'unsupported_column', 'walls_number', 'retaining_walls_number',\n",
       "       'support_area', 'walls_area', 'retaining_walls_area', 'LL', 'DL',\n",
       "       'LL_max', 'DL_max', 'wind_load_x', 'wind_load_y', 'seismic_acc',\n",
       "       'slab_total_area', 'flat_slab_area', 'waffle_slab_area', 'depth',\n",
       "       'drop_panel_area', 'domes_area', 'domes_number', 'inter_axis_distance',\n",
       "       'shape_factor', 'x_length', 'y_length', 'concrete_m3_ratio',\n",
       "       'slab_area_mean', 'height_mean', 'double_height_ratio',\n",
       "       'triple_height_ratio', 'slenderness', 'column_area', 'swall_num',\n",
       "       'swall_area', 'swall_area_mean', 'col_area_mean', 'rwalls_area_mean',\n",
       "       'swall_area_mean_m2', 'col_area_mean_m2', 'rwalls_area_mean_m2',\n",
       "       'swall_area_ratio', 'col_area_ratio', 'rwals_area_ratio', 'LL_m2',\n",
       "       'DL_m2', 'LL_max_m2', 'DL_max_m2', 'wind_load_x_m2', 'wind_load_y_m2',\n",
       "       'seismic_acc_m2', 'wind_load_x_h', 'wind_load_y_h',\n",
       "       'flat_slab_area_ratio', 'waffle_slab_area_ratio',\n",
       "       'drop_panel_area_ratio', 'domes_area_ratio', 'drop_panel_area_support',\n",
       "       'drop_panel_area_support_m2', 'eccentricity', 'eccentricity_m2'],\n",
       "      dtype='object')"
      ]
     },
     "execution_count": 8,
     "metadata": {},
     "output_type": "execute_result"
    }
   ],
   "source": [
    "X.columns"
   ]
  },
  {
   "cell_type": "markdown",
   "id": "0e941aa7",
   "metadata": {},
   "source": [
    "# ElasticNet"
   ]
  },
  {
   "cell_type": "code",
   "execution_count": 9,
   "id": "096198cd",
   "metadata": {},
   "outputs": [],
   "source": [
    "MAX_ITER = 100_000"
   ]
  },
  {
   "cell_type": "code",
   "execution_count": 10,
   "id": "cec8ec96",
   "metadata": {},
   "outputs": [],
   "source": [
    "ela_net_reg = make_pipeline(preprocessing, ElasticNet())\n",
    "ela_net_reg_mapes = cross_val_score(ela_net_reg, X, y, scoring=make_scorer(mean_absolute_percentage_error), cv=10)"
   ]
  },
  {
   "cell_type": "code",
   "execution_count": 11,
   "id": "aca58341",
   "metadata": {},
   "outputs": [
    {
     "data": {
      "text/plain": [
       "array([0.12741569, 0.1309921 , 0.15084392, 0.14301484, 0.11868538,\n",
       "       0.14108499, 0.10968544, 0.11927549, 0.16037757, 0.1814933 ])"
      ]
     },
     "execution_count": 11,
     "metadata": {},
     "output_type": "execute_result"
    }
   ],
   "source": [
    "ela_net_reg_mapes"
   ]
  },
  {
   "cell_type": "code",
   "execution_count": 12,
   "id": "8cc01162",
   "metadata": {},
   "outputs": [
    {
     "data": {
      "text/plain": [
       "count    10.000000\n",
       "mean      0.138287\n",
       "std       0.021801\n",
       "min       0.109685\n",
       "25%       0.121311\n",
       "50%       0.136039\n",
       "75%       0.148887\n",
       "max       0.181493\n",
       "dtype: float64"
      ]
     },
     "execution_count": 12,
     "metadata": {},
     "output_type": "execute_result"
    }
   ],
   "source": [
    "pd.Series(ela_net_reg_mapes).describe()"
   ]
  },
  {
   "cell_type": "code",
   "execution_count": 13,
   "id": "b1aea1d6",
   "metadata": {},
   "outputs": [
    {
     "name": "stdout",
     "output_type": "stream",
     "text": [
      "CPU times: user 656 ms, sys: 338 ms, total: 995 ms\n",
      "Wall time: 2.01 s\n"
     ]
    },
    {
     "data": {
      "text/plain": [
       "(<Figure size 640x480 with 1 Axes>,\n",
       " <AxesSubplot: xlabel='Number of samples', ylabel='MAPE'>)"
      ]
     },
     "execution_count": 13,
     "metadata": {},
     "output_type": "execute_result"
    },
    {
     "data": {
      "image/png": "[encoded data removed]",
      "text/plain": [
       "<Figure size 640x480 with 1 Axes>"
      ]
     },
     "metadata": {},
     "output_type": "display_data"
    }
   ],
   "source": [
    "%%time\n",
    "train_and_plot_learning_curve(ela_net_reg, X, y)"
   ]
  },
  {
   "cell_type": "markdown",
   "id": "dfa48d9e",
   "metadata": {},
   "source": [
    "# Target transformer"
   ]
  },
  {
   "cell_type": "code",
   "execution_count": 14,
   "id": "c779d4d1",
   "metadata": {},
   "outputs": [
    {
     "name": "stdout",
     "output_type": "stream",
     "text": [
      "CPU times: user 2 s, sys: 7.41 s, total: 9.41 s\n",
      "Wall time: 617 ms\n"
     ]
    },
    {
     "data": {
      "text/plain": [
       "count    10.000000\n",
       "mean      0.189398\n",
       "std       0.030577\n",
       "min       0.148812\n",
       "25%       0.165126\n",
       "50%       0.190039\n",
       "75%       0.213450\n",
       "max       0.229389\n",
       "dtype: float64"
      ]
     },
     "execution_count": 14,
     "metadata": {},
     "output_type": "execute_result"
    }
   ],
   "source": [
    "%%time\n",
    "ela_net_reg = make_pipeline(preprocessing, ElasticNet())\n",
    "ela_net_reg = TransformedTargetRegressor(ela_net_reg, transformer=StandardScaler())\n",
    "ela_net_reg_mapes = cross_val_score(ela_net_reg, X, y, scoring=make_scorer(mean_absolute_percentage_error), cv=10)\n",
    "pd.Series(ela_net_reg_mapes).describe()"
   ]
  },
  {
   "cell_type": "code",
   "execution_count": 15,
   "id": "cd1ae1b2",
   "metadata": {},
   "outputs": [
    {
     "name": "stdout",
     "output_type": "stream",
     "text": [
      "CPU times: user 563 ms, sys: 197 ms, total: 760 ms\n",
      "Wall time: 885 ms\n"
     ]
    },
    {
     "data": {
      "text/plain": [
       "(<Figure size 640x480 with 1 Axes>,\n",
       " <AxesSubplot: xlabel='Number of samples', ylabel='MAPE'>)"
      ]
     },
     "execution_count": 15,
     "metadata": {},
     "output_type": "execute_result"
    },
    {
     "data": {
      "image/png": "[encoded data removed]",
      "text/plain": [
       "<Figure size 640x480 with 1 Axes>"
      ]
     },
     "metadata": {},
     "output_type": "display_data"
    }
   ],
   "source": [
    "%%time\n",
    "train_and_plot_learning_curve(ela_net_reg, X, y)"
   ]
  },
  {
   "cell_type": "markdown",
   "id": "6a977191",
   "metadata": {},
   "source": [
    "# Grid Search"
   ]
  },
  {
   "cell_type": "code",
   "execution_count": 16,
   "id": "265de886",
   "metadata": {},
   "outputs": [
    {
     "name": "stdout",
     "output_type": "stream",
     "text": [
      "CPU times: user 1.77 s, sys: 482 ms, total: 2.26 s\n",
      "Wall time: 3.43 s\n"
     ]
    },
    {
     "data": {
      "text/html": [
       "<style>#sk-container-id-1 {color: black;background-color: white;}#sk-container-id-1 pre{padding: 0;}#sk-container-id-1 div.sk-toggleable {background-color: white;}#sk-container-id-1 label.sk-toggleable__label {cursor: pointer;display: block;width: 100%;margin-bottom: 0;padding: 0.3em;box-sizing: border-box;text-align: center;}#sk-container-id-1 label.sk-toggleable__label-arrow:before {content: \"▸\";float: left;margin-right: 0.25em;color: #696969;}#sk-container-id-1 label.sk-toggleable__label-arrow:hover:before {color: black;}#sk-container-id-1 div.sk-estimator:hover label.sk-toggleable__label-arrow:before {color: black;}#sk-container-id-1 div.sk-toggleable__content {max-height: 0;max-width: 0;overflow: hidden;text-align: left;background-color: #f0f8ff;}#sk-container-id-1 div.sk-toggleable__content pre {margin: 0.2em;color: black;border-radius: 0.25em;background-color: #f0f8ff;}#sk-container-id-1 input.sk-toggleable__control:checked~div.sk-toggleable__content {max-height: 200px;max-width: 100%;overflow: auto;}#sk-container-id-1 input.sk-toggleable__control:checked~label.sk-toggleable__label-arrow:before {content: \"▾\";}#sk-container-id-1 div.sk-estimator input.sk-toggleable__control:checked~label.sk-toggleable__label {background-color: #d4ebff;}#sk-container-id-1 div.sk-label input.sk-toggleable__control:checked~label.sk-toggleable__label {background-color: #d4ebff;}#sk-container-id-1 input.sk-hidden--visually {border: 0;clip: rect(1px 1px 1px 1px);clip: rect(1px, 1px, 1px, 1px);height: 1px;margin: -1px;overflow: hidden;padding: 0;position: absolute;width: 1px;}#sk-container-id-1 div.sk-estimator {font-family: monospace;background-color: #f0f8ff;border: 1px dotted black;border-radius: 0.25em;box-sizing: border-box;margin-bottom: 0.5em;}#sk-container-id-1 div.sk-estimator:hover {background-color: #d4ebff;}#sk-container-id-1 div.sk-parallel-item::after {content: \"\";width: 100%;border-bottom: 1px solid gray;flex-grow: 1;}#sk-container-id-1 div.sk-label:hover label.sk-toggleable__label {background-color: #d4ebff;}#sk-container-id-1 div.sk-serial::before {content: \"\";position: absolute;border-left: 1px solid gray;box-sizing: border-box;top: 0;bottom: 0;left: 50%;z-index: 0;}#sk-container-id-1 div.sk-serial {display: flex;flex-direction: column;align-items: center;background-color: white;padding-right: 0.2em;padding-left: 0.2em;position: relative;}#sk-container-id-1 div.sk-item {position: relative;z-index: 1;}#sk-container-id-1 div.sk-parallel {display: flex;align-items: stretch;justify-content: center;background-color: white;position: relative;}#sk-container-id-1 div.sk-item::before, #sk-container-id-1 div.sk-parallel-item::before {content: \"\";position: absolute;border-left: 1px solid gray;box-sizing: border-box;top: 0;bottom: 0;left: 50%;z-index: -1;}#sk-container-id-1 div.sk-parallel-item {display: flex;flex-direction: column;z-index: 1;position: relative;background-color: white;}#sk-container-id-1 div.sk-parallel-item:first-child::after {align-self: flex-end;width: 50%;}#sk-container-id-1 div.sk-parallel-item:last-child::after {align-self: flex-start;width: 50%;}#sk-container-id-1 div.sk-parallel-item:only-child::after {width: 0;}#sk-container-id-1 div.sk-dashed-wrapped {border: 1px dashed gray;margin: 0 0.4em 0.5em 0.4em;box-sizing: border-box;padding-bottom: 0.4em;background-color: white;}#sk-container-id-1 div.sk-label label {font-family: monospace;font-weight: bold;display: inline-block;line-height: 1.2em;}#sk-container-id-1 div.sk-label-container {text-align: center;}#sk-container-id-1 div.sk-container {/* jupyter's `normalize.less` sets `[hidden] { display: none; }` but bootstrap.min.css set `[hidden] { display: none !important; }` so we also need the `!important` here to be able to override the default hidden behavior on the sphinx rendered scikit-learn.org. See: https://github.com/scikit-learn/scikit-learn/issues/21755 */display: inline-block !important;position: relative;}#sk-container-id-1 div.sk-text-repr-fallback {display: none;}</style><div id=\"sk-container-id-1\" class=\"sk-top-container\"><div class=\"sk-text-repr-fallback\"><pre>GridSearchCV(cv=10,\n",
       "             estimator=Pipeline(steps=[(&#x27;columntransformer&#x27;,\n",
       "                                        ColumnTransformer(remainder=Pipeline(steps=[(&#x27;simpleimputer&#x27;,\n",
       "                                                                                     SimpleImputer(strategy=&#x27;median&#x27;)),\n",
       "                                                                                    (&#x27;standardscaler&#x27;,\n",
       "                                                                                     StandardScaler())]),\n",
       "                                                          transformers=[(&#x27;cat&#x27;,\n",
       "                                                                         Pipeline(steps=[(&#x27;simpleimputer&#x27;,\n",
       "                                                                                          SimpleImputer(strategy=&#x27;most_frequent&#x27;)),\n",
       "                                                                                         (&#x27;onehotencoder&#x27;,\n",
       "                                                                                          OneHotEncoder(handle_unknown=&#x27;ignore&#x27;))]),\n",
       "                                                                         &lt;sklearn.compose._column_transformer.make_column_selector object at 0x7f6a171df910&gt;)])),\n",
       "                                       (&#x27;elasticnet&#x27;,\n",
       "                                        ElasticNet(max_iter=100000))]),\n",
       "             n_jobs=-1,\n",
       "             param_grid={&#x27;elasticnet__alpha&#x27;: [0.1, 0.2, 0.3, 0.4, 0.5, 0.6,\n",
       "                                               0.7, 0.8, 0.9, 1],\n",
       "                         &#x27;elasticnet__l1_ratio&#x27;: [0.1, 0.2, 0.3, 0.4, 0.5, 0.6,\n",
       "                                                  0.7, 0.8, 0.9]},\n",
       "             scoring=make_scorer(mean_absolute_percentage_error, greater_is_better=False))</pre><b>In a Jupyter environment, please rerun this cell to show the HTML representation or trust the notebook. <br />On GitHub, the HTML representation is unable to render, please try loading this page with nbviewer.org.</b></div><div class=\"sk-container\" hidden><div class=\"sk-item sk-dashed-wrapped\"><div class=\"sk-label-container\"><div class=\"sk-label sk-toggleable\"><input class=\"sk-toggleable__control sk-hidden--visually\" id=\"sk-estimator-id-1\" type=\"checkbox\" ><label for=\"sk-estimator-id-1\" class=\"sk-toggleable__label sk-toggleable__label-arrow\">GridSearchCV</label><div class=\"sk-toggleable__content\"><pre>GridSearchCV(cv=10,\n",
       "             estimator=Pipeline(steps=[(&#x27;columntransformer&#x27;,\n",
       "                                        ColumnTransformer(remainder=Pipeline(steps=[(&#x27;simpleimputer&#x27;,\n",
       "                                                                                     SimpleImputer(strategy=&#x27;median&#x27;)),\n",
       "                                                                                    (&#x27;standardscaler&#x27;,\n",
       "                                                                                     StandardScaler())]),\n",
       "                                                          transformers=[(&#x27;cat&#x27;,\n",
       "                                                                         Pipeline(steps=[(&#x27;simpleimputer&#x27;,\n",
       "                                                                                          SimpleImputer(strategy=&#x27;most_frequent&#x27;)),\n",
       "                                                                                         (&#x27;onehotencoder&#x27;,\n",
       "                                                                                          OneHotEncoder(handle_unknown=&#x27;ignore&#x27;))]),\n",
       "                                                                         &lt;sklearn.compose._column_transformer.make_column_selector object at 0x7f6a171df910&gt;)])),\n",
       "                                       (&#x27;elasticnet&#x27;,\n",
       "                                        ElasticNet(max_iter=100000))]),\n",
       "             n_jobs=-1,\n",
       "             param_grid={&#x27;elasticnet__alpha&#x27;: [0.1, 0.2, 0.3, 0.4, 0.5, 0.6,\n",
       "                                               0.7, 0.8, 0.9, 1],\n",
       "                         &#x27;elasticnet__l1_ratio&#x27;: [0.1, 0.2, 0.3, 0.4, 0.5, 0.6,\n",
       "                                                  0.7, 0.8, 0.9]},\n",
       "             scoring=make_scorer(mean_absolute_percentage_error, greater_is_better=False))</pre></div></div></div><div class=\"sk-parallel\"><div class=\"sk-parallel-item\"><div class=\"sk-item\"><div class=\"sk-label-container\"><div class=\"sk-label sk-toggleable\"><input class=\"sk-toggleable__control sk-hidden--visually\" id=\"sk-estimator-id-2\" type=\"checkbox\" ><label for=\"sk-estimator-id-2\" class=\"sk-toggleable__label sk-toggleable__label-arrow\">estimator: Pipeline</label><div class=\"sk-toggleable__content\"><pre>Pipeline(steps=[(&#x27;columntransformer&#x27;,\n",
       "                 ColumnTransformer(remainder=Pipeline(steps=[(&#x27;simpleimputer&#x27;,\n",
       "                                                              SimpleImputer(strategy=&#x27;median&#x27;)),\n",
       "                                                             (&#x27;standardscaler&#x27;,\n",
       "                                                              StandardScaler())]),\n",
       "                                   transformers=[(&#x27;cat&#x27;,\n",
       "                                                  Pipeline(steps=[(&#x27;simpleimputer&#x27;,\n",
       "                                                                   SimpleImputer(strategy=&#x27;most_frequent&#x27;)),\n",
       "                                                                  (&#x27;onehotencoder&#x27;,\n",
       "                                                                   OneHotEncoder(handle_unknown=&#x27;ignore&#x27;))]),\n",
       "                                                  &lt;sklearn.compose._column_transformer.make_column_selector object at 0x7f6a171df910&gt;)])),\n",
       "                (&#x27;elasticnet&#x27;, ElasticNet(max_iter=100000))])</pre></div></div></div><div class=\"sk-serial\"><div class=\"sk-item\"><div class=\"sk-serial\"><div class=\"sk-item sk-dashed-wrapped\"><div class=\"sk-label-container\"><div class=\"sk-label sk-toggleable\"><input class=\"sk-toggleable__control sk-hidden--visually\" id=\"sk-estimator-id-3\" type=\"checkbox\" ><label for=\"sk-estimator-id-3\" class=\"sk-toggleable__label sk-toggleable__label-arrow\">columntransformer: ColumnTransformer</label><div class=\"sk-toggleable__content\"><pre>ColumnTransformer(remainder=Pipeline(steps=[(&#x27;simpleimputer&#x27;,\n",
       "                                             SimpleImputer(strategy=&#x27;median&#x27;)),\n",
       "                                            (&#x27;standardscaler&#x27;,\n",
       "                                             StandardScaler())]),\n",
       "                  transformers=[(&#x27;cat&#x27;,\n",
       "                                 Pipeline(steps=[(&#x27;simpleimputer&#x27;,\n",
       "                                                  SimpleImputer(strategy=&#x27;most_frequent&#x27;)),\n",
       "                                                 (&#x27;onehotencoder&#x27;,\n",
       "                                                  OneHotEncoder(handle_unknown=&#x27;ignore&#x27;))]),\n",
       "                                 &lt;sklearn.compose._column_transformer.make_column_selector object at 0x7f6a171df910&gt;)])</pre></div></div></div><div class=\"sk-parallel\"><div class=\"sk-parallel-item\"><div class=\"sk-item\"><div class=\"sk-label-container\"><div class=\"sk-label sk-toggleable\"><input class=\"sk-toggleable__control sk-hidden--visually\" id=\"sk-estimator-id-4\" type=\"checkbox\" ><label for=\"sk-estimator-id-4\" class=\"sk-toggleable__label sk-toggleable__label-arrow\">cat</label><div class=\"sk-toggleable__content\"><pre>&lt;sklearn.compose._column_transformer.make_column_selector object at 0x7f6a171df910&gt;</pre></div></div></div><div class=\"sk-serial\"><div class=\"sk-item\"><div class=\"sk-serial\"><div class=\"sk-item\"><div class=\"sk-estimator sk-toggleable\"><input class=\"sk-toggleable__control sk-hidden--visually\" id=\"sk-estimator-id-5\" type=\"checkbox\" ><label for=\"sk-estimator-id-5\" class=\"sk-toggleable__label sk-toggleable__label-arrow\">SimpleImputer</label><div class=\"sk-toggleable__content\"><pre>SimpleImputer(strategy=&#x27;most_frequent&#x27;)</pre></div></div></div><div class=\"sk-item\"><div class=\"sk-estimator sk-toggleable\"><input class=\"sk-toggleable__control sk-hidden--visually\" id=\"sk-estimator-id-6\" type=\"checkbox\" ><label for=\"sk-estimator-id-6\" class=\"sk-toggleable__label sk-toggleable__label-arrow\">OneHotEncoder</label><div class=\"sk-toggleable__content\"><pre>OneHotEncoder(handle_unknown=&#x27;ignore&#x27;)</pre></div></div></div></div></div></div></div></div><div class=\"sk-parallel-item\"><div class=\"sk-item\"><div class=\"sk-label-container\"><div class=\"sk-label sk-toggleable\"><input class=\"sk-toggleable__control sk-hidden--visually\" id=\"sk-estimator-id-7\" type=\"checkbox\" ><label for=\"sk-estimator-id-7\" class=\"sk-toggleable__label sk-toggleable__label-arrow\">remainder</label><div class=\"sk-toggleable__content\"><pre></pre></div></div></div><div class=\"sk-serial\"><div class=\"sk-item\"><div class=\"sk-serial\"><div class=\"sk-item\"><div class=\"sk-estimator sk-toggleable\"><input class=\"sk-toggleable__control sk-hidden--visually\" id=\"sk-estimator-id-8\" type=\"checkbox\" ><label for=\"sk-estimator-id-8\" class=\"sk-toggleable__label sk-toggleable__label-arrow\">SimpleImputer</label><div class=\"sk-toggleable__content\"><pre>SimpleImputer(strategy=&#x27;median&#x27;)</pre></div></div></div><div class=\"sk-item\"><div class=\"sk-estimator sk-toggleable\"><input class=\"sk-toggleable__control sk-hidden--visually\" id=\"sk-estimator-id-9\" type=\"checkbox\" ><label for=\"sk-estimator-id-9\" class=\"sk-toggleable__label sk-toggleable__label-arrow\">StandardScaler</label><div class=\"sk-toggleable__content\"><pre>StandardScaler()</pre></div></div></div></div></div></div></div></div></div></div><div class=\"sk-item\"><div class=\"sk-estimator sk-toggleable\"><input class=\"sk-toggleable__control sk-hidden--visually\" id=\"sk-estimator-id-10\" type=\"checkbox\" ><label for=\"sk-estimator-id-10\" class=\"sk-toggleable__label sk-toggleable__label-arrow\">ElasticNet</label><div class=\"sk-toggleable__content\"><pre>ElasticNet(max_iter=100000)</pre></div></div></div></div></div></div></div></div></div></div></div></div>"
      ],
      "text/plain": [
       "GridSearchCV(cv=10,\n",
       "             estimator=Pipeline(steps=[('columntransformer',\n",
       "                                        ColumnTransformer(remainder=Pipeline(steps=[('simpleimputer',\n",
       "                                                                                     SimpleImputer(strategy='median')),\n",
       "                                                                                    ('standardscaler',\n",
       "                                                                                     StandardScaler())]),\n",
       "                                                          transformers=[('cat',\n",
       "                                                                         Pipeline(steps=[('simpleimputer',\n",
       "                                                                                          SimpleImputer(strategy='most_frequent')),\n",
       "                                                                                         ('onehotencoder',\n",
       "                                                                                          OneHotEncoder(handle_unknown='ignore'))]),\n",
       "                                                                         <sklearn.compose._column_transformer.make_column_selector object at 0x7f6a171df910>)])),\n",
       "                                       ('elasticnet',\n",
       "                                        ElasticNet(max_iter=100000))]),\n",
       "             n_jobs=-1,\n",
       "             param_grid={'elasticnet__alpha': [0.1, 0.2, 0.3, 0.4, 0.5, 0.6,\n",
       "                                               0.7, 0.8, 0.9, 1],\n",
       "                         'elasticnet__l1_ratio': [0.1, 0.2, 0.3, 0.4, 0.5, 0.6,\n",
       "                                                  0.7, 0.8, 0.9]},\n",
       "             scoring=make_scorer(mean_absolute_percentage_error, greater_is_better=False))"
      ]
     },
     "execution_count": 16,
     "metadata": {},
     "output_type": "execute_result"
    }
   ],
   "source": [
    "%%time\n",
    "\n",
    "ela_net_reg = make_pipeline(preprocessing, ElasticNet(max_iter=MAX_ITER))\n",
    "\n",
    "parameters = {\n",
    " 'elasticnet__alpha': [.1, .2, .3, .4, .5, .6, .7, .8, .9, 1],\n",
    " 'elasticnet__l1_ratio': [.1, .2, .3, .4, .5, .6, .7, .8, .9],\n",
    " }\n",
    "\n",
    "ela_net_grid = GridSearchCV(ela_net_reg, parameters, n_jobs=-1, cv=10, scoring=make_scorer(mean_absolute_percentage_error, greater_is_better=False))\n",
    "ela_net_grid.fit(X, y)"
   ]
  },
  {
   "cell_type": "code",
   "execution_count": 17,
   "id": "dc568096",
   "metadata": {},
   "outputs": [
    {
     "data": {
      "text/plain": [
       "{'elasticnet__alpha': 0.1, 'elasticnet__l1_ratio': 0.1}"
      ]
     },
     "execution_count": 17,
     "metadata": {},
     "output_type": "execute_result"
    }
   ],
   "source": [
    "ela_net_grid.best_params_"
   ]
  },
  {
   "cell_type": "markdown",
   "id": "b1c16b49",
   "metadata": {},
   "source": [
    "# Best Model"
   ]
  },
  {
   "cell_type": "code",
   "execution_count": 18,
   "id": "4c566ec7",
   "metadata": {},
   "outputs": [
    {
     "data": {
      "text/plain": [
       "{'alpha': 0.1, 'l1_ratio': 0.1}"
      ]
     },
     "execution_count": 18,
     "metadata": {},
     "output_type": "execute_result"
    }
   ],
   "source": [
    "best_params = {key.split('__')[-1]: value for key, value in ela_net_grid.best_params_.items()}\n",
    "best_params"
   ]
  },
  {
   "cell_type": "code",
   "execution_count": 19,
   "id": "2c0a2c0e",
   "metadata": {},
   "outputs": [
    {
     "name": "stdout",
     "output_type": "stream",
     "text": [
      "CPU times: user 1.58 s, sys: 5.7 s, total: 7.28 s\n",
      "Wall time: 478 ms\n"
     ]
    },
    {
     "data": {
      "text/plain": [
       "count    10.000000\n",
       "mean      0.105297\n",
       "std       0.021163\n",
       "min       0.078373\n",
       "25%       0.092816\n",
       "50%       0.101654\n",
       "75%       0.114368\n",
       "max       0.152110\n",
       "dtype: float64"
      ]
     },
     "execution_count": 19,
     "metadata": {},
     "output_type": "execute_result"
    }
   ],
   "source": [
    "%%time\n",
    "ela_net_reg = make_pipeline(preprocessing, ElasticNet(max_iter=MAX_ITER, **best_params))\n",
    "ela_net_reg_mapes = cross_val_score(ela_net_reg, X, y, scoring=make_scorer(mean_absolute_percentage_error), cv=10)\n",
    "pd.Series(ela_net_reg_mapes).describe()"
   ]
  },
  {
   "cell_type": "code",
   "execution_count": 20,
   "id": "6c402ecd",
   "metadata": {},
   "outputs": [
    {
     "name": "stdout",
     "output_type": "stream",
     "text": [
      "CPU times: user 536 ms, sys: 207 ms, total: 743 ms\n",
      "Wall time: 916 ms\n"
     ]
    },
    {
     "data": {
      "text/plain": [
       "(<Figure size 640x480 with 1 Axes>,\n",
       " <AxesSubplot: xlabel='Number of samples', ylabel='MAPE'>)"
      ]
     },
     "execution_count": 20,
     "metadata": {},
     "output_type": "execute_result"
    },
    {
     "data": {
      "image/png": "[encoded data removed]",
      "text/plain": [
       "<Figure size 640x480 with 1 Axes>"
      ]
     },
     "metadata": {},
     "output_type": "display_data"
    }
   ],
   "source": [
    "%%time\n",
    "train_and_plot_learning_curve(ela_net_reg, X, y)"
   ]
  },
  {
   "cell_type": "code",
   "execution_count": null,
   "id": "a38d7c13",
   "metadata": {},
   "outputs": [],
   "source": []
  }
 ],
 "metadata": {
  "kernelspec": {
   "display_name": "Python 3 (ipykernel)",
   "language": "python",
   "name": "python3"
  },
  "language_info": {
   "codemirror_mode": {
    "name": "ipython",
    "version": 3
   },
   "file_extension": ".py",
   "mimetype": "text/x-python",
   "name": "python",
   "nbconvert_exporter": "python",
   "pygments_lexer": "ipython3",
   "version": "3.10.6"
  }
 },
 "nbformat": 4,
 "nbformat_minor": 5
}
