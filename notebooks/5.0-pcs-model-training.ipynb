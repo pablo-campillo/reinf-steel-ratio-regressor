{
 "cells": [
  {
   "cell_type": "code",
   "execution_count": 1,
   "id": "8f3dccef",
   "metadata": {},
   "outputs": [
    {
     "data": {
      "text/html": [
       "<style>.container { width:90% !important; }</style>"
      ],
      "text/plain": [
       "<IPython.core.display.HTML object>"
      ]
     },
     "metadata": {},
     "output_type": "display_data"
    }
   ],
   "source": [
    "from IPython.display import display, HTML\n",
    "display(HTML(\"<style>.container { width:90% !important; }</style>\"))\n",
    "\n",
    "from matplotlib import pyplot as plt\n",
    "import seaborn as sns\n",
    "import pandas as pd\n",
    "import numpy as np"
   ]
  },
  {
   "cell_type": "code",
   "execution_count": 2,
   "id": "20ab65a1",
   "metadata": {},
   "outputs": [],
   "source": [
    "df = pd.read_csv('../data/features/train.csv', sep=';', index_col=0)\n",
    "\n",
    "df['foundation_type'] = df['foundation_type'].astype('category')\n",
    "df['concrete_code'] = df['concrete_code'].astype('category')\n",
    "df['load_code'] = df['load_code'].astype('category')\n",
    "df['wind_code'] = df['wind_code'].astype('category')\n",
    "df['seismic_code'] = df['seismic_code'].astype('category')"
   ]
  },
  {
   "cell_type": "code",
   "execution_count": 3,
   "id": "5cc15769",
   "metadata": {
    "scrolled": true
   },
   "outputs": [
    {
     "name": "stdout",
     "output_type": "stream",
     "text": [
      "<class 'pandas.core.frame.DataFrame'>\n",
      "Int64Index: 1654 entries, 0 to 1653\n",
      "Data columns (total 78 columns):\n",
      " #   Column                      Non-Null Count  Dtype   \n",
      "---  ------                      --------------  -----   \n",
      " 0   foundation_type             1654 non-null   category\n",
      " 1   concrete_code               1654 non-null   category\n",
      " 2   load_code                   1654 non-null   category\n",
      " 3   wind_code                   1654 non-null   category\n",
      " 4   seismic_code                1654 non-null   category\n",
      " 5   floor_number                1654 non-null   int64   \n",
      " 6   total_height                1654 non-null   float64 \n",
      " 7   height                      1654 non-null   float64 \n",
      " 8   foundation_height           1654 non-null   float64 \n",
      " 9   double_height               1654 non-null   float64 \n",
      " 10  triple_height               1654 non-null   float64 \n",
      " 11  support_column              1654 non-null   int64   \n",
      " 12  unsupported_column          1654 non-null   int64   \n",
      " 13  walls_number                1654 non-null   int64   \n",
      " 14  retaining_walls_number      1654 non-null   int64   \n",
      " 15  support_area                1654 non-null   float64 \n",
      " 16  walls_area                  1654 non-null   float64 \n",
      " 17  retaining_walls_area        1654 non-null   float64 \n",
      " 18  LL                          1654 non-null   float64 \n",
      " 19  DL                          1654 non-null   float64 \n",
      " 20  LL_max                      1654 non-null   float64 \n",
      " 21  DL_max                      1654 non-null   float64 \n",
      " 22  wind_load_x                 1654 non-null   float64 \n",
      " 23  wind_load_y                 1654 non-null   float64 \n",
      " 24  seismic_acc                 1654 non-null   float64 \n",
      " 25  slab_total_area             1654 non-null   float64 \n",
      " 26  flat_slab_area              1654 non-null   float64 \n",
      " 27  waffle_slab_area            1654 non-null   float64 \n",
      " 28  depth                       1654 non-null   float64 \n",
      " 29  drop_panel_area             1654 non-null   float64 \n",
      " 30  domes_area                  1654 non-null   float64 \n",
      " 31  domes_number                1654 non-null   int64   \n",
      " 32  inter_axis_distance         1654 non-null   float64 \n",
      " 33  shape_factor                1654 non-null   float64 \n",
      " 34  x_length                    1654 non-null   float64 \n",
      " 35  y_length                    1654 non-null   float64 \n",
      " 36  center_x                    1654 non-null   float64 \n",
      " 37  center_y                    1654 non-null   float64 \n",
      " 38  cdm_x                       1654 non-null   float64 \n",
      " 39  cdm_y                       1654 non-null   float64 \n",
      " 40  cdr_x                       1654 non-null   float64 \n",
      " 41  cdr_y                       1654 non-null   float64 \n",
      " 42  reinf_steel_ratio           1654 non-null   float64 \n",
      " 43  concrete_m3_ratio           1654 non-null   float64 \n",
      " 44  slab_area_mean              1654 non-null   float64 \n",
      " 45  height_mean                 1654 non-null   float64 \n",
      " 46  double_height_ratio         1654 non-null   float64 \n",
      " 47  triple_height_ratio         1654 non-null   float64 \n",
      " 48  slenderness                 1654 non-null   float64 \n",
      " 49  column_area                 1654 non-null   float64 \n",
      " 50  swall_num                   1654 non-null   int64   \n",
      " 51  swall_area                  1654 non-null   float64 \n",
      " 52  swall_area_mean             1038 non-null   float64 \n",
      " 53  col_area_mean               1653 non-null   float64 \n",
      " 54  rwalls_area_mean            1654 non-null   float64 \n",
      " 55  swall_area_mean_m2          1038 non-null   float64 \n",
      " 56  col_area_mean_m2            1653 non-null   float64 \n",
      " 57  rwalls_area_mean_m2         1654 non-null   float64 \n",
      " 58  swall_area_ratio            1654 non-null   float64 \n",
      " 59  col_area_ratio              1654 non-null   float64 \n",
      " 60  rwals_area_ratio            1654 non-null   float64 \n",
      " 61  LL_m2                       1654 non-null   float64 \n",
      " 62  DL_m2                       1654 non-null   float64 \n",
      " 63  LL_max_m2                   1654 non-null   float64 \n",
      " 64  DL_max_m2                   1654 non-null   float64 \n",
      " 65  wind_load_x_m2              1654 non-null   float64 \n",
      " 66  wind_load_y_m2              1654 non-null   float64 \n",
      " 67  seismic_acc_m2              1654 non-null   float64 \n",
      " 68  wind_load_x_h               1654 non-null   float64 \n",
      " 69  wind_load_y_h               1654 non-null   float64 \n",
      " 70  flat_slab_area_ratio        1654 non-null   float64 \n",
      " 71  waffle_slab_area_ratio      1654 non-null   float64 \n",
      " 72  drop_panel_area_ratio       1654 non-null   float64 \n",
      " 73  domes_area_ratio            1654 non-null   float64 \n",
      " 74  drop_panel_area_support     1654 non-null   float64 \n",
      " 75  drop_panel_area_support_m2  1654 non-null   float64 \n",
      " 76  eccentricity                1654 non-null   float64 \n",
      " 77  eccentricity_m2             1654 non-null   float64 \n",
      "dtypes: category(5), float64(66), int64(7)\n",
      "memory usage: 964.9 KB\n"
     ]
    }
   ],
   "source": [
    "df.info()"
   ]
  },
  {
   "cell_type": "markdown",
   "id": "bd43b9d7",
   "metadata": {},
   "source": [
    "## Preparando los datos"
   ]
  },
  {
   "cell_type": "code",
   "execution_count": 10,
   "id": "ba0d08de",
   "metadata": {},
   "outputs": [],
   "source": [
    "from sklearn.preprocessing import OrdinalEncoder, OneHotEncoder, FunctionTransformer, StandardScaler\n",
    "from sklearn.impute import SimpleImputer\n",
    "from sklearn.pipeline import make_pipeline\n",
    "from sklearn.compose import make_column_selector, ColumnTransformer, TransformedTargetRegressor\n",
    "from sklearn.model_selection import GridSearchCV\n",
    "from sklearn.linear_model import ElasticNet\n",
    "from sklearn.model_selection import cross_val_score\n",
    "from sklearn.metrics import mean_absolute_percentage_error, make_scorer"
   ]
  },
  {
   "cell_type": "code",
   "execution_count": 11,
   "id": "07c9e330",
   "metadata": {},
   "outputs": [],
   "source": [
    "cat_pipeline = make_pipeline(\n",
    "    SimpleImputer(strategy=\"most_frequent\"),\n",
    "    OneHotEncoder(handle_unknown=\"ignore\"))\n",
    "\n",
    "default_num_pipeline = make_pipeline(SimpleImputer(strategy=\"median\"),\n",
    "                                     StandardScaler())\n",
    "\n",
    "# log_pipeline = make_pipeline(\n",
    "#     SimpleImputer(strategy=\"median\"),\n",
    "#     FunctionTransformer(np.log, feature_names_out=\"one-to-one\"),\n",
    "#     StandardScaler())\n",
    "\n",
    "preprocessing = ColumnTransformer([\n",
    "        (\"cat\", cat_pipeline, make_column_selector(dtype_include='category')),\n",
    "#         (\"log\", log_pipeline, [\"floor_number\", \"total_height\", \"height\", \"foundation_height\"]),\n",
    "    ],\n",
    "    remainder=default_num_pipeline) "
   ]
  },
  {
   "cell_type": "markdown",
   "id": "cafcc787",
   "metadata": {},
   "source": [
    "# Datos de entrada"
   ]
  },
  {
   "cell_type": "code",
   "execution_count": 6,
   "id": "89d7977c",
   "metadata": {},
   "outputs": [],
   "source": [
    "df = df.drop(['center_x', 'center_y', 'cdm_x', 'cdm_y', 'cdr_x', 'cdr_y'], axis=1)\n",
    "X = df.drop(\"reinf_steel_ratio\", axis=1)\n",
    "y = df[\"reinf_steel_ratio\"].copy()"
   ]
  },
  {
   "cell_type": "code",
   "execution_count": 7,
   "id": "3a874dc7",
   "metadata": {},
   "outputs": [],
   "source": [
    "X = df.drop(\"reinf_steel_ratio\", axis=1)\n",
    "y = df[\"reinf_steel_ratio\"].copy()"
   ]
  },
  {
   "cell_type": "code",
   "execution_count": 8,
   "id": "4f2ae7e5",
   "metadata": {},
   "outputs": [
    {
     "data": {
      "text/plain": [
       "71"
      ]
     },
     "execution_count": 8,
     "metadata": {},
     "output_type": "execute_result"
    }
   ],
   "source": [
    "len(X.columns)"
   ]
  },
  {
   "cell_type": "code",
   "execution_count": 9,
   "id": "9b3f2795",
   "metadata": {},
   "outputs": [
    {
     "data": {
      "text/plain": [
       "Index(['foundation_type', 'concrete_code', 'load_code', 'wind_code',\n",
       "       'seismic_code', 'floor_number', 'total_height', 'height',\n",
       "       'foundation_height', 'double_height', 'triple_height', 'support_column',\n",
       "       'unsupported_column', 'walls_number', 'retaining_walls_number',\n",
       "       'support_area', 'walls_area', 'retaining_walls_area', 'LL', 'DL',\n",
       "       'LL_max', 'DL_max', 'wind_load_x', 'wind_load_y', 'seismic_acc',\n",
       "       'slab_total_area', 'flat_slab_area', 'waffle_slab_area', 'depth',\n",
       "       'drop_panel_area', 'domes_area', 'domes_number', 'inter_axis_distance',\n",
       "       'shape_factor', 'x_length', 'y_length', 'concrete_m3_ratio',\n",
       "       'slab_area_mean', 'height_mean', 'double_height_ratio',\n",
       "       'triple_height_ratio', 'slenderness', 'column_area', 'swall_num',\n",
       "       'swall_area', 'swall_area_mean', 'col_area_mean', 'rwalls_area_mean',\n",
       "       'swall_area_mean_m2', 'col_area_mean_m2', 'rwalls_area_mean_m2',\n",
       "       'swall_area_ratio', 'col_area_ratio', 'rwals_area_ratio', 'LL_m2',\n",
       "       'DL_m2', 'LL_max_m2', 'DL_max_m2', 'wind_load_x_m2', 'wind_load_y_m2',\n",
       "       'seismic_acc_m2', 'wind_load_x_h', 'wind_load_y_h',\n",
       "       'flat_slab_area_ratio', 'waffle_slab_area_ratio',\n",
       "       'drop_panel_area_ratio', 'domes_area_ratio', 'drop_panel_area_support',\n",
       "       'drop_panel_area_support_m2', 'eccentricity', 'eccentricity_m2'],\n",
       "      dtype='object')"
      ]
     },
     "execution_count": 9,
     "metadata": {},
     "output_type": "execute_result"
    }
   ],
   "source": [
    "X.columns"
   ]
  },
  {
   "cell_type": "markdown",
   "id": "0e941aa7",
   "metadata": {},
   "source": [
    "# ElasticNet"
   ]
  },
  {
   "cell_type": "code",
   "execution_count": 26,
   "id": "cec8ec96",
   "metadata": {},
   "outputs": [],
   "source": [
    "# ela_net_reg = TransformedTargetRegressor(make_pipeline(preprocessing, ElasticNet(alpha=0.1, l1_ratio=0.5)), transformer=StandardScaler())\n",
    "ela_net_reg = make_pipeline(preprocessing, ElasticNet())\n",
    "ela_net_reg_mapes = cross_val_score(ela_net_reg, X, y, scoring=make_scorer(mean_absolute_percentage_error), cv=10)"
   ]
  },
  {
   "cell_type": "code",
   "execution_count": 27,
   "id": "8cc01162",
   "metadata": {},
   "outputs": [
    {
     "data": {
      "text/plain": [
       "count    10.000000\n",
       "mean      0.138287\n",
       "std       0.021801\n",
       "min       0.109685\n",
       "25%       0.121311\n",
       "50%       0.136039\n",
       "75%       0.148887\n",
       "max       0.181493\n",
       "dtype: float64"
      ]
     },
     "execution_count": 27,
     "metadata": {},
     "output_type": "execute_result"
    }
   ],
   "source": [
    "pd.Series(ela_net_reg_mapes).describe()"
   ]
  },
  {
   "cell_type": "code",
   "execution_count": 28,
   "id": "dd8c4ac8",
   "metadata": {},
   "outputs": [],
   "source": [
    "from sklearn.model_selection import learning_curve\n",
    "\n",
    "def train_and_plot_learning_curve(model, X, y):\n",
    "    train_sizes, train_scores, valid_scores = learning_curve(model, X, y, \n",
    "                                                             train_sizes = np.linspace(0.01, 1.0, 40), \n",
    "                                                             cv=5,\n",
    "                                                             scoring=make_scorer(mean_absolute_percentage_error),\n",
    "                                                            n_jobs=-1)\n",
    "    train_errors = train_scores.mean(axis=1)\n",
    "    valid_errors = valid_scores.mean(axis=1)\n",
    "\n",
    "    plt.plot(train_sizes, train_errors, \"r-+\", linewidth=2, label=\"train\")\n",
    "    plt.plot(train_sizes, valid_errors, \"b-\", linewidth=3, label=\"valid\")\n",
    "    # beautify the figure: add labels, axis, grid, and legend\n",
    "    plt.show()"
   ]
  },
  {
   "cell_type": "code",
   "execution_count": 29,
   "id": "b1aea1d6",
   "metadata": {},
   "outputs": [
    {
     "data": {
      "image/png": "[encoded data removed]",
      "text/plain": [
       "<Figure size 640x480 with 1 Axes>"
      ]
     },
     "metadata": {},
     "output_type": "display_data"
    },
    {
     "name": "stdout",
     "output_type": "stream",
     "text": [
      "CPU times: user 1.07 s, sys: 1.31 s, total: 2.37 s\n",
      "Wall time: 2.01 s\n"
     ]
    }
   ],
   "source": [
    "%%time\n",
    "train_and_plot_learning_curve(ela_net_reg, X, y)"
   ]
  },
  {
   "cell_type": "markdown",
   "id": "257184e6",
   "metadata": {},
   "source": [
    "# RandomForestRegressor"
   ]
  },
  {
   "cell_type": "code",
   "execution_count": 36,
   "id": "88a7adb8",
   "metadata": {},
   "outputs": [],
   "source": [
    "from sklearn.ensemble import RandomForestRegressor"
   ]
  },
  {
   "cell_type": "code",
   "execution_count": 16,
   "id": "5513c10b",
   "metadata": {},
   "outputs": [],
   "source": [
    "tree_cat_pipeline = make_pipeline(\n",
    "    SimpleImputer(strategy=\"most_frequent\"),\n",
    "    OrdinalEncoder(handle_unknown=\"use_encoded_value\", unknown_value=-1))\n",
    "\n",
    "tree_default_num_pipeline = make_pipeline(SimpleImputer(strategy=\"median\"))\n",
    "\n",
    "tree_preprocessing = ColumnTransformer([\n",
    "        (\"cat\", tree_cat_pipeline, make_column_selector(dtype_include='category')),\n",
    "    ],\n",
    "    remainder=tree_default_num_pipeline,\n",
    "    verbose_feature_names_out=False,\n",
    ") "
   ]
  },
  {
   "cell_type": "code",
   "execution_count": 17,
   "id": "cfdc1e7e",
   "metadata": {},
   "outputs": [],
   "source": [
    "forest_reg = make_pipeline(tree_preprocessing,\n",
    "                          RandomForestRegressor(random_state=42))\n",
    "# forest_reg = TransformedTargetRegressor(make_pipeline(preprocessing, RandomForestRegressor(random_state=42)), transformer=StandardScaler())\n"
   ]
  },
  {
   "cell_type": "code",
   "execution_count": 18,
   "id": "79102c80",
   "metadata": {},
   "outputs": [
    {
     "name": "stdout",
     "output_type": "stream",
     "text": [
      "CPU times: user 24.2 s, sys: 0 ns, total: 24.2 s\n",
      "Wall time: 24.2 s\n"
     ]
    },
    {
     "data": {
      "text/plain": [
       "count    10.000000\n",
       "mean      0.106547\n",
       "std       0.012296\n",
       "min       0.087010\n",
       "25%       0.100814\n",
       "50%       0.107168\n",
       "75%       0.117048\n",
       "max       0.121292\n",
       "dtype: float64"
      ]
     },
     "execution_count": 18,
     "metadata": {},
     "output_type": "execute_result"
    }
   ],
   "source": [
    "%%time\n",
    "forest_reg_mapes = cross_val_score(forest_reg, X, y, scoring=make_scorer(mean_absolute_percentage_error), cv=10)\n",
    "pd.Series(forest_reg_mapes).describe()"
   ]
  },
  {
   "cell_type": "code",
   "execution_count": 19,
   "id": "efaedf1c",
   "metadata": {},
   "outputs": [
    {
     "data": {
      "image/png": "[encoded data removed]",
      "text/plain": [
       "<Figure size 640x480 with 1 Axes>"
      ]
     },
     "metadata": {},
     "output_type": "display_data"
    },
    {
     "name": "stdout",
     "output_type": "stream",
     "text": [
      "CPU times: user 1.47 s, sys: 473 ms, total: 1.94 s\n",
      "Wall time: 1min 6s\n"
     ]
    }
   ],
   "source": [
    "%%time\n",
    "train_and_plot_learning_curve(forest_reg)"
   ]
  },
  {
   "cell_type": "code",
   "execution_count": 20,
   "id": "84da026a",
   "metadata": {
    "scrolled": false
   },
   "outputs": [
    {
     "ename": "NotFittedError",
     "evalue": "This RandomForestRegressor instance is not fitted yet. Call 'fit' with appropriate arguments before using this estimator.",
     "output_type": "error",
     "traceback": [
      "\u001b[0;31m---------------------------------------------------------------------------\u001b[0m",
      "\u001b[0;31mNotFittedError\u001b[0m                            Traceback (most recent call last)",
      "Cell \u001b[0;32mIn [20], line 1\u001b[0m\n\u001b[0;32m----> 1\u001b[0m \u001b[38;5;28msorted\u001b[39m(\u001b[38;5;28mzip\u001b[39m(\u001b[43mforest_reg\u001b[49m\u001b[43m[\u001b[49m\u001b[38;5;124;43m'\u001b[39;49m\u001b[38;5;124;43mrandomforestregressor\u001b[39;49m\u001b[38;5;124;43m'\u001b[39;49m\u001b[43m]\u001b[49m\u001b[38;5;241;43m.\u001b[39;49m\u001b[43mfeature_importances_\u001b[49m, tree_preprocessing\u001b[38;5;241m.\u001b[39mget_feature_names_out()), reverse\u001b[38;5;241m=\u001b[39m\u001b[38;5;28;01mTrue\u001b[39;00m)\n",
      "File \u001b[0;32m~/miniconda3/envs/steel-ml-model/lib/python3.10/site-packages/sklearn/ensemble/_forest.py:629\u001b[0m, in \u001b[0;36mBaseForest.feature_importances_\u001b[0;34m(self)\u001b[0m\n\u001b[1;32m    608\u001b[0m \u001b[38;5;129m@property\u001b[39m\n\u001b[1;32m    609\u001b[0m \u001b[38;5;28;01mdef\u001b[39;00m \u001b[38;5;21mfeature_importances_\u001b[39m(\u001b[38;5;28mself\u001b[39m):\n\u001b[1;32m    610\u001b[0m     \u001b[38;5;124;03m\"\"\"\u001b[39;00m\n\u001b[1;32m    611\u001b[0m \u001b[38;5;124;03m    The impurity-based feature importances.\u001b[39;00m\n\u001b[1;32m    612\u001b[0m \n\u001b[0;32m   (...)\u001b[0m\n\u001b[1;32m    627\u001b[0m \u001b[38;5;124;03m        array of zeros.\u001b[39;00m\n\u001b[1;32m    628\u001b[0m \u001b[38;5;124;03m    \"\"\"\u001b[39;00m\n\u001b[0;32m--> 629\u001b[0m     \u001b[43mcheck_is_fitted\u001b[49m\u001b[43m(\u001b[49m\u001b[38;5;28;43mself\u001b[39;49m\u001b[43m)\u001b[49m\n\u001b[1;32m    631\u001b[0m     all_importances \u001b[38;5;241m=\u001b[39m Parallel(n_jobs\u001b[38;5;241m=\u001b[39m\u001b[38;5;28mself\u001b[39m\u001b[38;5;241m.\u001b[39mn_jobs, prefer\u001b[38;5;241m=\u001b[39m\u001b[38;5;124m\"\u001b[39m\u001b[38;5;124mthreads\u001b[39m\u001b[38;5;124m\"\u001b[39m)(\n\u001b[1;32m    632\u001b[0m         delayed(\u001b[38;5;28mgetattr\u001b[39m)(tree, \u001b[38;5;124m\"\u001b[39m\u001b[38;5;124mfeature_importances_\u001b[39m\u001b[38;5;124m\"\u001b[39m)\n\u001b[1;32m    633\u001b[0m         \u001b[38;5;28;01mfor\u001b[39;00m tree \u001b[38;5;129;01min\u001b[39;00m \u001b[38;5;28mself\u001b[39m\u001b[38;5;241m.\u001b[39mestimators_\n\u001b[1;32m    634\u001b[0m         \u001b[38;5;28;01mif\u001b[39;00m tree\u001b[38;5;241m.\u001b[39mtree_\u001b[38;5;241m.\u001b[39mnode_count \u001b[38;5;241m>\u001b[39m \u001b[38;5;241m1\u001b[39m\n\u001b[1;32m    635\u001b[0m     )\n\u001b[1;32m    637\u001b[0m     \u001b[38;5;28;01mif\u001b[39;00m \u001b[38;5;129;01mnot\u001b[39;00m all_importances:\n",
      "File \u001b[0;32m~/miniconda3/envs/steel-ml-model/lib/python3.10/site-packages/sklearn/utils/validation.py:1380\u001b[0m, in \u001b[0;36mcheck_is_fitted\u001b[0;34m(estimator, attributes, msg, all_or_any)\u001b[0m\n\u001b[1;32m   1375\u001b[0m     fitted \u001b[38;5;241m=\u001b[39m [\n\u001b[1;32m   1376\u001b[0m         v \u001b[38;5;28;01mfor\u001b[39;00m v \u001b[38;5;129;01min\u001b[39;00m \u001b[38;5;28mvars\u001b[39m(estimator) \u001b[38;5;28;01mif\u001b[39;00m v\u001b[38;5;241m.\u001b[39mendswith(\u001b[38;5;124m\"\u001b[39m\u001b[38;5;124m_\u001b[39m\u001b[38;5;124m\"\u001b[39m) \u001b[38;5;129;01mand\u001b[39;00m \u001b[38;5;129;01mnot\u001b[39;00m v\u001b[38;5;241m.\u001b[39mstartswith(\u001b[38;5;124m\"\u001b[39m\u001b[38;5;124m__\u001b[39m\u001b[38;5;124m\"\u001b[39m)\n\u001b[1;32m   1377\u001b[0m     ]\n\u001b[1;32m   1379\u001b[0m \u001b[38;5;28;01mif\u001b[39;00m \u001b[38;5;129;01mnot\u001b[39;00m fitted:\n\u001b[0;32m-> 1380\u001b[0m     \u001b[38;5;28;01mraise\u001b[39;00m NotFittedError(msg \u001b[38;5;241m%\u001b[39m {\u001b[38;5;124m\"\u001b[39m\u001b[38;5;124mname\u001b[39m\u001b[38;5;124m\"\u001b[39m: \u001b[38;5;28mtype\u001b[39m(estimator)\u001b[38;5;241m.\u001b[39m\u001b[38;5;18m__name__\u001b[39m})\n",
      "\u001b[0;31mNotFittedError\u001b[0m: This RandomForestRegressor instance is not fitted yet. Call 'fit' with appropriate arguments before using this estimator."
     ]
    }
   ],
   "source": [
    "sorted(zip(forest_reg['randomforestregressor'].feature_importances_, tree_preprocessing.get_feature_names_out()), reverse=True)"
   ]
  },
  {
   "cell_type": "markdown",
   "id": "f7e7cca3",
   "metadata": {},
   "source": [
    "# Histogram-Based Gradient Boosting"
   ]
  },
  {
   "cell_type": "code",
   "execution_count": 44,
   "id": "9967ffe7",
   "metadata": {},
   "outputs": [],
   "source": [
    "from sklearn.ensemble import HistGradientBoostingRegressor\n",
    "from sklearn.feature_selection import SequentialFeatureSelector\n",
    "from sklearn.svm import LinearSVR"
   ]
  },
  {
   "cell_type": "code",
   "execution_count": 18,
   "id": "555d1820",
   "metadata": {},
   "outputs": [],
   "source": [
    "hgbr_cat_pipeline = make_pipeline(\n",
    "    SimpleImputer(strategy=\"most_frequent\"),\n",
    "    OrdinalEncoder(handle_unknown=\"use_encoded_value\", unknown_value=np.nan))\n",
    "\n",
    "hgbr_default_num_pipeline = make_pipeline(SimpleImputer(strategy=\"median\"))\n",
    "\n",
    "hgbr_preprocessing = ColumnTransformer([\n",
    "        (\"cat\", hgbr_cat_pipeline, make_column_selector(dtype_include='category')),\n",
    "    ],\n",
    "    remainder=hgbr_default_num_pipeline,\n",
    "    verbose_feature_names_out=False,\n",
    ") "
   ]
  },
  {
   "cell_type": "code",
   "execution_count": 69,
   "id": "1434584a",
   "metadata": {},
   "outputs": [],
   "source": [
    "categorical_columns = X.select_dtypes(include=\"category\").columns\n",
    "hgbr_reg = make_pipeline(hgbr_preprocessing,\n",
    "                         SequentialFeatureSelector(HistGradientBoostingRegressor(max_iter=50, random_state=42), \n",
    "                                                   n_features_to_select=20, direction=\"forward\"),\n",
    "                           HistGradientBoostingRegressor(max_iter=1000, random_state=42)\n",
    "                        ).set_output(transform=\"pandas\")"
   ]
  },
  {
   "cell_type": "code",
   "execution_count": 70,
   "id": "b675ecd0",
   "metadata": {},
   "outputs": [
    {
     "name": "stdout",
     "output_type": "stream",
     "text": [
      "CPU times: user 3min 10s, sys: 660 ms, total: 3min 10s\n",
      "Wall time: 12.1 s\n"
     ]
    },
    {
     "data": {
      "text/plain": [
       "count    5.000000\n",
       "mean     0.089010\n",
       "std      0.004783\n",
       "min      0.082111\n",
       "25%      0.086861\n",
       "50%      0.090100\n",
       "75%      0.091193\n",
       "max      0.094785\n",
       "dtype: float64"
      ]
     },
     "execution_count": 70,
     "metadata": {},
     "output_type": "execute_result"
    }
   ],
   "source": [
    "%%time\n",
    "\n",
    "hgbr_reg_mapes = cross_val_score(HistGradientBoostingRegressor(max_iter=1000, random_state=42), \n",
    "                                 X_fea_selected, y, scoring=make_scorer(mean_absolute_percentage_error), cv=5)\n",
    "pd.Series(hgbr_reg_mapes).describe()"
   ]
  },
  {
   "cell_type": "code",
   "execution_count": 68,
   "id": "4bda3c2c",
   "metadata": {},
   "outputs": [
    {
     "data": {
      "image/png": "[encoded data removed]",
      "text/plain": [
       "<Figure size 640x480 with 1 Axes>"
      ]
     },
     "metadata": {},
     "output_type": "display_data"
    }
   ],
   "source": [
    "train_and_plot_learning_curve(HistGradientBoostingRegressor(max_iter=1000, random_state=42), X_fea_selected, y)"
   ]
  },
  {
   "cell_type": "code",
   "execution_count": 25,
   "id": "c167ef24",
   "metadata": {},
   "outputs": [
    {
     "data": {
      "image/png": "[encoded data removed]",
      "text/plain": [
       "<Figure size 640x480 with 1 Axes>"
      ]
     },
     "metadata": {},
     "output_type": "display_data"
    },
    {
     "name": "stdout",
     "output_type": "stream",
     "text": [
      "CPU times: user 1.14 s, sys: 244 ms, total: 1.38 s\n",
      "Wall time: 2min 57s\n"
     ]
    }
   ],
   "source": [
    "%%time\n",
    "train_and_plot_learning_curve(hgbr_reg)"
   ]
  },
  {
   "cell_type": "code",
   "execution_count": 37,
   "id": "46dfa838",
   "metadata": {},
   "outputs": [
    {
     "name": "stdout",
     "output_type": "stream",
     "text": [
      "CPU times: user 2min 15s, sys: 19.9 s, total: 2min 35s\n",
      "Wall time: 5h 13min 49s\n"
     ]
    },
    {
     "data": {
      "text/html": [
       "<style>#sk-container-id-3 {color: black;background-color: white;}#sk-container-id-3 pre{padding: 0;}#sk-container-id-3 div.sk-toggleable {background-color: white;}#sk-container-id-3 label.sk-toggleable__label {cursor: pointer;display: block;width: 100%;margin-bottom: 0;padding: 0.3em;box-sizing: border-box;text-align: center;}#sk-container-id-3 label.sk-toggleable__label-arrow:before {content: \"▸\";float: left;margin-right: 0.25em;color: #696969;}#sk-container-id-3 label.sk-toggleable__label-arrow:hover:before {color: black;}#sk-container-id-3 div.sk-estimator:hover label.sk-toggleable__label-arrow:before {color: black;}#sk-container-id-3 div.sk-toggleable__content {max-height: 0;max-width: 0;overflow: hidden;text-align: left;background-color: #f0f8ff;}#sk-container-id-3 div.sk-toggleable__content pre {margin: 0.2em;color: black;border-radius: 0.25em;background-color: #f0f8ff;}#sk-container-id-3 input.sk-toggleable__control:checked~div.sk-toggleable__content {max-height: 200px;max-width: 100%;overflow: auto;}#sk-container-id-3 input.sk-toggleable__control:checked~label.sk-toggleable__label-arrow:before {content: \"▾\";}#sk-container-id-3 div.sk-estimator input.sk-toggleable__control:checked~label.sk-toggleable__label {background-color: #d4ebff;}#sk-container-id-3 div.sk-label input.sk-toggleable__control:checked~label.sk-toggleable__label {background-color: #d4ebff;}#sk-container-id-3 input.sk-hidden--visually {border: 0;clip: rect(1px 1px 1px 1px);clip: rect(1px, 1px, 1px, 1px);height: 1px;margin: -1px;overflow: hidden;padding: 0;position: absolute;width: 1px;}#sk-container-id-3 div.sk-estimator {font-family: monospace;background-color: #f0f8ff;border: 1px dotted black;border-radius: 0.25em;box-sizing: border-box;margin-bottom: 0.5em;}#sk-container-id-3 div.sk-estimator:hover {background-color: #d4ebff;}#sk-container-id-3 div.sk-parallel-item::after {content: \"\";width: 100%;border-bottom: 1px solid gray;flex-grow: 1;}#sk-container-id-3 div.sk-label:hover label.sk-toggleable__label {background-color: #d4ebff;}#sk-container-id-3 div.sk-serial::before {content: \"\";position: absolute;border-left: 1px solid gray;box-sizing: border-box;top: 0;bottom: 0;left: 50%;z-index: 0;}#sk-container-id-3 div.sk-serial {display: flex;flex-direction: column;align-items: center;background-color: white;padding-right: 0.2em;padding-left: 0.2em;position: relative;}#sk-container-id-3 div.sk-item {position: relative;z-index: 1;}#sk-container-id-3 div.sk-parallel {display: flex;align-items: stretch;justify-content: center;background-color: white;position: relative;}#sk-container-id-3 div.sk-item::before, #sk-container-id-3 div.sk-parallel-item::before {content: \"\";position: absolute;border-left: 1px solid gray;box-sizing: border-box;top: 0;bottom: 0;left: 50%;z-index: -1;}#sk-container-id-3 div.sk-parallel-item {display: flex;flex-direction: column;z-index: 1;position: relative;background-color: white;}#sk-container-id-3 div.sk-parallel-item:first-child::after {align-self: flex-end;width: 50%;}#sk-container-id-3 div.sk-parallel-item:last-child::after {align-self: flex-start;width: 50%;}#sk-container-id-3 div.sk-parallel-item:only-child::after {width: 0;}#sk-container-id-3 div.sk-dashed-wrapped {border: 1px dashed gray;margin: 0 0.4em 0.5em 0.4em;box-sizing: border-box;padding-bottom: 0.4em;background-color: white;}#sk-container-id-3 div.sk-label label {font-family: monospace;font-weight: bold;display: inline-block;line-height: 1.2em;}#sk-container-id-3 div.sk-label-container {text-align: center;}#sk-container-id-3 div.sk-container {/* jupyter's `normalize.less` sets `[hidden] { display: none; }` but bootstrap.min.css set `[hidden] { display: none !important; }` so we also need the `!important` here to be able to override the default hidden behavior on the sphinx rendered scikit-learn.org. See: https://github.com/scikit-learn/scikit-learn/issues/21755 */display: inline-block !important;position: relative;}#sk-container-id-3 div.sk-text-repr-fallback {display: none;}</style><div id=\"sk-container-id-3\" class=\"sk-top-container\"><div class=\"sk-text-repr-fallback\"><pre>GridSearchCV(cv=10,\n",
       "             estimator=Pipeline(steps=[(&#x27;columntransformer&#x27;,\n",
       "                                        ColumnTransformer(remainder=Pipeline(steps=[(&#x27;simpleimputer&#x27;,\n",
       "                                                                                     SimpleImputer(strategy=&#x27;median&#x27;))]),\n",
       "                                                          transformers=[(&#x27;cat&#x27;,\n",
       "                                                                         Pipeline(steps=[(&#x27;simpleimputer&#x27;,\n",
       "                                                                                          SimpleImputer(strategy=&#x27;most_frequent&#x27;)),\n",
       "                                                                                         (&#x27;ordinalencoder&#x27;,\n",
       "                                                                                          OrdinalEncoder(handle_unknown=&#x27;use_encoded_value&#x27;,\n",
       "                                                                                                         unknown_value=nan))]),\n",
       "                                                                         &lt;s...\n",
       "                         &#x27;histgradientboostingregressor__learning_rate&#x27;: [0.05,\n",
       "                                                                          0.1,\n",
       "                                                                          0.2],\n",
       "                         &#x27;histgradientboostingregressor__max_depth&#x27;: [25, 50,\n",
       "                                                                      75],\n",
       "                         &#x27;histgradientboostingregressor__max_iter&#x27;: [1000, 1200,\n",
       "                                                                     1500,\n",
       "                                                                     2000],\n",
       "                         &#x27;histgradientboostingregressor__max_leaf_nodes&#x27;: [20,\n",
       "                                                                           31,\n",
       "                                                                           40],\n",
       "                         &#x27;histgradientboostingregressor__min_samples_leaf&#x27;: [10,\n",
       "                                                                             20,\n",
       "                                                                             30]},\n",
       "             scoring=make_scorer(mean_absolute_percentage_error, greater_is_better=False))</pre><b>In a Jupyter environment, please rerun this cell to show the HTML representation or trust the notebook. <br />On GitHub, the HTML representation is unable to render, please try loading this page with nbviewer.org.</b></div><div class=\"sk-container\" hidden><div class=\"sk-item sk-dashed-wrapped\"><div class=\"sk-label-container\"><div class=\"sk-label sk-toggleable\"><input class=\"sk-toggleable__control sk-hidden--visually\" id=\"sk-estimator-id-18\" type=\"checkbox\" ><label for=\"sk-estimator-id-18\" class=\"sk-toggleable__label sk-toggleable__label-arrow\">GridSearchCV</label><div class=\"sk-toggleable__content\"><pre>GridSearchCV(cv=10,\n",
       "             estimator=Pipeline(steps=[(&#x27;columntransformer&#x27;,\n",
       "                                        ColumnTransformer(remainder=Pipeline(steps=[(&#x27;simpleimputer&#x27;,\n",
       "                                                                                     SimpleImputer(strategy=&#x27;median&#x27;))]),\n",
       "                                                          transformers=[(&#x27;cat&#x27;,\n",
       "                                                                         Pipeline(steps=[(&#x27;simpleimputer&#x27;,\n",
       "                                                                                          SimpleImputer(strategy=&#x27;most_frequent&#x27;)),\n",
       "                                                                                         (&#x27;ordinalencoder&#x27;,\n",
       "                                                                                          OrdinalEncoder(handle_unknown=&#x27;use_encoded_value&#x27;,\n",
       "                                                                                                         unknown_value=nan))]),\n",
       "                                                                         &lt;s...\n",
       "                         &#x27;histgradientboostingregressor__learning_rate&#x27;: [0.05,\n",
       "                                                                          0.1,\n",
       "                                                                          0.2],\n",
       "                         &#x27;histgradientboostingregressor__max_depth&#x27;: [25, 50,\n",
       "                                                                      75],\n",
       "                         &#x27;histgradientboostingregressor__max_iter&#x27;: [1000, 1200,\n",
       "                                                                     1500,\n",
       "                                                                     2000],\n",
       "                         &#x27;histgradientboostingregressor__max_leaf_nodes&#x27;: [20,\n",
       "                                                                           31,\n",
       "                                                                           40],\n",
       "                         &#x27;histgradientboostingregressor__min_samples_leaf&#x27;: [10,\n",
       "                                                                             20,\n",
       "                                                                             30]},\n",
       "             scoring=make_scorer(mean_absolute_percentage_error, greater_is_better=False))</pre></div></div></div><div class=\"sk-parallel\"><div class=\"sk-parallel-item\"><div class=\"sk-item\"><div class=\"sk-label-container\"><div class=\"sk-label sk-toggleable\"><input class=\"sk-toggleable__control sk-hidden--visually\" id=\"sk-estimator-id-19\" type=\"checkbox\" ><label for=\"sk-estimator-id-19\" class=\"sk-toggleable__label sk-toggleable__label-arrow\">estimator: Pipeline</label><div class=\"sk-toggleable__content\"><pre>Pipeline(steps=[(&#x27;columntransformer&#x27;,\n",
       "                 ColumnTransformer(remainder=Pipeline(steps=[(&#x27;simpleimputer&#x27;,\n",
       "                                                              SimpleImputer(strategy=&#x27;median&#x27;))]),\n",
       "                                   transformers=[(&#x27;cat&#x27;,\n",
       "                                                  Pipeline(steps=[(&#x27;simpleimputer&#x27;,\n",
       "                                                                   SimpleImputer(strategy=&#x27;most_frequent&#x27;)),\n",
       "                                                                  (&#x27;ordinalencoder&#x27;,\n",
       "                                                                   OrdinalEncoder(handle_unknown=&#x27;use_encoded_value&#x27;,\n",
       "                                                                                  unknown_value=nan))]),\n",
       "                                                  &lt;sklearn.compose._column_transformer.make_column_selector object at 0x7f13b704c490&gt;)],\n",
       "                                   verbose_feature_names_out=False)),\n",
       "                (&#x27;histgradientboostingregressor&#x27;,\n",
       "                 HistGradientBoostingRegressor(categorical_features=Index([&#x27;foundation_type&#x27;, &#x27;concrete_code&#x27;, &#x27;load_code&#x27;, &#x27;wind_code&#x27;,\n",
       "       &#x27;seismic_code&#x27;],\n",
       "      dtype=&#x27;object&#x27;),\n",
       "                                               random_state=42))])</pre></div></div></div><div class=\"sk-serial\"><div class=\"sk-item\"><div class=\"sk-serial\"><div class=\"sk-item sk-dashed-wrapped\"><div class=\"sk-label-container\"><div class=\"sk-label sk-toggleable\"><input class=\"sk-toggleable__control sk-hidden--visually\" id=\"sk-estimator-id-20\" type=\"checkbox\" ><label for=\"sk-estimator-id-20\" class=\"sk-toggleable__label sk-toggleable__label-arrow\">columntransformer: ColumnTransformer</label><div class=\"sk-toggleable__content\"><pre>ColumnTransformer(remainder=Pipeline(steps=[(&#x27;simpleimputer&#x27;,\n",
       "                                             SimpleImputer(strategy=&#x27;median&#x27;))]),\n",
       "                  transformers=[(&#x27;cat&#x27;,\n",
       "                                 Pipeline(steps=[(&#x27;simpleimputer&#x27;,\n",
       "                                                  SimpleImputer(strategy=&#x27;most_frequent&#x27;)),\n",
       "                                                 (&#x27;ordinalencoder&#x27;,\n",
       "                                                  OrdinalEncoder(handle_unknown=&#x27;use_encoded_value&#x27;,\n",
       "                                                                 unknown_value=nan))]),\n",
       "                                 &lt;sklearn.compose._column_transformer.make_column_selector object at 0x7f13b704c490&gt;)],\n",
       "                  verbose_feature_names_out=False)</pre></div></div></div><div class=\"sk-parallel\"><div class=\"sk-parallel-item\"><div class=\"sk-item\"><div class=\"sk-label-container\"><div class=\"sk-label sk-toggleable\"><input class=\"sk-toggleable__control sk-hidden--visually\" id=\"sk-estimator-id-21\" type=\"checkbox\" ><label for=\"sk-estimator-id-21\" class=\"sk-toggleable__label sk-toggleable__label-arrow\">cat</label><div class=\"sk-toggleable__content\"><pre>&lt;sklearn.compose._column_transformer.make_column_selector object at 0x7f13b704c490&gt;</pre></div></div></div><div class=\"sk-serial\"><div class=\"sk-item\"><div class=\"sk-serial\"><div class=\"sk-item\"><div class=\"sk-estimator sk-toggleable\"><input class=\"sk-toggleable__control sk-hidden--visually\" id=\"sk-estimator-id-22\" type=\"checkbox\" ><label for=\"sk-estimator-id-22\" class=\"sk-toggleable__label sk-toggleable__label-arrow\">SimpleImputer</label><div class=\"sk-toggleable__content\"><pre>SimpleImputer(strategy=&#x27;most_frequent&#x27;)</pre></div></div></div><div class=\"sk-item\"><div class=\"sk-estimator sk-toggleable\"><input class=\"sk-toggleable__control sk-hidden--visually\" id=\"sk-estimator-id-23\" type=\"checkbox\" ><label for=\"sk-estimator-id-23\" class=\"sk-toggleable__label sk-toggleable__label-arrow\">OrdinalEncoder</label><div class=\"sk-toggleable__content\"><pre>OrdinalEncoder(handle_unknown=&#x27;use_encoded_value&#x27;, unknown_value=nan)</pre></div></div></div></div></div></div></div></div><div class=\"sk-parallel-item\"><div class=\"sk-item\"><div class=\"sk-label-container\"><div class=\"sk-label sk-toggleable\"><input class=\"sk-toggleable__control sk-hidden--visually\" id=\"sk-estimator-id-24\" type=\"checkbox\" ><label for=\"sk-estimator-id-24\" class=\"sk-toggleable__label sk-toggleable__label-arrow\">remainder</label><div class=\"sk-toggleable__content\"><pre></pre></div></div></div><div class=\"sk-serial\"><div class=\"sk-item\"><div class=\"sk-serial\"><div class=\"sk-item\"><div class=\"sk-estimator sk-toggleable\"><input class=\"sk-toggleable__control sk-hidden--visually\" id=\"sk-estimator-id-25\" type=\"checkbox\" ><label for=\"sk-estimator-id-25\" class=\"sk-toggleable__label sk-toggleable__label-arrow\">SimpleImputer</label><div class=\"sk-toggleable__content\"><pre>SimpleImputer(strategy=&#x27;median&#x27;)</pre></div></div></div></div></div></div></div></div></div></div><div class=\"sk-item\"><div class=\"sk-estimator sk-toggleable\"><input class=\"sk-toggleable__control sk-hidden--visually\" id=\"sk-estimator-id-26\" type=\"checkbox\" ><label for=\"sk-estimator-id-26\" class=\"sk-toggleable__label sk-toggleable__label-arrow\">HistGradientBoostingRegressor</label><div class=\"sk-toggleable__content\"><pre>HistGradientBoostingRegressor(categorical_features=Index([&#x27;foundation_type&#x27;, &#x27;concrete_code&#x27;, &#x27;load_code&#x27;, &#x27;wind_code&#x27;,\n",
       "       &#x27;seismic_code&#x27;],\n",
       "      dtype=&#x27;object&#x27;),\n",
       "                              random_state=42)</pre></div></div></div></div></div></div></div></div></div></div></div></div>"
      ],
      "text/plain": [
       "GridSearchCV(cv=10,\n",
       "             estimator=Pipeline(steps=[('columntransformer',\n",
       "                                        ColumnTransformer(remainder=Pipeline(steps=[('simpleimputer',\n",
       "                                                                                     SimpleImputer(strategy='median'))]),\n",
       "                                                          transformers=[('cat',\n",
       "                                                                         Pipeline(steps=[('simpleimputer',\n",
       "                                                                                          SimpleImputer(strategy='most_frequent')),\n",
       "                                                                                         ('ordinalencoder',\n",
       "                                                                                          OrdinalEncoder(handle_unknown='use_encoded_value',\n",
       "                                                                                                         unknown_value=nan))]),\n",
       "                                                                         <s...\n",
       "                         'histgradientboostingregressor__learning_rate': [0.05,\n",
       "                                                                          0.1,\n",
       "                                                                          0.2],\n",
       "                         'histgradientboostingregressor__max_depth': [25, 50,\n",
       "                                                                      75],\n",
       "                         'histgradientboostingregressor__max_iter': [1000, 1200,\n",
       "                                                                     1500,\n",
       "                                                                     2000],\n",
       "                         'histgradientboostingregressor__max_leaf_nodes': [20,\n",
       "                                                                           31,\n",
       "                                                                           40],\n",
       "                         'histgradientboostingregressor__min_samples_leaf': [10,\n",
       "                                                                             20,\n",
       "                                                                             30]},\n",
       "             scoring=make_scorer(mean_absolute_percentage_error, greater_is_better=False))"
      ]
     },
     "execution_count": 37,
     "metadata": {},
     "output_type": "execute_result"
    }
   ],
   "source": [
    "%%time\n",
    "\n",
    "parameters = {\n",
    " 'histgradientboostingregressor__max_iter': [1000, 1200, 1500, 2000],\n",
    " 'histgradientboostingregressor__learning_rate': [0.05, 0.1, 0.2],\n",
    " 'histgradientboostingregressor__max_depth' : [25, 50, 75],\n",
    " 'histgradientboostingregressor__max_leaf_nodes' : [20, 31, 40],\n",
    " 'histgradientboostingregressor__min_samples_leaf' : [10, 20, 30],\n",
    " 'histgradientboostingregressor__l2_regularization': [0, 1, 1.5],\n",
    " }\n",
    "#instantiate the gridsearch\n",
    "hgb_grid = GridSearchCV(hgbr_reg, parameters, n_jobs=-1, \n",
    " cv=10, scoring=make_scorer(mean_absolute_percentage_error, greater_is_better=False))\n",
    "#fit on the grid \n",
    "hgb_grid.fit(X, y)"
   ]
  },
  {
   "cell_type": "code",
   "execution_count": 38,
   "id": "dbab9eb1",
   "metadata": {},
   "outputs": [
    {
     "data": {
      "text/plain": [
       "{'histgradientboostingregressor__l2_regularization': 0,\n",
       " 'histgradientboostingregressor__learning_rate': 0.05,\n",
       " 'histgradientboostingregressor__max_depth': 25,\n",
       " 'histgradientboostingregressor__max_iter': 2000,\n",
       " 'histgradientboostingregressor__max_leaf_nodes': 20,\n",
       " 'histgradientboostingregressor__min_samples_leaf': 20}"
      ]
     },
     "execution_count": 38,
     "metadata": {},
     "output_type": "execute_result"
    }
   ],
   "source": [
    "hgb_grid.best_params_"
   ]
  },
  {
   "cell_type": "code",
   "execution_count": 39,
   "id": "074d6bff",
   "metadata": {},
   "outputs": [
    {
     "data": {
      "text/plain": [
       "-0.08604939887087983"
      ]
     },
     "execution_count": 39,
     "metadata": {},
     "output_type": "execute_result"
    }
   ],
   "source": [
    "hgb_grid.best_score_"
   ]
  },
  {
   "cell_type": "code",
   "execution_count": 16,
   "id": "673f2044",
   "metadata": {},
   "outputs": [
    {
     "name": "stdout",
     "output_type": "stream",
     "text": [
      "CPU times: user 10min 21s, sys: 1.95 s, total: 10min 23s\n",
      "Wall time: 39.4 s\n"
     ]
    },
    {
     "data": {
      "text/plain": [
       "count    10.000000\n",
       "mean      0.086049\n",
       "std       0.009821\n",
       "min       0.070819\n",
       "25%       0.079670\n",
       "50%       0.082755\n",
       "75%       0.094118\n",
       "max       0.103080\n",
       "dtype: float64"
      ]
     },
     "execution_count": 16,
     "metadata": {},
     "output_type": "execute_result"
    }
   ],
   "source": [
    "%%time\n",
    "hgbr_reg = make_pipeline(hgbr_preprocessing,\n",
    "                           HistGradientBoostingRegressor(categorical_features=categorical_columns,\n",
    "                                                         l2_regularization=0,\n",
    "                                                         learning_rate=0.05,\n",
    "                                                         max_depth=25,\n",
    "                                                         max_iter=2000,\n",
    "                                                         max_leaf_nodes=20,\n",
    "                                                         min_samples_leaf=20,\n",
    "                                                         random_state=42)\n",
    "                        ).set_output(transform=\"pandas\")\n",
    "hgbr_reg_mapes = cross_val_score(hgbr_reg, X, y, scoring=make_scorer(mean_absolute_percentage_error), cv=10)\n",
    "pd.Series(hgbr_reg_mapes).describe()"
   ]
  },
  {
   "cell_type": "code",
   "execution_count": 17,
   "id": "83fb01a8",
   "metadata": {},
   "outputs": [
    {
     "data": {
      "image/png": "[encoded data removed]",
      "text/plain": [
       "<Figure size 640x480 with 1 Axes>"
      ]
     },
     "metadata": {},
     "output_type": "display_data"
    },
    {
     "name": "stdout",
     "output_type": "stream",
     "text": [
      "CPU times: user 2.96 s, sys: 1.47 s, total: 4.43 s\n",
      "Wall time: 8min 58s\n"
     ]
    }
   ],
   "source": [
    "%%time\n",
    "train_and_plot_learning_curve(hgbr_reg)"
   ]
  },
  {
   "cell_type": "code",
   "execution_count": null,
   "id": "0183f4c8",
   "metadata": {},
   "outputs": [],
   "source": [
    "%%time\n",
    "\n",
    "parameters = {\n",
    " 'histgradientboostingregressor__max_iter': [2000, 5000, 10000],\n",
    " 'histgradientboostingregressor__learning_rate': [0.001, 0.01, 0.05],\n",
    " 'histgradientboostingregressor__max_depth' : [10, 25],\n",
    " 'histgradientboostingregressor__max_leaf_nodes' : [10, 15, 20],\n",
    " 'histgradientboostingregressor__min_samples_leaf' : [20],\n",
    " 'histgradientboostingregressor__l2_regularization': [0, 0.1],\n",
    " }\n",
    "#instantiate the gridsearch\n",
    "hgb_grid = GridSearchCV(\n",
    "    hgbr_reg, parameters, n_jobs=-1, \n",
    "    cv=10, scoring=make_scorer(mean_absolute_percentage_error, greater_is_better=False)\n",
    ")\n",
    "#fit on the grid \n",
    "hgb_grid.fit(X, y)"
   ]
  },
  {
   "cell_type": "markdown",
   "id": "033d6736",
   "metadata": {},
   "source": [
    "### SVR Linear"
   ]
  },
  {
   "cell_type": "code",
   "execution_count": 25,
   "id": "ecd1919a",
   "metadata": {},
   "outputs": [],
   "source": [
    "from sklearn.svm import LinearSVR\n",
    "svr_linear = make_pipeline(preprocessing, LinearSVR(C=1, epsilon=0, max_iter=10_000_000))\n",
    "svr_linear = TransformedTargetRegressor(svr_linear, transformer=StandardScaler())"
   ]
  },
  {
   "cell_type": "code",
   "execution_count": 26,
   "id": "5318db9e",
   "metadata": {},
   "outputs": [
    {
     "name": "stderr",
     "output_type": "stream",
     "text": [
      "/home/pablo/miniconda3/envs/steel-ml-model/lib/python3.10/site-packages/sklearn/preprocessing/_function_transformer.py:301: RuntimeWarning: divide by zero encountered in log\n",
      "  return func(X, **(kw_args if kw_args else {}))\n",
      "/home/pablo/miniconda3/envs/steel-ml-model/lib/python3.10/site-packages/sklearn/preprocessing/_function_transformer.py:301: RuntimeWarning: invalid value encountered in log\n",
      "  return func(X, **(kw_args if kw_args else {}))\n",
      "/home/pablo/miniconda3/envs/steel-ml-model/lib/python3.10/site-packages/sklearn/preprocessing/_function_transformer.py:301: RuntimeWarning: divide by zero encountered in log\n",
      "  return func(X, **(kw_args if kw_args else {}))\n",
      "/home/pablo/miniconda3/envs/steel-ml-model/lib/python3.10/site-packages/sklearn/preprocessing/_function_transformer.py:301: RuntimeWarning: invalid value encountered in log\n",
      "  return func(X, **(kw_args if kw_args else {}))\n",
      "/home/pablo/miniconda3/envs/steel-ml-model/lib/python3.10/site-packages/sklearn/preprocessing/_function_transformer.py:301: RuntimeWarning: divide by zero encountered in log\n",
      "  return func(X, **(kw_args if kw_args else {}))\n",
      "/home/pablo/miniconda3/envs/steel-ml-model/lib/python3.10/site-packages/sklearn/preprocessing/_function_transformer.py:301: RuntimeWarning: invalid value encountered in log\n",
      "  return func(X, **(kw_args if kw_args else {}))\n",
      "/home/pablo/miniconda3/envs/steel-ml-model/lib/python3.10/site-packages/sklearn/preprocessing/_function_transformer.py:301: RuntimeWarning: divide by zero encountered in log\n",
      "  return func(X, **(kw_args if kw_args else {}))\n",
      "/home/pablo/miniconda3/envs/steel-ml-model/lib/python3.10/site-packages/sklearn/preprocessing/_function_transformer.py:301: RuntimeWarning: invalid value encountered in log\n",
      "  return func(X, **(kw_args if kw_args else {}))\n",
      "/home/pablo/miniconda3/envs/steel-ml-model/lib/python3.10/site-packages/sklearn/preprocessing/_function_transformer.py:301: RuntimeWarning: divide by zero encountered in log\n",
      "  return func(X, **(kw_args if kw_args else {}))\n",
      "/home/pablo/miniconda3/envs/steel-ml-model/lib/python3.10/site-packages/sklearn/preprocessing/_function_transformer.py:301: RuntimeWarning: invalid value encountered in log\n",
      "  return func(X, **(kw_args if kw_args else {}))\n",
      "/home/pablo/miniconda3/envs/steel-ml-model/lib/python3.10/site-packages/sklearn/preprocessing/_function_transformer.py:301: RuntimeWarning: divide by zero encountered in log\n",
      "  return func(X, **(kw_args if kw_args else {}))\n",
      "/home/pablo/miniconda3/envs/steel-ml-model/lib/python3.10/site-packages/sklearn/preprocessing/_function_transformer.py:301: RuntimeWarning: invalid value encountered in log\n",
      "  return func(X, **(kw_args if kw_args else {}))\n",
      "/home/pablo/miniconda3/envs/steel-ml-model/lib/python3.10/site-packages/sklearn/preprocessing/_function_transformer.py:301: RuntimeWarning: divide by zero encountered in log\n",
      "  return func(X, **(kw_args if kw_args else {}))\n",
      "/home/pablo/miniconda3/envs/steel-ml-model/lib/python3.10/site-packages/sklearn/preprocessing/_function_transformer.py:301: RuntimeWarning: invalid value encountered in log\n",
      "  return func(X, **(kw_args if kw_args else {}))\n",
      "/home/pablo/miniconda3/envs/steel-ml-model/lib/python3.10/site-packages/sklearn/preprocessing/_function_transformer.py:301: RuntimeWarning: divide by zero encountered in log\n",
      "  return func(X, **(kw_args if kw_args else {}))\n",
      "/home/pablo/miniconda3/envs/steel-ml-model/lib/python3.10/site-packages/sklearn/preprocessing/_function_transformer.py:301: RuntimeWarning: invalid value encountered in log\n",
      "  return func(X, **(kw_args if kw_args else {}))\n",
      "/home/pablo/miniconda3/envs/steel-ml-model/lib/python3.10/site-packages/sklearn/preprocessing/_function_transformer.py:301: RuntimeWarning: divide by zero encountered in log\n",
      "  return func(X, **(kw_args if kw_args else {}))\n",
      "/home/pablo/miniconda3/envs/steel-ml-model/lib/python3.10/site-packages/sklearn/preprocessing/_function_transformer.py:301: RuntimeWarning: invalid value encountered in log\n",
      "  return func(X, **(kw_args if kw_args else {}))\n",
      "/home/pablo/miniconda3/envs/steel-ml-model/lib/python3.10/site-packages/sklearn/preprocessing/_function_transformer.py:301: RuntimeWarning: divide by zero encountered in log\n",
      "  return func(X, **(kw_args if kw_args else {}))\n",
      "/home/pablo/miniconda3/envs/steel-ml-model/lib/python3.10/site-packages/sklearn/preprocessing/_function_transformer.py:301: RuntimeWarning: invalid value encountered in log\n",
      "  return func(X, **(kw_args if kw_args else {}))\n"
     ]
    },
    {
     "ename": "ValueError",
     "evalue": "\nAll the 10 fits failed.\nIt is very likely that your model is misconfigured.\nYou can try to debug the error by setting error_score='raise'.\n\nBelow are more details about the failures:\n--------------------------------------------------------------------------------\n10 fits failed with the following error:\nTraceback (most recent call last):\n  File \"/home/pablo/miniconda3/envs/steel-ml-model/lib/python3.10/site-packages/sklearn/model_selection/_validation.py\", line 686, in _fit_and_score\n    estimator.fit(X_train, y_train, **fit_params)\n  File \"/home/pablo/miniconda3/envs/steel-ml-model/lib/python3.10/site-packages/sklearn/compose/_target.py\", line 262, in fit\n    self.regressor_.fit(X, y_trans, **fit_params)\n  File \"/home/pablo/miniconda3/envs/steel-ml-model/lib/python3.10/site-packages/sklearn/pipeline.py\", line 402, in fit\n    Xt = self._fit(X, y, **fit_params_steps)\n  File \"/home/pablo/miniconda3/envs/steel-ml-model/lib/python3.10/site-packages/sklearn/pipeline.py\", line 360, in _fit\n    X, fitted_transformer = fit_transform_one_cached(\n  File \"/home/pablo/miniconda3/envs/steel-ml-model/lib/python3.10/site-packages/joblib/memory.py\", line 349, in __call__\n    return self.func(*args, **kwargs)\n  File \"/home/pablo/miniconda3/envs/steel-ml-model/lib/python3.10/site-packages/sklearn/pipeline.py\", line 894, in _fit_transform_one\n    res = transformer.fit_transform(X, y, **fit_params)\n  File \"/home/pablo/miniconda3/envs/steel-ml-model/lib/python3.10/site-packages/sklearn/utils/_set_output.py\", line 142, in wrapped\n    data_to_wrap = f(self, X, *args, **kwargs)\n  File \"/home/pablo/miniconda3/envs/steel-ml-model/lib/python3.10/site-packages/sklearn/compose/_column_transformer.py\", line 726, in fit_transform\n    result = self._fit_transform(X, y, _fit_transform_one)\n  File \"/home/pablo/miniconda3/envs/steel-ml-model/lib/python3.10/site-packages/sklearn/compose/_column_transformer.py\", line 657, in _fit_transform\n    return Parallel(n_jobs=self.n_jobs)(\n  File \"/home/pablo/miniconda3/envs/steel-ml-model/lib/python3.10/site-packages/joblib/parallel.py\", line 1088, in __call__\n    while self.dispatch_one_batch(iterator):\n  File \"/home/pablo/miniconda3/envs/steel-ml-model/lib/python3.10/site-packages/joblib/parallel.py\", line 901, in dispatch_one_batch\n    self._dispatch(tasks)\n  File \"/home/pablo/miniconda3/envs/steel-ml-model/lib/python3.10/site-packages/joblib/parallel.py\", line 819, in _dispatch\n    job = self._backend.apply_async(batch, callback=cb)\n  File \"/home/pablo/miniconda3/envs/steel-ml-model/lib/python3.10/site-packages/joblib/_parallel_backends.py\", line 208, in apply_async\n    result = ImmediateResult(func)\n  File \"/home/pablo/miniconda3/envs/steel-ml-model/lib/python3.10/site-packages/joblib/_parallel_backends.py\", line 597, in __init__\n    self.results = batch()\n  File \"/home/pablo/miniconda3/envs/steel-ml-model/lib/python3.10/site-packages/joblib/parallel.py\", line 288, in __call__\n    return [func(*args, **kwargs)\n  File \"/home/pablo/miniconda3/envs/steel-ml-model/lib/python3.10/site-packages/joblib/parallel.py\", line 288, in <listcomp>\n    return [func(*args, **kwargs)\n  File \"/home/pablo/miniconda3/envs/steel-ml-model/lib/python3.10/site-packages/sklearn/utils/fixes.py\", line 117, in __call__\n    return self.function(*args, **kwargs)\n  File \"/home/pablo/miniconda3/envs/steel-ml-model/lib/python3.10/site-packages/sklearn/pipeline.py\", line 894, in _fit_transform_one\n    res = transformer.fit_transform(X, y, **fit_params)\n  File \"/home/pablo/miniconda3/envs/steel-ml-model/lib/python3.10/site-packages/sklearn/pipeline.py\", line 446, in fit_transform\n    return last_step.fit_transform(Xt, y, **fit_params_last_step)\n  File \"/home/pablo/miniconda3/envs/steel-ml-model/lib/python3.10/site-packages/sklearn/utils/_set_output.py\", line 142, in wrapped\n    data_to_wrap = f(self, X, *args, **kwargs)\n  File \"/home/pablo/miniconda3/envs/steel-ml-model/lib/python3.10/site-packages/sklearn/utils/_set_output.py\", line 142, in wrapped\n    data_to_wrap = f(self, X, *args, **kwargs)\n  File \"/home/pablo/miniconda3/envs/steel-ml-model/lib/python3.10/site-packages/sklearn/base.py\", line 851, in fit_transform\n    return self.fit(X, y, **fit_params).transform(X)\n  File \"/home/pablo/miniconda3/envs/steel-ml-model/lib/python3.10/site-packages/sklearn/preprocessing/_data.py\", line 824, in fit\n    return self.partial_fit(X, y, sample_weight)\n  File \"/home/pablo/miniconda3/envs/steel-ml-model/lib/python3.10/site-packages/sklearn/preprocessing/_data.py\", line 861, in partial_fit\n    X = self._validate_data(\n  File \"/home/pablo/miniconda3/envs/steel-ml-model/lib/python3.10/site-packages/sklearn/base.py\", line 535, in _validate_data\n    X = check_array(X, input_name=\"X\", **check_params)\n  File \"/home/pablo/miniconda3/envs/steel-ml-model/lib/python3.10/site-packages/sklearn/utils/validation.py\", line 919, in check_array\n    _assert_all_finite(\n  File \"/home/pablo/miniconda3/envs/steel-ml-model/lib/python3.10/site-packages/sklearn/utils/validation.py\", line 161, in _assert_all_finite\n    raise ValueError(msg_err)\nValueError: Input X contains infinity or a value too large for dtype('float64').\n",
     "output_type": "error",
     "traceback": [
      "\u001b[0;31m---------------------------------------------------------------------------\u001b[0m",
      "\u001b[0;31mValueError\u001b[0m                                Traceback (most recent call last)",
      "File \u001b[0;32m<timed exec>:1\u001b[0m\n",
      "File \u001b[0;32m~/miniconda3/envs/steel-ml-model/lib/python3.10/site-packages/sklearn/model_selection/_validation.py:515\u001b[0m, in \u001b[0;36mcross_val_score\u001b[0;34m(estimator, X, y, groups, scoring, cv, n_jobs, verbose, fit_params, pre_dispatch, error_score)\u001b[0m\n\u001b[1;32m    512\u001b[0m \u001b[38;5;66;03m# To ensure multimetric format is not supported\u001b[39;00m\n\u001b[1;32m    513\u001b[0m scorer \u001b[38;5;241m=\u001b[39m check_scoring(estimator, scoring\u001b[38;5;241m=\u001b[39mscoring)\n\u001b[0;32m--> 515\u001b[0m cv_results \u001b[38;5;241m=\u001b[39m \u001b[43mcross_validate\u001b[49m\u001b[43m(\u001b[49m\n\u001b[1;32m    516\u001b[0m \u001b[43m    \u001b[49m\u001b[43mestimator\u001b[49m\u001b[38;5;241;43m=\u001b[39;49m\u001b[43mestimator\u001b[49m\u001b[43m,\u001b[49m\n\u001b[1;32m    517\u001b[0m \u001b[43m    \u001b[49m\u001b[43mX\u001b[49m\u001b[38;5;241;43m=\u001b[39;49m\u001b[43mX\u001b[49m\u001b[43m,\u001b[49m\n\u001b[1;32m    518\u001b[0m \u001b[43m    \u001b[49m\u001b[43my\u001b[49m\u001b[38;5;241;43m=\u001b[39;49m\u001b[43my\u001b[49m\u001b[43m,\u001b[49m\n\u001b[1;32m    519\u001b[0m \u001b[43m    \u001b[49m\u001b[43mgroups\u001b[49m\u001b[38;5;241;43m=\u001b[39;49m\u001b[43mgroups\u001b[49m\u001b[43m,\u001b[49m\n\u001b[1;32m    520\u001b[0m \u001b[43m    \u001b[49m\u001b[43mscoring\u001b[49m\u001b[38;5;241;43m=\u001b[39;49m\u001b[43m{\u001b[49m\u001b[38;5;124;43m\"\u001b[39;49m\u001b[38;5;124;43mscore\u001b[39;49m\u001b[38;5;124;43m\"\u001b[39;49m\u001b[43m:\u001b[49m\u001b[43m \u001b[49m\u001b[43mscorer\u001b[49m\u001b[43m}\u001b[49m\u001b[43m,\u001b[49m\n\u001b[1;32m    521\u001b[0m \u001b[43m    \u001b[49m\u001b[43mcv\u001b[49m\u001b[38;5;241;43m=\u001b[39;49m\u001b[43mcv\u001b[49m\u001b[43m,\u001b[49m\n\u001b[1;32m    522\u001b[0m \u001b[43m    \u001b[49m\u001b[43mn_jobs\u001b[49m\u001b[38;5;241;43m=\u001b[39;49m\u001b[43mn_jobs\u001b[49m\u001b[43m,\u001b[49m\n\u001b[1;32m    523\u001b[0m \u001b[43m    \u001b[49m\u001b[43mverbose\u001b[49m\u001b[38;5;241;43m=\u001b[39;49m\u001b[43mverbose\u001b[49m\u001b[43m,\u001b[49m\n\u001b[1;32m    524\u001b[0m \u001b[43m    \u001b[49m\u001b[43mfit_params\u001b[49m\u001b[38;5;241;43m=\u001b[39;49m\u001b[43mfit_params\u001b[49m\u001b[43m,\u001b[49m\n\u001b[1;32m    525\u001b[0m \u001b[43m    \u001b[49m\u001b[43mpre_dispatch\u001b[49m\u001b[38;5;241;43m=\u001b[39;49m\u001b[43mpre_dispatch\u001b[49m\u001b[43m,\u001b[49m\n\u001b[1;32m    526\u001b[0m \u001b[43m    \u001b[49m\u001b[43merror_score\u001b[49m\u001b[38;5;241;43m=\u001b[39;49m\u001b[43merror_score\u001b[49m\u001b[43m,\u001b[49m\n\u001b[1;32m    527\u001b[0m \u001b[43m\u001b[49m\u001b[43m)\u001b[49m\n\u001b[1;32m    528\u001b[0m \u001b[38;5;28;01mreturn\u001b[39;00m cv_results[\u001b[38;5;124m\"\u001b[39m\u001b[38;5;124mtest_score\u001b[39m\u001b[38;5;124m\"\u001b[39m]\n",
      "File \u001b[0;32m~/miniconda3/envs/steel-ml-model/lib/python3.10/site-packages/sklearn/model_selection/_validation.py:285\u001b[0m, in \u001b[0;36mcross_validate\u001b[0;34m(estimator, X, y, groups, scoring, cv, n_jobs, verbose, fit_params, pre_dispatch, return_train_score, return_estimator, error_score)\u001b[0m\n\u001b[1;32m    265\u001b[0m parallel \u001b[38;5;241m=\u001b[39m Parallel(n_jobs\u001b[38;5;241m=\u001b[39mn_jobs, verbose\u001b[38;5;241m=\u001b[39mverbose, pre_dispatch\u001b[38;5;241m=\u001b[39mpre_dispatch)\n\u001b[1;32m    266\u001b[0m results \u001b[38;5;241m=\u001b[39m parallel(\n\u001b[1;32m    267\u001b[0m     delayed(_fit_and_score)(\n\u001b[1;32m    268\u001b[0m         clone(estimator),\n\u001b[0;32m   (...)\u001b[0m\n\u001b[1;32m    282\u001b[0m     \u001b[38;5;28;01mfor\u001b[39;00m train, test \u001b[38;5;129;01min\u001b[39;00m cv\u001b[38;5;241m.\u001b[39msplit(X, y, groups)\n\u001b[1;32m    283\u001b[0m )\n\u001b[0;32m--> 285\u001b[0m \u001b[43m_warn_or_raise_about_fit_failures\u001b[49m\u001b[43m(\u001b[49m\u001b[43mresults\u001b[49m\u001b[43m,\u001b[49m\u001b[43m \u001b[49m\u001b[43merror_score\u001b[49m\u001b[43m)\u001b[49m\n\u001b[1;32m    287\u001b[0m \u001b[38;5;66;03m# For callabe scoring, the return type is only know after calling. If the\u001b[39;00m\n\u001b[1;32m    288\u001b[0m \u001b[38;5;66;03m# return type is a dictionary, the error scores can now be inserted with\u001b[39;00m\n\u001b[1;32m    289\u001b[0m \u001b[38;5;66;03m# the correct key.\u001b[39;00m\n\u001b[1;32m    290\u001b[0m \u001b[38;5;28;01mif\u001b[39;00m callable(scoring):\n",
      "File \u001b[0;32m~/miniconda3/envs/steel-ml-model/lib/python3.10/site-packages/sklearn/model_selection/_validation.py:367\u001b[0m, in \u001b[0;36m_warn_or_raise_about_fit_failures\u001b[0;34m(results, error_score)\u001b[0m\n\u001b[1;32m    360\u001b[0m \u001b[38;5;28;01mif\u001b[39;00m num_failed_fits \u001b[38;5;241m==\u001b[39m num_fits:\n\u001b[1;32m    361\u001b[0m     all_fits_failed_message \u001b[38;5;241m=\u001b[39m (\n\u001b[1;32m    362\u001b[0m         \u001b[38;5;124mf\u001b[39m\u001b[38;5;124m\"\u001b[39m\u001b[38;5;130;01m\\n\u001b[39;00m\u001b[38;5;124mAll the \u001b[39m\u001b[38;5;132;01m{\u001b[39;00mnum_fits\u001b[38;5;132;01m}\u001b[39;00m\u001b[38;5;124m fits failed.\u001b[39m\u001b[38;5;130;01m\\n\u001b[39;00m\u001b[38;5;124m\"\u001b[39m\n\u001b[1;32m    363\u001b[0m         \u001b[38;5;124m\"\u001b[39m\u001b[38;5;124mIt is very likely that your model is misconfigured.\u001b[39m\u001b[38;5;130;01m\\n\u001b[39;00m\u001b[38;5;124m\"\u001b[39m\n\u001b[1;32m    364\u001b[0m         \u001b[38;5;124m\"\u001b[39m\u001b[38;5;124mYou can try to debug the error by setting error_score=\u001b[39m\u001b[38;5;124m'\u001b[39m\u001b[38;5;124mraise\u001b[39m\u001b[38;5;124m'\u001b[39m\u001b[38;5;124m.\u001b[39m\u001b[38;5;130;01m\\n\u001b[39;00m\u001b[38;5;130;01m\\n\u001b[39;00m\u001b[38;5;124m\"\u001b[39m\n\u001b[1;32m    365\u001b[0m         \u001b[38;5;124mf\u001b[39m\u001b[38;5;124m\"\u001b[39m\u001b[38;5;124mBelow are more details about the failures:\u001b[39m\u001b[38;5;130;01m\\n\u001b[39;00m\u001b[38;5;132;01m{\u001b[39;00mfit_errors_summary\u001b[38;5;132;01m}\u001b[39;00m\u001b[38;5;124m\"\u001b[39m\n\u001b[1;32m    366\u001b[0m     )\n\u001b[0;32m--> 367\u001b[0m     \u001b[38;5;28;01mraise\u001b[39;00m \u001b[38;5;167;01mValueError\u001b[39;00m(all_fits_failed_message)\n\u001b[1;32m    369\u001b[0m \u001b[38;5;28;01melse\u001b[39;00m:\n\u001b[1;32m    370\u001b[0m     some_fits_failed_message \u001b[38;5;241m=\u001b[39m (\n\u001b[1;32m    371\u001b[0m         \u001b[38;5;124mf\u001b[39m\u001b[38;5;124m\"\u001b[39m\u001b[38;5;130;01m\\n\u001b[39;00m\u001b[38;5;132;01m{\u001b[39;00mnum_failed_fits\u001b[38;5;132;01m}\u001b[39;00m\u001b[38;5;124m fits failed out of a total of \u001b[39m\u001b[38;5;132;01m{\u001b[39;00mnum_fits\u001b[38;5;132;01m}\u001b[39;00m\u001b[38;5;124m.\u001b[39m\u001b[38;5;130;01m\\n\u001b[39;00m\u001b[38;5;124m\"\u001b[39m\n\u001b[1;32m    372\u001b[0m         \u001b[38;5;124m\"\u001b[39m\u001b[38;5;124mThe score on these train-test partitions for these parameters\u001b[39m\u001b[38;5;124m\"\u001b[39m\n\u001b[0;32m   (...)\u001b[0m\n\u001b[1;32m    376\u001b[0m         \u001b[38;5;124mf\u001b[39m\u001b[38;5;124m\"\u001b[39m\u001b[38;5;124mBelow are more details about the failures:\u001b[39m\u001b[38;5;130;01m\\n\u001b[39;00m\u001b[38;5;132;01m{\u001b[39;00mfit_errors_summary\u001b[38;5;132;01m}\u001b[39;00m\u001b[38;5;124m\"\u001b[39m\n\u001b[1;32m    377\u001b[0m     )\n",
      "\u001b[0;31mValueError\u001b[0m: \nAll the 10 fits failed.\nIt is very likely that your model is misconfigured.\nYou can try to debug the error by setting error_score='raise'.\n\nBelow are more details about the failures:\n--------------------------------------------------------------------------------\n10 fits failed with the following error:\nTraceback (most recent call last):\n  File \"/home/pablo/miniconda3/envs/steel-ml-model/lib/python3.10/site-packages/sklearn/model_selection/_validation.py\", line 686, in _fit_and_score\n    estimator.fit(X_train, y_train, **fit_params)\n  File \"/home/pablo/miniconda3/envs/steel-ml-model/lib/python3.10/site-packages/sklearn/compose/_target.py\", line 262, in fit\n    self.regressor_.fit(X, y_trans, **fit_params)\n  File \"/home/pablo/miniconda3/envs/steel-ml-model/lib/python3.10/site-packages/sklearn/pipeline.py\", line 402, in fit\n    Xt = self._fit(X, y, **fit_params_steps)\n  File \"/home/pablo/miniconda3/envs/steel-ml-model/lib/python3.10/site-packages/sklearn/pipeline.py\", line 360, in _fit\n    X, fitted_transformer = fit_transform_one_cached(\n  File \"/home/pablo/miniconda3/envs/steel-ml-model/lib/python3.10/site-packages/joblib/memory.py\", line 349, in __call__\n    return self.func(*args, **kwargs)\n  File \"/home/pablo/miniconda3/envs/steel-ml-model/lib/python3.10/site-packages/sklearn/pipeline.py\", line 894, in _fit_transform_one\n    res = transformer.fit_transform(X, y, **fit_params)\n  File \"/home/pablo/miniconda3/envs/steel-ml-model/lib/python3.10/site-packages/sklearn/utils/_set_output.py\", line 142, in wrapped\n    data_to_wrap = f(self, X, *args, **kwargs)\n  File \"/home/pablo/miniconda3/envs/steel-ml-model/lib/python3.10/site-packages/sklearn/compose/_column_transformer.py\", line 726, in fit_transform\n    result = self._fit_transform(X, y, _fit_transform_one)\n  File \"/home/pablo/miniconda3/envs/steel-ml-model/lib/python3.10/site-packages/sklearn/compose/_column_transformer.py\", line 657, in _fit_transform\n    return Parallel(n_jobs=self.n_jobs)(\n  File \"/home/pablo/miniconda3/envs/steel-ml-model/lib/python3.10/site-packages/joblib/parallel.py\", line 1088, in __call__\n    while self.dispatch_one_batch(iterator):\n  File \"/home/pablo/miniconda3/envs/steel-ml-model/lib/python3.10/site-packages/joblib/parallel.py\", line 901, in dispatch_one_batch\n    self._dispatch(tasks)\n  File \"/home/pablo/miniconda3/envs/steel-ml-model/lib/python3.10/site-packages/joblib/parallel.py\", line 819, in _dispatch\n    job = self._backend.apply_async(batch, callback=cb)\n  File \"/home/pablo/miniconda3/envs/steel-ml-model/lib/python3.10/site-packages/joblib/_parallel_backends.py\", line 208, in apply_async\n    result = ImmediateResult(func)\n  File \"/home/pablo/miniconda3/envs/steel-ml-model/lib/python3.10/site-packages/joblib/_parallel_backends.py\", line 597, in __init__\n    self.results = batch()\n  File \"/home/pablo/miniconda3/envs/steel-ml-model/lib/python3.10/site-packages/joblib/parallel.py\", line 288, in __call__\n    return [func(*args, **kwargs)\n  File \"/home/pablo/miniconda3/envs/steel-ml-model/lib/python3.10/site-packages/joblib/parallel.py\", line 288, in <listcomp>\n    return [func(*args, **kwargs)\n  File \"/home/pablo/miniconda3/envs/steel-ml-model/lib/python3.10/site-packages/sklearn/utils/fixes.py\", line 117, in __call__\n    return self.function(*args, **kwargs)\n  File \"/home/pablo/miniconda3/envs/steel-ml-model/lib/python3.10/site-packages/sklearn/pipeline.py\", line 894, in _fit_transform_one\n    res = transformer.fit_transform(X, y, **fit_params)\n  File \"/home/pablo/miniconda3/envs/steel-ml-model/lib/python3.10/site-packages/sklearn/pipeline.py\", line 446, in fit_transform\n    return last_step.fit_transform(Xt, y, **fit_params_last_step)\n  File \"/home/pablo/miniconda3/envs/steel-ml-model/lib/python3.10/site-packages/sklearn/utils/_set_output.py\", line 142, in wrapped\n    data_to_wrap = f(self, X, *args, **kwargs)\n  File \"/home/pablo/miniconda3/envs/steel-ml-model/lib/python3.10/site-packages/sklearn/utils/_set_output.py\", line 142, in wrapped\n    data_to_wrap = f(self, X, *args, **kwargs)\n  File \"/home/pablo/miniconda3/envs/steel-ml-model/lib/python3.10/site-packages/sklearn/base.py\", line 851, in fit_transform\n    return self.fit(X, y, **fit_params).transform(X)\n  File \"/home/pablo/miniconda3/envs/steel-ml-model/lib/python3.10/site-packages/sklearn/preprocessing/_data.py\", line 824, in fit\n    return self.partial_fit(X, y, sample_weight)\n  File \"/home/pablo/miniconda3/envs/steel-ml-model/lib/python3.10/site-packages/sklearn/preprocessing/_data.py\", line 861, in partial_fit\n    X = self._validate_data(\n  File \"/home/pablo/miniconda3/envs/steel-ml-model/lib/python3.10/site-packages/sklearn/base.py\", line 535, in _validate_data\n    X = check_array(X, input_name=\"X\", **check_params)\n  File \"/home/pablo/miniconda3/envs/steel-ml-model/lib/python3.10/site-packages/sklearn/utils/validation.py\", line 919, in check_array\n    _assert_all_finite(\n  File \"/home/pablo/miniconda3/envs/steel-ml-model/lib/python3.10/site-packages/sklearn/utils/validation.py\", line 161, in _assert_all_finite\n    raise ValueError(msg_err)\nValueError: Input X contains infinity or a value too large for dtype('float64').\n"
     ]
    }
   ],
   "source": [
    "%%time\n",
    "svr_linear_mapes = cross_val_score(svr_linear, X, y, scoring=make_scorer(mean_absolute_percentage_error), cv=10)\n",
    "pd.Series(svr_linear_mapes).describe()"
   ]
  },
  {
   "cell_type": "code",
   "execution_count": 84,
   "id": "d7f7d97e",
   "metadata": {},
   "outputs": [
    {
     "data": {
      "image/png": "[encoded data removed]",
      "text/plain": [
       "<Figure size 640x480 with 1 Axes>"
      ]
     },
     "metadata": {},
     "output_type": "display_data"
    },
    {
     "name": "stdout",
     "output_type": "stream",
     "text": [
      "CPU times: user 1.36 s, sys: 631 ms, total: 1.99 s\n",
      "Wall time: 18.8 s\n"
     ]
    }
   ],
   "source": [
    "%%time\n",
    "train_and_plot_learning_curve(svr_linear)"
   ]
  },
  {
   "cell_type": "code",
   "execution_count": 85,
   "id": "1f1e4a89",
   "metadata": {},
   "outputs": [
    {
     "data": {
      "text/plain": [
       "{'regressor__linearsvr__epsilon': [0, 0.01, 0.1, 1, 10],\n",
       " 'regressor__linearsvr__C': [0.01, 0.1, 1, 10, 100]}"
      ]
     },
     "execution_count": 85,
     "metadata": {},
     "output_type": "execute_result"
    }
   ],
   "source": [
    "C_range = [0, 0.01, 0.1, 1, 10, 100]\n",
    "epsilon_range = [0, 0.01, 0.1, 1, 10]\n",
    "param_grid = {\n",
    "    'regressor__linearsvr__epsilon': epsilon_range, \n",
    "    'regressor__linearsvr__C': C_range\n",
    "}"
   ]
  },
  {
   "cell_type": "code",
   "execution_count": 86,
   "id": "9e075841",
   "metadata": {},
   "outputs": [
    {
     "name": "stdout",
     "output_type": "stream",
     "text": [
      "CPU times: user 703 ms, sys: 177 ms, total: 880 ms\n",
      "Wall time: 6min 44s\n"
     ]
    },
    {
     "data": {
      "text/html": [
       "<style>#sk-container-id-2 {color: black;background-color: white;}#sk-container-id-2 pre{padding: 0;}#sk-container-id-2 div.sk-toggleable {background-color: white;}#sk-container-id-2 label.sk-toggleable__label {cursor: pointer;display: block;width: 100%;margin-bottom: 0;padding: 0.3em;box-sizing: border-box;text-align: center;}#sk-container-id-2 label.sk-toggleable__label-arrow:before {content: \"▸\";float: left;margin-right: 0.25em;color: #696969;}#sk-container-id-2 label.sk-toggleable__label-arrow:hover:before {color: black;}#sk-container-id-2 div.sk-estimator:hover label.sk-toggleable__label-arrow:before {color: black;}#sk-container-id-2 div.sk-toggleable__content {max-height: 0;max-width: 0;overflow: hidden;text-align: left;background-color: #f0f8ff;}#sk-container-id-2 div.sk-toggleable__content pre {margin: 0.2em;color: black;border-radius: 0.25em;background-color: #f0f8ff;}#sk-container-id-2 input.sk-toggleable__control:checked~div.sk-toggleable__content {max-height: 200px;max-width: 100%;overflow: auto;}#sk-container-id-2 input.sk-toggleable__control:checked~label.sk-toggleable__label-arrow:before {content: \"▾\";}#sk-container-id-2 div.sk-estimator input.sk-toggleable__control:checked~label.sk-toggleable__label {background-color: #d4ebff;}#sk-container-id-2 div.sk-label input.sk-toggleable__control:checked~label.sk-toggleable__label {background-color: #d4ebff;}#sk-container-id-2 input.sk-hidden--visually {border: 0;clip: rect(1px 1px 1px 1px);clip: rect(1px, 1px, 1px, 1px);height: 1px;margin: -1px;overflow: hidden;padding: 0;position: absolute;width: 1px;}#sk-container-id-2 div.sk-estimator {font-family: monospace;background-color: #f0f8ff;border: 1px dotted black;border-radius: 0.25em;box-sizing: border-box;margin-bottom: 0.5em;}#sk-container-id-2 div.sk-estimator:hover {background-color: #d4ebff;}#sk-container-id-2 div.sk-parallel-item::after {content: \"\";width: 100%;border-bottom: 1px solid gray;flex-grow: 1;}#sk-container-id-2 div.sk-label:hover label.sk-toggleable__label {background-color: #d4ebff;}#sk-container-id-2 div.sk-serial::before {content: \"\";position: absolute;border-left: 1px solid gray;box-sizing: border-box;top: 0;bottom: 0;left: 50%;z-index: 0;}#sk-container-id-2 div.sk-serial {display: flex;flex-direction: column;align-items: center;background-color: white;padding-right: 0.2em;padding-left: 0.2em;position: relative;}#sk-container-id-2 div.sk-item {position: relative;z-index: 1;}#sk-container-id-2 div.sk-parallel {display: flex;align-items: stretch;justify-content: center;background-color: white;position: relative;}#sk-container-id-2 div.sk-item::before, #sk-container-id-2 div.sk-parallel-item::before {content: \"\";position: absolute;border-left: 1px solid gray;box-sizing: border-box;top: 0;bottom: 0;left: 50%;z-index: -1;}#sk-container-id-2 div.sk-parallel-item {display: flex;flex-direction: column;z-index: 1;position: relative;background-color: white;}#sk-container-id-2 div.sk-parallel-item:first-child::after {align-self: flex-end;width: 50%;}#sk-container-id-2 div.sk-parallel-item:last-child::after {align-self: flex-start;width: 50%;}#sk-container-id-2 div.sk-parallel-item:only-child::after {width: 0;}#sk-container-id-2 div.sk-dashed-wrapped {border: 1px dashed gray;margin: 0 0.4em 0.5em 0.4em;box-sizing: border-box;padding-bottom: 0.4em;background-color: white;}#sk-container-id-2 div.sk-label label {font-family: monospace;font-weight: bold;display: inline-block;line-height: 1.2em;}#sk-container-id-2 div.sk-label-container {text-align: center;}#sk-container-id-2 div.sk-container {/* jupyter's `normalize.less` sets `[hidden] { display: none; }` but bootstrap.min.css set `[hidden] { display: none !important; }` so we also need the `!important` here to be able to override the default hidden behavior on the sphinx rendered scikit-learn.org. See: https://github.com/scikit-learn/scikit-learn/issues/21755 */display: inline-block !important;position: relative;}#sk-container-id-2 div.sk-text-repr-fallback {display: none;}</style><div id=\"sk-container-id-2\" class=\"sk-top-container\"><div class=\"sk-text-repr-fallback\"><pre>GridSearchCV(cv=10,\n",
       "             estimator=TransformedTargetRegressor(regressor=Pipeline(steps=[(&#x27;columntransformer&#x27;,\n",
       "                                                                             ColumnTransformer(remainder=Pipeline(steps=[(&#x27;simpleimputer&#x27;,\n",
       "                                                                                                                          SimpleImputer(strategy=&#x27;median&#x27;)),\n",
       "                                                                                                                         (&#x27;standardscaler&#x27;,\n",
       "                                                                                                                          StandardScaler())]),\n",
       "                                                                                               transformers=[(&#x27;cat&#x27;,\n",
       "                                                                                                              Pipeline(steps=[(&#x27;simpleimputer&#x27;,\n",
       "                                                                                                                               SimpleImputer(strategy=&#x27;most_frequent&#x27;)),\n",
       "                                                                                                                              (&#x27;onehotencoder&#x27;,\n",
       "                                                                                                                               On...\n",
       "                                                                                                              &lt;sklearn.compose._column_transformer.make_column_selector object at 0x7efc95ae4700&gt;)])),\n",
       "                                                                            (&#x27;linearsvr&#x27;,\n",
       "                                                                             LinearSVR(C=1,\n",
       "                                                                                       epsilon=0,\n",
       "                                                                                       max_iter=10000000))]),\n",
       "                                                  transformer=StandardScaler()),\n",
       "             n_jobs=-1,\n",
       "             param_grid={&#x27;regressor__linearsvr__C&#x27;: [0.01, 0.1, 1, 10, 100],\n",
       "                         &#x27;regressor__linearsvr__epsilon&#x27;: [0, 0.01, 0.1, 1,\n",
       "                                                           10]},\n",
       "             scoring=make_scorer(mean_absolute_percentage_error, greater_is_better=False))</pre><b>In a Jupyter environment, please rerun this cell to show the HTML representation or trust the notebook. <br />On GitHub, the HTML representation is unable to render, please try loading this page with nbviewer.org.</b></div><div class=\"sk-container\" hidden><div class=\"sk-item sk-dashed-wrapped\"><div class=\"sk-label-container\"><div class=\"sk-label sk-toggleable\"><input class=\"sk-toggleable__control sk-hidden--visually\" id=\"sk-estimator-id-9\" type=\"checkbox\" ><label for=\"sk-estimator-id-9\" class=\"sk-toggleable__label sk-toggleable__label-arrow\">GridSearchCV</label><div class=\"sk-toggleable__content\"><pre>GridSearchCV(cv=10,\n",
       "             estimator=TransformedTargetRegressor(regressor=Pipeline(steps=[(&#x27;columntransformer&#x27;,\n",
       "                                                                             ColumnTransformer(remainder=Pipeline(steps=[(&#x27;simpleimputer&#x27;,\n",
       "                                                                                                                          SimpleImputer(strategy=&#x27;median&#x27;)),\n",
       "                                                                                                                         (&#x27;standardscaler&#x27;,\n",
       "                                                                                                                          StandardScaler())]),\n",
       "                                                                                               transformers=[(&#x27;cat&#x27;,\n",
       "                                                                                                              Pipeline(steps=[(&#x27;simpleimputer&#x27;,\n",
       "                                                                                                                               SimpleImputer(strategy=&#x27;most_frequent&#x27;)),\n",
       "                                                                                                                              (&#x27;onehotencoder&#x27;,\n",
       "                                                                                                                               On...\n",
       "                                                                                                              &lt;sklearn.compose._column_transformer.make_column_selector object at 0x7efc95ae4700&gt;)])),\n",
       "                                                                            (&#x27;linearsvr&#x27;,\n",
       "                                                                             LinearSVR(C=1,\n",
       "                                                                                       epsilon=0,\n",
       "                                                                                       max_iter=10000000))]),\n",
       "                                                  transformer=StandardScaler()),\n",
       "             n_jobs=-1,\n",
       "             param_grid={&#x27;regressor__linearsvr__C&#x27;: [0.01, 0.1, 1, 10, 100],\n",
       "                         &#x27;regressor__linearsvr__epsilon&#x27;: [0, 0.01, 0.1, 1,\n",
       "                                                           10]},\n",
       "             scoring=make_scorer(mean_absolute_percentage_error, greater_is_better=False))</pre></div></div></div><div class=\"sk-parallel\"><div class=\"sk-parallel-item\"><div class=\"sk-item\"><div class=\"sk-label-container\"><div class=\"sk-label sk-toggleable\"><input class=\"sk-toggleable__control sk-hidden--visually\" id=\"sk-estimator-id-10\" type=\"checkbox\" ><label for=\"sk-estimator-id-10\" class=\"sk-toggleable__label sk-toggleable__label-arrow\">estimator: TransformedTargetRegressor</label><div class=\"sk-toggleable__content\"><pre>TransformedTargetRegressor(regressor=Pipeline(steps=[(&#x27;columntransformer&#x27;,\n",
       "                                                      ColumnTransformer(remainder=Pipeline(steps=[(&#x27;simpleimputer&#x27;,\n",
       "                                                                                                   SimpleImputer(strategy=&#x27;median&#x27;)),\n",
       "                                                                                                  (&#x27;standardscaler&#x27;,\n",
       "                                                                                                   StandardScaler())]),\n",
       "                                                                        transformers=[(&#x27;cat&#x27;,\n",
       "                                                                                       Pipeline(steps=[(&#x27;simpleimputer&#x27;,\n",
       "                                                                                                        SimpleImputer(strategy=&#x27;most_frequent&#x27;)),\n",
       "                                                                                                       (&#x27;onehotencoder&#x27;,\n",
       "                                                                                                        OneHotEncoder(handle_unknown=&#x27;ignore&#x27;))]),\n",
       "                                                                                       &lt;sklearn.compose._column_transformer.make_column_selector object at 0x7efc95ae4700&gt;)])),\n",
       "                                                     (&#x27;linearsvr&#x27;,\n",
       "                                                      LinearSVR(C=1, epsilon=0,\n",
       "                                                                max_iter=10000000))]),\n",
       "                           transformer=StandardScaler())</pre></div></div></div><div class=\"sk-serial\"><div class=\"sk-item sk-dashed-wrapped\"><div class=\"sk-parallel\"><div class=\"sk-parallel-item\"><div class=\"sk-item\"><div class=\"sk-label-container\"><div class=\"sk-label sk-toggleable\"><input class=\"sk-toggleable__control sk-hidden--visually\" id=\"sk-estimator-id-11\" type=\"checkbox\" ><label for=\"sk-estimator-id-11\" class=\"sk-toggleable__label sk-toggleable__label-arrow\">regressor: Pipeline</label><div class=\"sk-toggleable__content\"><pre>Pipeline(steps=[(&#x27;columntransformer&#x27;,\n",
       "                 ColumnTransformer(remainder=Pipeline(steps=[(&#x27;simpleimputer&#x27;,\n",
       "                                                              SimpleImputer(strategy=&#x27;median&#x27;)),\n",
       "                                                             (&#x27;standardscaler&#x27;,\n",
       "                                                              StandardScaler())]),\n",
       "                                   transformers=[(&#x27;cat&#x27;,\n",
       "                                                  Pipeline(steps=[(&#x27;simpleimputer&#x27;,\n",
       "                                                                   SimpleImputer(strategy=&#x27;most_frequent&#x27;)),\n",
       "                                                                  (&#x27;onehotencoder&#x27;,\n",
       "                                                                   OneHotEncoder(handle_unknown=&#x27;ignore&#x27;))]),\n",
       "                                                  &lt;sklearn.compose._column_transformer.make_column_selector object at 0x7efc95ae4700&gt;)])),\n",
       "                (&#x27;linearsvr&#x27;, LinearSVR(C=1, epsilon=0, max_iter=10000000))])</pre></div></div></div><div class=\"sk-serial\"><div class=\"sk-item\"><div class=\"sk-serial\"><div class=\"sk-item sk-dashed-wrapped\"><div class=\"sk-label-container\"><div class=\"sk-label sk-toggleable\"><input class=\"sk-toggleable__control sk-hidden--visually\" id=\"sk-estimator-id-12\" type=\"checkbox\" ><label for=\"sk-estimator-id-12\" class=\"sk-toggleable__label sk-toggleable__label-arrow\">columntransformer: ColumnTransformer</label><div class=\"sk-toggleable__content\"><pre>ColumnTransformer(remainder=Pipeline(steps=[(&#x27;simpleimputer&#x27;,\n",
       "                                             SimpleImputer(strategy=&#x27;median&#x27;)),\n",
       "                                            (&#x27;standardscaler&#x27;,\n",
       "                                             StandardScaler())]),\n",
       "                  transformers=[(&#x27;cat&#x27;,\n",
       "                                 Pipeline(steps=[(&#x27;simpleimputer&#x27;,\n",
       "                                                  SimpleImputer(strategy=&#x27;most_frequent&#x27;)),\n",
       "                                                 (&#x27;onehotencoder&#x27;,\n",
       "                                                  OneHotEncoder(handle_unknown=&#x27;ignore&#x27;))]),\n",
       "                                 &lt;sklearn.compose._column_transformer.make_column_selector object at 0x7efc95ae4700&gt;)])</pre></div></div></div><div class=\"sk-parallel\"><div class=\"sk-parallel-item\"><div class=\"sk-item\"><div class=\"sk-label-container\"><div class=\"sk-label sk-toggleable\"><input class=\"sk-toggleable__control sk-hidden--visually\" id=\"sk-estimator-id-13\" type=\"checkbox\" ><label for=\"sk-estimator-id-13\" class=\"sk-toggleable__label sk-toggleable__label-arrow\">cat</label><div class=\"sk-toggleable__content\"><pre>&lt;sklearn.compose._column_transformer.make_column_selector object at 0x7efc95ae4700&gt;</pre></div></div></div><div class=\"sk-serial\"><div class=\"sk-item\"><div class=\"sk-serial\"><div class=\"sk-item\"><div class=\"sk-estimator sk-toggleable\"><input class=\"sk-toggleable__control sk-hidden--visually\" id=\"sk-estimator-id-14\" type=\"checkbox\" ><label for=\"sk-estimator-id-14\" class=\"sk-toggleable__label sk-toggleable__label-arrow\">SimpleImputer</label><div class=\"sk-toggleable__content\"><pre>SimpleImputer(strategy=&#x27;most_frequent&#x27;)</pre></div></div></div><div class=\"sk-item\"><div class=\"sk-estimator sk-toggleable\"><input class=\"sk-toggleable__control sk-hidden--visually\" id=\"sk-estimator-id-15\" type=\"checkbox\" ><label for=\"sk-estimator-id-15\" class=\"sk-toggleable__label sk-toggleable__label-arrow\">OneHotEncoder</label><div class=\"sk-toggleable__content\"><pre>OneHotEncoder(handle_unknown=&#x27;ignore&#x27;)</pre></div></div></div></div></div></div></div></div><div class=\"sk-parallel-item\"><div class=\"sk-item\"><div class=\"sk-label-container\"><div class=\"sk-label sk-toggleable\"><input class=\"sk-toggleable__control sk-hidden--visually\" id=\"sk-estimator-id-16\" type=\"checkbox\" ><label for=\"sk-estimator-id-16\" class=\"sk-toggleable__label sk-toggleable__label-arrow\">remainder</label><div class=\"sk-toggleable__content\"><pre></pre></div></div></div><div class=\"sk-serial\"><div class=\"sk-item\"><div class=\"sk-serial\"><div class=\"sk-item\"><div class=\"sk-estimator sk-toggleable\"><input class=\"sk-toggleable__control sk-hidden--visually\" id=\"sk-estimator-id-17\" type=\"checkbox\" ><label for=\"sk-estimator-id-17\" class=\"sk-toggleable__label sk-toggleable__label-arrow\">SimpleImputer</label><div class=\"sk-toggleable__content\"><pre>SimpleImputer(strategy=&#x27;median&#x27;)</pre></div></div></div><div class=\"sk-item\"><div class=\"sk-estimator sk-toggleable\"><input class=\"sk-toggleable__control sk-hidden--visually\" id=\"sk-estimator-id-18\" type=\"checkbox\" ><label for=\"sk-estimator-id-18\" class=\"sk-toggleable__label sk-toggleable__label-arrow\">StandardScaler</label><div class=\"sk-toggleable__content\"><pre>StandardScaler()</pre></div></div></div></div></div></div></div></div></div></div><div class=\"sk-item\"><div class=\"sk-estimator sk-toggleable\"><input class=\"sk-toggleable__control sk-hidden--visually\" id=\"sk-estimator-id-19\" type=\"checkbox\" ><label for=\"sk-estimator-id-19\" class=\"sk-toggleable__label sk-toggleable__label-arrow\">LinearSVR</label><div class=\"sk-toggleable__content\"><pre>LinearSVR(C=1, epsilon=0, max_iter=10000000)</pre></div></div></div></div></div></div></div></div><div class=\"sk-parallel-item\"><div class=\"sk-item\"><div class=\"sk-label-container\"><div class=\"sk-label sk-toggleable\"><input class=\"sk-toggleable__control sk-hidden--visually\" id=\"sk-estimator-id-20\" type=\"checkbox\" ><label for=\"sk-estimator-id-20\" class=\"sk-toggleable__label sk-toggleable__label-arrow\">transformer: StandardScaler</label><div class=\"sk-toggleable__content\"><pre>StandardScaler()</pre></div></div></div><div class=\"sk-serial\"><div class=\"sk-item\"><div class=\"sk-estimator sk-toggleable\"><input class=\"sk-toggleable__control sk-hidden--visually\" id=\"sk-estimator-id-21\" type=\"checkbox\" ><label for=\"sk-estimator-id-21\" class=\"sk-toggleable__label sk-toggleable__label-arrow\">StandardScaler</label><div class=\"sk-toggleable__content\"><pre>StandardScaler()</pre></div></div></div></div></div></div></div></div></div></div></div></div></div></div></div>"
      ],
      "text/plain": [
       "GridSearchCV(cv=10,\n",
       "             estimator=TransformedTargetRegressor(regressor=Pipeline(steps=[('columntransformer',\n",
       "                                                                             ColumnTransformer(remainder=Pipeline(steps=[('simpleimputer',\n",
       "                                                                                                                          SimpleImputer(strategy='median')),\n",
       "                                                                                                                         ('standardscaler',\n",
       "                                                                                                                          StandardScaler())]),\n",
       "                                                                                               transformers=[('cat',\n",
       "                                                                                                              Pipeline(steps=[('simpleimputer',\n",
       "                                                                                                                               SimpleImputer(strategy='most_frequent')),\n",
       "                                                                                                                              ('onehotencoder',\n",
       "                                                                                                                               On...\n",
       "                                                                                                              <sklearn.compose._column_transformer.make_column_selector object at 0x7efc95ae4700>)])),\n",
       "                                                                            ('linearsvr',\n",
       "                                                                             LinearSVR(C=1,\n",
       "                                                                                       epsilon=0,\n",
       "                                                                                       max_iter=10000000))]),\n",
       "                                                  transformer=StandardScaler()),\n",
       "             n_jobs=-1,\n",
       "             param_grid={'regressor__linearsvr__C': [0.01, 0.1, 1, 10, 100],\n",
       "                         'regressor__linearsvr__epsilon': [0, 0.01, 0.1, 1,\n",
       "                                                           10]},\n",
       "             scoring=make_scorer(mean_absolute_percentage_error, greater_is_better=False))"
      ]
     },
     "execution_count": 86,
     "metadata": {},
     "output_type": "execute_result"
    }
   ],
   "source": [
    "%%time\n",
    "linear_grid = GridSearchCV(svr_linear, param_grid=param_grid, cv=10, n_jobs=-1, \n",
    "                           scoring=make_scorer(mean_absolute_percentage_error, greater_is_better=False))\n",
    "linear_grid.fit(X, y)"
   ]
  },
  {
   "cell_type": "code",
   "execution_count": 87,
   "id": "137adf46",
   "metadata": {},
   "outputs": [
    {
     "data": {
      "text/plain": [
       "{'regressor__linearsvr__C': 0.01, 'regressor__linearsvr__epsilon': 0.1}"
      ]
     },
     "execution_count": 87,
     "metadata": {},
     "output_type": "execute_result"
    }
   ],
   "source": [
    "linear_grid.best_params_"
   ]
  },
  {
   "cell_type": "code",
   "execution_count": 88,
   "id": "d71aa04e",
   "metadata": {},
   "outputs": [
    {
     "data": {
      "text/plain": [
       "-0.10120084687102786"
      ]
     },
     "execution_count": 88,
     "metadata": {},
     "output_type": "execute_result"
    }
   ],
   "source": [
    "linear_grid.best_score_"
   ]
  },
  {
   "cell_type": "code",
   "execution_count": 93,
   "id": "19fb629e",
   "metadata": {},
   "outputs": [
    {
     "name": "stdout",
     "output_type": "stream",
     "text": [
      "CPU times: user 1.18 s, sys: 4.49 s, total: 5.68 s\n",
      "Wall time: 390 ms\n"
     ]
    },
    {
     "data": {
      "text/plain": [
       "count    10.000000\n",
       "mean      0.101153\n",
       "std       0.019739\n",
       "min       0.077043\n",
       "25%       0.084849\n",
       "50%       0.099276\n",
       "75%       0.113198\n",
       "max       0.138966\n",
       "dtype: float64"
      ]
     },
     "execution_count": 93,
     "metadata": {},
     "output_type": "execute_result"
    }
   ],
   "source": [
    "%%time\n",
    "\n",
    "svr_linear = make_pipeline(preprocessing, LinearSVR(C=0.01, epsilon=0.1, max_iter=10_000_000))\n",
    "svr_linear = TransformedTargetRegressor(svr_linear, transformer=StandardScaler())\n",
    "svr_linear_mapes = cross_val_score(svr_linear, X, y, scoring=make_scorer(mean_absolute_percentage_error), cv=10)\n",
    "pd.Series(svr_linear_mapes).describe()"
   ]
  },
  {
   "cell_type": "code",
   "execution_count": 94,
   "id": "89e7ca99",
   "metadata": {},
   "outputs": [
    {
     "data": {
      "image/png": "[encoded data removed]",
      "text/plain": [
       "<Figure size 640x480 with 1 Axes>"
      ]
     },
     "metadata": {},
     "output_type": "display_data"
    },
    {
     "name": "stdout",
     "output_type": "stream",
     "text": [
      "CPU times: user 1.91 s, sys: 1.75 s, total: 3.66 s\n",
      "Wall time: 2.93 s\n"
     ]
    }
   ],
   "source": [
    "%%time\n",
    "train_and_plot_learning_curve(svr_linear)"
   ]
  },
  {
   "cell_type": "markdown",
   "id": "1e3e4266",
   "metadata": {},
   "source": [
    "### SVR RBF"
   ]
  },
  {
   "cell_type": "code",
   "execution_count": 32,
   "id": "7f503134",
   "metadata": {},
   "outputs": [],
   "source": [
    "from sklearn.svm import SVR"
   ]
  },
  {
   "cell_type": "code",
   "execution_count": 249,
   "id": "fea9fc18",
   "metadata": {},
   "outputs": [],
   "source": [
    "from sklearn.model_selection import RandomizedSearchCV\n",
    "from scipy.stats import randint"
   ]
  },
  {
   "cell_type": "code",
   "execution_count": 258,
   "id": "ee28b606",
   "metadata": {},
   "outputs": [
    {
     "name": "stdout",
     "output_type": "stream",
     "text": [
      "CPU times: user 18.7 s, sys: 0 ns, total: 18.7 s\n",
      "Wall time: 18.7 s\n"
     ]
    }
   ],
   "source": [
    "%%time\n",
    "param_distributions = [\n",
    "    {'regressor__svr__gamma': randint(0, 50), 'regressor__svr__C': randint(1, 100)},\n",
    "]\n",
    "rnd_search = RandomizedSearchCV(\n",
    "    svr, param_distributions=param_distributions, n_iter=10, cv=10,\n",
    "    scoring=make_scorer(mean_absolute_percentage_error), random_state=42)\n",
    "\n",
    "rnd_result = rnd_search.fit(X, y)"
   ]
  },
  {
   "cell_type": "code",
   "execution_count": 259,
   "id": "3887eae8",
   "metadata": {},
   "outputs": [
    {
     "data": {
      "text/plain": [
       "{'regressor__svr__C': 22, 'regressor__svr__gamma': 1}"
      ]
     },
     "execution_count": 259,
     "metadata": {},
     "output_type": "execute_result"
    }
   ],
   "source": [
    "rnd_result.best_params_"
   ]
  },
  {
   "cell_type": "code",
   "execution_count": 33,
   "id": "3f0ea94b",
   "metadata": {},
   "outputs": [
    {
     "name": "stdout",
     "output_type": "stream",
     "text": [
      "CPU times: user 1.18 s, sys: 0 ns, total: 1.18 s\n",
      "Wall time: 1.18 s\n"
     ]
    }
   ],
   "source": [
    "%%time\n",
    "svr_rbf = make_pipeline(preprocessing, SVR(kernel=\"rbf\"))\n",
    "svr_rbf = TransformedTargetRegressor(svr_rbf, transformer=StandardScaler())\n",
    "svr_rbf_mapes = cross_val_score(svr_rbf, X, y, scoring=make_scorer(mean_absolute_percentage_error), cv=10)"
   ]
  },
  {
   "cell_type": "code",
   "execution_count": 35,
   "id": "48d770b1",
   "metadata": {},
   "outputs": [
    {
     "data": {
      "text/plain": [
       "count    10.000000\n",
       "mean      0.085001\n",
       "std       0.012212\n",
       "min       0.069718\n",
       "25%       0.075149\n",
       "50%       0.083982\n",
       "75%       0.093441\n",
       "max       0.106791\n",
       "dtype: float64"
      ]
     },
     "execution_count": 35,
     "metadata": {},
     "output_type": "execute_result"
    }
   ],
   "source": [
    "pd.Series(svr_rbf_mapes).describe()"
   ]
  },
  {
   "cell_type": "markdown",
   "id": "3e147935",
   "metadata": {},
   "source": [
    "# SVR POLY"
   ]
  },
  {
   "cell_type": "code",
   "execution_count": 36,
   "id": "0ff6b74b",
   "metadata": {},
   "outputs": [
    {
     "name": "stdout",
     "output_type": "stream",
     "text": [
      "CPU times: user 27.8 ms, sys: 10.4 ms, total: 38.2 ms\n",
      "Wall time: 255 ms\n"
     ]
    }
   ],
   "source": [
    "%%time\n",
    "svr_poly4 = make_pipeline(preprocessing, SVR(kernel=\"poly\", degree=3))\n",
    "svr_poly4 = TransformedTargetRegressor(svr_poly4, transformer=StandardScaler())\n",
    "svr_poly4_mapes = cross_val_score(svr_poly4, X, y, scoring=make_scorer(mean_absolute_percentage_error), cv=10, n_jobs=-1)"
   ]
  },
  {
   "cell_type": "code",
   "execution_count": 37,
   "id": "1a1eec9e",
   "metadata": {},
   "outputs": [
    {
     "data": {
      "text/plain": [
       "count    10.000000\n",
       "mean      0.130423\n",
       "std       0.031375\n",
       "min       0.095101\n",
       "25%       0.107975\n",
       "50%       0.125624\n",
       "75%       0.141313\n",
       "max       0.200588\n",
       "dtype: float64"
      ]
     },
     "execution_count": 37,
     "metadata": {},
     "output_type": "execute_result"
    }
   ],
   "source": [
    "pd.Series(svr_poly4_mapes).describe()"
   ]
  },
  {
   "cell_type": "markdown",
   "id": "99939118",
   "metadata": {},
   "source": [
    "# SVR Sigmoid"
   ]
  },
  {
   "cell_type": "code",
   "execution_count": 39,
   "id": "be0b6936",
   "metadata": {},
   "outputs": [
    {
     "name": "stdout",
     "output_type": "stream",
     "text": [
      "CPU times: user 22 µs, sys: 10 µs, total: 32 µs\n",
      "Wall time: 35 µs\n"
     ]
    }
   ],
   "source": [
    "%%time\n",
    "svr_sigmoid = make_pipeline(preprocessing, SVR(kernel=\"sigmoid\"))\n",
    "svr_sigmoid = TransformedTargetRegressor(svr_sigmoid, transformer=StandardScaler())"
   ]
  },
  {
   "cell_type": "code",
   "execution_count": 40,
   "id": "c46ded22",
   "metadata": {},
   "outputs": [
    {
     "data": {
      "text/plain": [
       "count    10.000000\n",
       "mean      1.641739\n",
       "std       0.792136\n",
       "min       0.792802\n",
       "25%       1.032438\n",
       "50%       1.402428\n",
       "75%       1.919017\n",
       "max       3.071608\n",
       "dtype: float64"
      ]
     },
     "execution_count": 40,
     "metadata": {},
     "output_type": "execute_result"
    }
   ],
   "source": [
    "svr_sigmoid_mapes = cross_val_score(svr_sigmoid, X, y, scoring=make_scorer(mean_absolute_percentage_error), cv=10, n_jobs=-1)\n",
    "pd.Series(svr_sigmoid_mapes).describe()"
   ]
  },
  {
   "cell_type": "markdown",
   "id": "afd5b82f",
   "metadata": {},
   "source": [
    "# Red neuronal"
   ]
  },
  {
   "cell_type": "code",
   "execution_count": 41,
   "id": "d90743f3",
   "metadata": {},
   "outputs": [],
   "source": [
    "from sklearn.neural_network import MLPRegressor"
   ]
  },
  {
   "cell_type": "code",
   "execution_count": 42,
   "id": "82a80d29",
   "metadata": {},
   "outputs": [
    {
     "name": "stdout",
     "output_type": "stream",
     "text": [
      "CPU times: user 24.7 s, sys: 60 s, total: 1min 24s\n",
      "Wall time: 5.5 s\n"
     ]
    }
   ],
   "source": [
    "%%time\n",
    "nn = make_pipeline(preprocessing, MLPRegressor(hidden_layer_sizes=(100, 50, 20), \n",
    "                                               early_stopping=True, \n",
    "                                               learning_rate='invscaling', random_state=42, max_iter=10_000))\n",
    "nn = TransformedTargetRegressor(nn, transformer=StandardScaler())\n",
    "nn_mapes = cross_val_score(nn, X, y, scoring=make_scorer(mean_absolute_percentage_error), cv=10)"
   ]
  },
  {
   "cell_type": "code",
   "execution_count": 43,
   "id": "833ab737",
   "metadata": {},
   "outputs": [
    {
     "data": {
      "text/plain": [
       "count    10.000000\n",
       "mean      0.095718\n",
       "std       0.014193\n",
       "min       0.071029\n",
       "25%       0.089459\n",
       "50%       0.091929\n",
       "75%       0.106662\n",
       "max       0.116196\n",
       "dtype: float64"
      ]
     },
     "execution_count": 43,
     "metadata": {},
     "output_type": "execute_result"
    }
   ],
   "source": [
    "pd.Series(nn_mapes).describe()"
   ]
  },
  {
   "cell_type": "code",
   "execution_count": null,
   "id": "79409d8d",
   "metadata": {},
   "outputs": [],
   "source": []
  },
  {
   "cell_type": "code",
   "execution_count": null,
   "id": "293347e4",
   "metadata": {},
   "outputs": [],
   "source": [
    "def column_ratio(X):\n",
    "    return X[:, [0]] / X[:, [1]]\n",
    "\n",
    "def ratio_name(function_transformer, feature_names_in):\n",
    "    return [\"ratio\"]  # feature names out\n",
    "\n",
    "def ratio_pipeline():\n",
    "    return make_pipeline(\n",
    "        SimpleImputer(strategy=\"median\"),\n",
    "        FunctionTransformer(column_ratio, feature_names_out=ratio_name),\n",
    "        StandardScaler())\n",
    "\n",
    "cat_pipeline = make_pipeline(\n",
    "    SimpleImputer(strategy=\"most_frequent\"),\n",
    "    OneHotEncoder(handle_unknown=\"ignore\"))\n",
    "\n",
    "log_pipeline = make_pipeline(\n",
    "    SimpleImputer(strategy=\"median\"),\n",
    "    FunctionTransformer(np.log, feature_names_out=\"one-to-one\"),\n",
    "    StandardScaler())\n",
    "\n",
    "cluster_simil = ClusterSimilarity(n_clusters=10, gamma=1., random_state=42)\n",
    "\n",
    "default_num_pipeline = make_pipeline(SimpleImputer(strategy=\"median\"),\n",
    "                                     StandardScaler())\n",
    "\n",
    "preprocessing = ColumnTransformer([\n",
    "        (\"bedrooms\", ratio_pipeline(), [\"total_bedrooms\", \"total_rooms\"]),\n",
    "        (\"rooms_per_house\", ratio_pipeline(), [\"total_rooms\", \"households\"]),\n",
    "        (\"people_per_house\", ratio_pipeline(), [\"population\", \"households\"]),\n",
    "        (\"log\", log_pipeline, [\"floor_number\", \"height\"]),\n",
    "        (\"geo\", cluster_simil, [\"latitude\", \"longitude\"]),\n",
    "        (\"cat\", cat_pipeline, make_column_selector(dtype_include=object)),\n",
    "    ],\n",
    "    remainder=default_num_pipeline) "
   ]
  }
 ],
 "metadata": {
  "kernelspec": {
   "display_name": "Python 3 (ipykernel)",
   "language": "python",
   "name": "python3"
  },
  "language_info": {
   "codemirror_mode": {
    "name": "ipython",
    "version": 3
   },
   "file_extension": ".py",
   "mimetype": "text/x-python",
   "name": "python",
   "nbconvert_exporter": "python",
   "pygments_lexer": "ipython3",
   "version": "3.10.6"
  }
 },
 "nbformat": 4,
 "nbformat_minor": 5
}
