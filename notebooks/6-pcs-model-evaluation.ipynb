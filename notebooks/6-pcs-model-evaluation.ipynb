{
 "cells": [
  {
   "cell_type": "code",
   "execution_count": 22,
   "id": "8f3dccef",
   "metadata": {},
   "outputs": [
    {
     "data": {
      "text/html": [
       "<style>.container { width:90% !important; }</style>"
      ],
      "text/plain": [
       "<IPython.core.display.HTML object>"
      ]
     },
     "metadata": {},
     "output_type": "display_data"
    }
   ],
   "source": [
    "from IPython.display import display, HTML\n",
    "display(HTML(\"<style>.container { width:90% !important; }</style>\"))\n",
    "\n",
    "import json\n",
    "from matplotlib import pyplot as plt\n",
    "import seaborn as sns\n",
    "import pandas as pd\n",
    "import numpy as np\n",
    "import pickle\n",
    "from sklearn.metrics import mean_absolute_percentage_error, r2_score\n",
    "\n",
    "from utils import get_X_y"
   ]
  },
  {
   "cell_type": "code",
   "execution_count": 28,
   "id": "20ab65a1",
   "metadata": {},
   "outputs": [],
   "source": [
    "X_train, y_train = get_X_y('../data/features/train.csv')\n",
    "X_test, y_test = get_X_y('../data/features/test.csv')"
   ]
  },
  {
   "cell_type": "code",
   "execution_count": 33,
   "id": "9fc96bae",
   "metadata": {},
   "outputs": [
    {
     "data": {
      "text/plain": [
       "{'train': {'mape': 0.0934859335112364, 'r2': 0.7033913375790969},\n",
       " 'test': {'mape': 0.09653765689336717, 'r2': 0.6930088268372182}}"
      ]
     },
     "execution_count": 33,
     "metadata": {},
     "output_type": "execute_result"
    }
   ],
   "source": [
    "final_model = pickle.load(open('../models/elasticnet/model.pkl', 'rb'))\n",
    "\n",
    "train_predictions = final_model.predict(X_train)\n",
    "test_predictions = final_model.predict(X_test)\n",
    "\n",
    "train_mape = mean_absolute_percentage_error(y_train, train_predictions)\n",
    "train_r2_score = r2_score(y_train, train_predictions)\n",
    "test_mape = mean_absolute_percentage_error(y_test, test_predictions)\n",
    "test_r2_score = r2_score(y_test, test_predictions)\n",
    "\n",
    "result = {\n",
    "    'train': {\n",
    "        'mape': train_mape,\n",
    "        'r2': train_r2_score,\n",
    "    },\n",
    "    'test': {\n",
    "        'mape': test_mape,\n",
    "        'r2': test_r2_score,\n",
    "    },\n",
    "}\n",
    "result"
   ]
  },
  {
   "cell_type": "code",
   "execution_count": 34,
   "id": "959d274c",
   "metadata": {},
   "outputs": [],
   "source": [
    "metrics = json.dumps(result, indent=4)\n",
    "\n",
    "with open(\"metrics.json\", \"w\") as outfile:\n",
    "    outfile.write(metrics)"
   ]
  },
  {
   "cell_type": "code",
   "execution_count": null,
   "id": "e17d7a5b",
   "metadata": {},
   "outputs": [],
   "source": []
  }
 ],
 "metadata": {
  "kernelspec": {
   "display_name": "Python 3 (ipykernel)",
   "language": "python",
   "name": "python3"
  },
  "language_info": {
   "codemirror_mode": {
    "name": "ipython",
    "version": 3
   },
   "file_extension": ".py",
   "mimetype": "text/x-python",
   "name": "python",
   "nbconvert_exporter": "python",
   "pygments_lexer": "ipython3",
   "version": "3.10.6"
  }
 },
 "nbformat": 4,
 "nbformat_minor": 5
}
